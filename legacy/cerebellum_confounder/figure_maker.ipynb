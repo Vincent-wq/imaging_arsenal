{
 "cells": [
  {
   "cell_type": "code",
   "execution_count": 1,
   "metadata": {},
   "outputs": [],
   "source": [
    "from nipype.interfaces.ants import CreateJacobianDeterminantImage\n",
    "from nipype.interfaces import fsl"
   ]
  },
  {
   "cell_type": "code",
   "execution_count": 2,
   "metadata": {},
   "outputs": [
    {
     "data": {
      "text/plain": [
       "<nipype.interfaces.base.support.InterfaceResult at 0x7ff2e050d080>"
      ]
     },
     "execution_count": 2,
     "metadata": {},
     "output_type": "execute_result"
    }
   ],
   "source": [
    "IN_IMG='/data/ET/sub-0016/ses-1/anat/sub-0016_ses-1_run-1_desc-preproc_T1w.nii.gz';\n",
    "MASK='/data/ET/sub-0016/ses-1/anat/sub-0016_ses-1_run-1_desc-brain_mask.nii.gz';\n",
    "OUT_IMG = '/output/sub-0016_masked_t1.nii.gz';\n",
    "mask = fsl.ApplyMask(\n",
    "    in_file=IN_IMG,\n",
    "    out_file=OUT_IMG,\n",
    "    mask_file=MASK)\n",
    "mask.run()"
   ]
  },
  {
   "cell_type": "code",
   "execution_count": null,
   "metadata": {},
   "outputs": [],
   "source": []
  }
 ],
 "metadata": {
  "kernelspec": {
   "display_name": "Python 3",
   "language": "python",
   "name": "python3"
  },
  "language_info": {
   "codemirror_mode": {
    "name": "ipython",
    "version": 3
   },
   "file_extension": ".py",
   "mimetype": "text/x-python",
   "name": "python",
   "nbconvert_exporter": "python",
   "pygments_lexer": "ipython3",
   "version": "3.7.0"
  }
 },
 "nbformat": 4,
 "nbformat_minor": 4
}
