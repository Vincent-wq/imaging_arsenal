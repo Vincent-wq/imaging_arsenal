{
 "cells": [
  {
   "cell_type": "code",
   "execution_count": 1,
   "metadata": {},
   "outputs": [
    {
     "name": "stderr",
     "output_type": "stream",
     "text": [
      "\n",
      "Bad key \"text.kerning_factor\" on line 4 in\n",
      "/usr/local/miniconda/lib/python3.7/site-packages/matplotlib/mpl-data/stylelib/_classic_test_patch.mplstyle.\n",
      "You probably need to get an updated matplotlibrc file from\n",
      "http://github.com/matplotlib/matplotlib/blob/master/matplotlibrc.template\n",
      "or from the matplotlib source distribution\n"
     ]
    },
    {
     "name": "stdout",
     "output_type": "stream",
     "text": [
      "Reading  PD  freesurfer stats data...\n",
      "Reading  ET  freesurfer stats data...\n",
      "Reading  NC  freesurfer stats data...\n",
      "PD 42\n",
      "ET 38\n",
      "NC 34\n"
     ]
    }
   ],
   "source": [
    "## Preprocessing of freesurfer resutls\n",
    "## Merging all PD/ET/NC freesurfer outputs into one table. /output/all_freesurfer_out.csv\n",
    "#  reading subject list\n",
    "from pathlib import Path\n",
    "import pandas as pd\n",
    "import seaborn as sns\n",
    "out_dir = Path(\"/output\")\n",
    "sub_list_file = out_dir/'subjects.list'\n",
    "sub_list = pd.read_csv(sub_list_file, sep='\\t', header=0, index_col=0)\n",
    "\n",
    "#reading freesurfer results\n",
    "\n",
    "res_file = out_dir/'freesurfer_out_preped.csv'\n",
    "FS_DIR   = out_dir/'freesurfer_output_20.2.0'\n",
    "GROUPS   = ['PD','ET','NC']\n",
    "n_groups = len(GROUPS);\n",
    "group_data={};\n",
    "for i_group in range(n_groups):\n",
    "    print('Reading ' , GROUPS[i_group], ' freesurfer stats data...')\n",
    "    sub_cortical_file = FS_DIR/GROUPS[i_group]/'aseg_stats.txt';\n",
    "    wm_file = FS_DIR/GROUPS[i_group]/'wmparc_stats.txt'; \n",
    "    lh_area_file      = FS_DIR/GROUPS[i_group]/'lh.a2009s.area.txt';      rh_area_file      = FS_DIR/GROUPS[i_group]/'rh.a2009s.area.txt';\n",
    "    lh_meancurv_file  = FS_DIR/GROUPS[i_group]/'lh.a2009s.meancurv.txt';  rh_meancurv_file  = FS_DIR/GROUPS[i_group]/'rh.a2009s.meancurv.txt';\n",
    "    lh_thickness_file = FS_DIR/GROUPS[i_group]/'lh.a2009s.thickness.txt'; rh_thickness_file = FS_DIR/GROUPS[i_group]/'rh.a2009s.thickness.txt';\n",
    "    lh_volume_file    = FS_DIR/GROUPS[i_group]/'lh.a2009s.volume.txt';    rh_volume_file    = FS_DIR/GROUPS[i_group]/'rh.a2009s.volume.txt';\n",
    "    ## drop_list\n",
    "    aseg_drop = [\"EstimatedTotalIntraCranialVol\"];\n",
    "    wm_drop = [\"MaskVol\", \"EstimatedTotalIntraCranialVol\", \"CerebralWhiteMatterVol\", \"rhCerebralWhiteMatterVol\", \"lhCerebralWhiteMatterVol\"];\n",
    "    area_drop1 = [\"BrainSegVolNotVent\"];                   area_drop2 = [\"BrainSegVolNotVent\", \"eTIV\"];\n",
    "    meancurv_drop1  = [\"BrainSegVolNotVent\", \"eTIV\"];  meancurv_drop2 = [\"BrainSegVolNotVent\", \"eTIV\"];\n",
    "    thickness_drop1 = [\"BrainSegVolNotVent\", \"eTIV\"]; thickness_drop2 = [\"BrainSegVolNotVent\", \"eTIV\"];\n",
    "    volume_drop1    = [\"BrainSegVolNotVent\", \"eTIV\"];    volume_drop2 = [\"BrainSegVolNotVent\", \"eTIV\"];\n",
    "    ##\n",
    "    subcortical_tab  = pd.read_csv(sub_cortical_file, sep='\\t', header=0, index_col=0); subcortical_tab.drop(aseg_drop, axis=1, inplace=True);\n",
    "    res    = sub_list.join(subcortical_tab, how='left');\n",
    "    wm_tab = pd.read_csv(wm_file, sep='\\t', header=0, index_col=0); wm_tab.drop(wm_drop, axis=1, inplace=True);\n",
    "    res1   = res.join(wm_tab, how='left');\n",
    "    lh_area_tab = pd.read_csv(lh_area_file, sep='\\t', header=0, index_col=0); lh_area_tab.drop(area_drop1, axis=1, inplace=True);\n",
    "    rh_area_tab = pd.read_csv(rh_area_file, sep='\\t', header=0, index_col=0); rh_area_tab.drop(area_drop2, axis=1, inplace=True);\n",
    "    res2 = res1.join(lh_area_tab, how='left'); res3 = res2.join(rh_area_tab, how='left');\n",
    "    lh_meancurv_tab = pd.read_csv(lh_meancurv_file, sep='\\t', header=0, index_col=0); lh_meancurv_tab.drop(meancurv_drop1, axis=1, inplace=True);\n",
    "    rh_meancurv_tab = pd.read_csv(rh_meancurv_file, sep='\\t', header=0, index_col=0); rh_meancurv_tab.drop(meancurv_drop2, axis=1, inplace=True);\n",
    "    res4 = res3.join(lh_meancurv_tab, how='left'); res5 = res4.join(rh_meancurv_tab, how='left');\n",
    "    lh_thickness_tab = pd.read_csv(lh_thickness_file, sep='\\t', header=0, index_col=0); lh_thickness_tab.drop(thickness_drop1, axis=1, inplace=True);\n",
    "    rh_thickness_tab = pd.read_csv(rh_thickness_file, sep='\\t', header=0, index_col=0); rh_thickness_tab.drop(thickness_drop2, axis=1, inplace=True);\n",
    "    res6 = res5.join(lh_thickness_tab, how='left'); res7 = res6.join(rh_thickness_tab, how='left');\n",
    "    lh_volume_tab = pd.read_csv(lh_volume_file, sep='\\t', header=0, index_col=0); lh_volume_tab.drop(volume_drop1, axis=1, inplace=True);\n",
    "    rh_volume_tab = pd.read_csv(rh_volume_file, sep='\\t', header=0, index_col=0); rh_volume_tab.drop(volume_drop2, axis=1, inplace=True);\n",
    "    res8 = res7.join(lh_volume_tab, how='left'); res9 = res8.join(rh_volume_tab, how='left');\n",
    "    group_data[GROUPS[i_group]]=res9[res9['diagnosis']==GROUPS[i_group]]\n",
    "all_data = pd.concat([group_data['PD'], group_data['ET'], group_data['NC']])\n",
    "for x in GROUPS:\n",
    "    print(x , len(all_data[all_data[\"diagnosis\"]==x]))"
   ]
  },
  {
   "cell_type": "code",
   "execution_count": 2,
   "metadata": {},
   "outputs": [],
   "source": [
    "# adding SUIT space ROI data\n",
    "suit_label_file  = out_dir/'atlasPackage'/'atlasesSUIT'/'Lobules-SUIT.nii.lut'\n",
    "suit_res_file = out_dir/'res_SUIT'/'res'/'res_SUIT34.csv'\n",
    "suit_res_df = pd.read_csv(suit_res_file, sep=',', header=None, index_col=None)\n",
    "suit_label_df = pd.read_csv(suit_label_file, sep=' ', header=None, index_col=None); \n",
    "suit_res_df.columns=suit_label_df.iloc[:,7];suit_res_df.index=all_data.index;\n",
    "all_data = all_data.join(suit_res_df, how='left');  \n",
    "\n",
    "#Adding MDTB space data\n",
    "MDTB_res_file = out_dir/'res_SUIT'/'res'/'res_MDTB10.csv'\n",
    "MDTB_res_df = pd.read_csv(MDTB_res_file, sep=',', header=None, index_col=None)\n",
    "MDTB_res_df.columns=['MDTB_'+str(x+1) for x in range(10)]; MDTB_res_df.index=all_data.index;\n",
    "all_data = all_data.join(MDTB_res_df, how='left')"
   ]
  },
  {
   "cell_type": "code",
   "execution_count": 3,
   "metadata": {},
   "outputs": [
    {
     "data": {
      "text/plain": [
       "Index(['age', 'sex', 'diagnosis', 'Left_Lateral_Ventricle',\n",
       "       'Left_Inf_Lat_Vent', 'Left_Cerebellum_White_Matter',\n",
       "       'Left_Cerebellum_Cortex', 'Left_Thalamus_Proper', 'Left_Caudate',\n",
       "       'Left_Putamen',\n",
       "       ...\n",
       "       'MDTB_1', 'MDTB_2', 'MDTB_3', 'MDTB_4', 'MDTB_5', 'MDTB_6', 'MDTB_7',\n",
       "       'MDTB_8', 'MDTB_9', 'MDTB_10'],\n",
       "      dtype='object', length=779)"
      ]
     },
     "execution_count": 3,
     "metadata": {},
     "output_type": "execute_result"
    }
   ],
   "source": [
    "all_data.index   = [x.replace('-','_') for x in all_data.index]\n",
    "all_data.columns = [x.replace('-','_') for x in all_data.columns]\n",
    "# remove problematic subjects\n",
    "all_data=all_data.drop(index='sub_0073'); # only left brain NC\n",
    "all_data=all_data.drop(index='sub_0064'); # super large head normal control, NC\n",
    "all_data.columns"
   ]
  },
  {
   "cell_type": "code",
   "execution_count": 4,
   "metadata": {},
   "outputs": [
    {
     "name": "stdout",
     "output_type": "stream",
     "text": [
      "sub-0004 2782\n",
      "sub-0009 2822\n",
      "sub-0022 2827\n",
      "sub-0026 2893\n",
      "sub-0035 2845\n",
      "sub-0109 2748\n",
      "sub-0145 2885\n",
      "sub-1160 2970\n",
      "sub-4200 2856\n",
      "sub-0060 2828\n",
      "sub-0073 0\n",
      "sub-0113 2920\n",
      "MTTDB\n",
      "sub-0073 745\n"
     ]
    },
    {
     "data": {
      "text/html": [
       "<div>\n",
       "<style scoped>\n",
       "    .dataframe tbody tr th:only-of-type {\n",
       "        vertical-align: middle;\n",
       "    }\n",
       "\n",
       "    .dataframe tbody tr th {\n",
       "        vertical-align: top;\n",
       "    }\n",
       "\n",
       "    .dataframe thead th {\n",
       "        text-align: right;\n",
       "    }\n",
       "</style>\n",
       "<table border=\"1\" class=\"dataframe\">\n",
       "  <thead>\n",
       "    <tr style=\"text-align: right;\">\n",
       "      <th></th>\n",
       "      <th>age</th>\n",
       "      <th>sex</th>\n",
       "      <th>diagnosis</th>\n",
       "      <th>Left_Lateral_Ventricle</th>\n",
       "      <th>Left_Inf_Lat_Vent</th>\n",
       "      <th>Left_Cerebellum_White_Matter</th>\n",
       "      <th>Left_Cerebellum_Cortex</th>\n",
       "      <th>Left_Thalamus_Proper</th>\n",
       "      <th>Left_Caudate</th>\n",
       "      <th>Left_Putamen</th>\n",
       "      <th>...</th>\n",
       "      <th>MDTB_1</th>\n",
       "      <th>MDTB_2</th>\n",
       "      <th>MDTB_3</th>\n",
       "      <th>MDTB_4</th>\n",
       "      <th>MDTB_5</th>\n",
       "      <th>MDTB_6</th>\n",
       "      <th>MDTB_7</th>\n",
       "      <th>MDTB_8</th>\n",
       "      <th>MDTB_9</th>\n",
       "      <th>MDTB_10</th>\n",
       "    </tr>\n",
       "  </thead>\n",
       "  <tbody>\n",
       "  </tbody>\n",
       "</table>\n",
       "<p>0 rows × 779 columns</p>\n",
       "</div>"
      ],
      "text/plain": [
       "Empty DataFrame\n",
       "Columns: [age, sex, diagnosis, Left_Lateral_Ventricle, Left_Inf_Lat_Vent, Left_Cerebellum_White_Matter, Left_Cerebellum_Cortex, Left_Thalamus_Proper, Left_Caudate, Left_Putamen, Left_Pallidum, 3rd_Ventricle, 4th_Ventricle, Brain_Stem, Left_Hippocampus, Left_Amygdala, CSF, Left_Accumbens_area, Left_VentralDC, Left_vessel, Left_choroid_plexus, Right_Lateral_Ventricle, Right_Inf_Lat_Vent, Right_Cerebellum_White_Matter, Right_Cerebellum_Cortex, Right_Thalamus_Proper, Right_Caudate, Right_Putamen, Right_Pallidum, Right_Hippocampus, Right_Amygdala, Right_Accumbens_area, Right_VentralDC, Right_vessel, Right_choroid_plexus, 5th_Ventricle, WM_hypointensities, Left_WM_hypointensities, Right_WM_hypointensities, non_WM_hypointensities, Left_non_WM_hypointensities, Right_non_WM_hypointensities, Optic_Chiasm, CC_Posterior, CC_Mid_Posterior, CC_Central, CC_Mid_Anterior, CC_Anterior, BrainSegVol, BrainSegVolNotVent, BrainSegVolNotVentSurf, lhCortexVol, rhCortexVol, CortexVol, lhCerebralWhiteMatterVol, rhCerebralWhiteMatterVol, CerebralWhiteMatterVol, SubCortGrayVol, TotalGrayVol, SupraTentorialVol, SupraTentorialVolNotVent, SupraTentorialVolNotVentVox, MaskVol, BrainSegVol_to_eTIV, MaskVol_to_eTIV, lhSurfaceHoles, rhSurfaceHoles, SurfaceHoles, wm_lh_bankssts, wm_lh_caudalanteriorcingulate, wm_lh_caudalmiddlefrontal, wm_lh_cuneus, wm_lh_entorhinal, wm_lh_fusiform, wm_lh_inferiorparietal, wm_lh_inferiortemporal, wm_lh_isthmuscingulate, wm_lh_lateraloccipital, wm_lh_lateralorbitofrontal, wm_lh_lingual, wm_lh_medialorbitofrontal, wm_lh_middletemporal, wm_lh_parahippocampal, wm_lh_paracentral, wm_lh_parsopercularis, wm_lh_parsorbitalis, wm_lh_parstriangularis, wm_lh_pericalcarine, wm_lh_postcentral, wm_lh_posteriorcingulate, wm_lh_precentral, wm_lh_precuneus, wm_lh_rostralanteriorcingulate, wm_lh_rostralmiddlefrontal, wm_lh_superiorfrontal, wm_lh_superiorparietal, wm_lh_superiortemporal, wm_lh_supramarginal, wm_lh_frontalpole, wm_lh_temporalpole, ...]\n",
       "Index: []\n",
       "\n",
       "[0 rows x 779 columns]"
      ]
     },
     "execution_count": 4,
     "metadata": {},
     "output_type": "execute_result"
    }
   ],
   "source": [
    "# QA checking processing problems\n",
    "import numpy as np\n",
    "[print(x,suit_res_df.loc[x,'Left_I_IV']) \n",
    " for x in suit_res_df.index if suit_res_df.loc[x,'Left_I_IV']<3000]\n",
    "print('MTTDB')\n",
    "[print(x,MDTB_res_df.loc[x,'MDTB_1']) \n",
    " for x in MDTB_res_df.index if MDTB_res_df.loc[x,'MDTB_1']<3000]\n",
    "# QA checking: nan errors (eTIV)\n",
    "all_data[all_data.isna().any(axis=1)]"
   ]
  },
  {
   "cell_type": "code",
   "execution_count": 5,
   "metadata": {},
   "outputs": [
    {
     "name": "stdout",
     "output_type": "stream",
     "text": [
      "Index(['age', 'sex', 'diagnosis', 'Left_Lateral_Ventricle',\n",
      "       'Left_Inf_Lat_Vent', 'Left_Cerebellum_White_Matter',\n",
      "       'Left_Cerebellum_Cortex', 'Left_Thalamus_Proper', 'Left_Caudate',\n",
      "       'Left_Putamen',\n",
      "       ...\n",
      "       'MDTB_6', 'MDTB_7', 'MDTB_8', 'MDTB_9', 'MDTB_10', 'is_PD', 'is_ET',\n",
      "       'is_NC', 'is_Male', 'is_Female'],\n",
      "      dtype='object', length=784)\n"
     ]
    }
   ],
   "source": [
    "# generate the indicator variables for diagnosis and sex\n",
    "import pandas as pd\n",
    "import seaborn as sns\n",
    "#reading freesurfer results\n",
    "def eqStr(x, str_y):\n",
    "    if x == str_y:\n",
    "        return 1\n",
    "    else:\n",
    "        return 0\n",
    "tab_data = all_data.copy();\n",
    "tab_data[\"is_PD\"]     = [eqStr(x, \"PD\") for x in tab_data[\"diagnosis\"]];\n",
    "tab_data[\"is_ET\"]     = [eqStr(x, \"ET\") for x in tab_data[\"diagnosis\"]];\n",
    "tab_data[\"is_NC\"]     = [eqStr(x, \"NC\") for x in tab_data[\"diagnosis\"]];\n",
    "tab_data[\"is_Male\"]   = [eqStr(x, \"M\") for x in tab_data[\"sex\"]];\n",
    "tab_data[\"is_Female\"] = [eqStr(x, \"F\") for x in tab_data[\"sex\"]];\n",
    "tab_data=tab_data.rename(index=dict(zip(tab_data.index, [x.replace('-','_') for x in tab_data.index])),\n",
    "                         columns=dict(zip(tab_data.columns, [x.replace('-','_') for x in tab_data.columns])),)\n",
    "print(tab_data.columns)"
   ]
  },
  {
   "cell_type": "code",
   "execution_count": 6,
   "metadata": {},
   "outputs": [
    {
     "name": "stdout",
     "output_type": "stream",
     "text": [
      "PD 42\n",
      "ET 38\n",
      "NC 32\n"
     ]
    },
    {
     "data": {
      "text/plain": [
       "<seaborn.axisgrid.FacetGrid at 0x7f87e00b3f98>"
      ]
     },
     "execution_count": 6,
     "metadata": {},
     "output_type": "execute_result"
    },
    {
     "data": {
      "image/png": "[encoded data removed]",
      "text/plain": [
       "<Figure size 648x432 with 6 Axes>"
      ]
     },
     "metadata": {},
     "output_type": "display_data"
    }
   ],
   "source": [
    "# plot sex and diagnosis distribution 2*3\n",
    "for x in GROUPS:\n",
    "    print(x , len(tab_data[tab_data[\"diagnosis\"]==x]))\n",
    "sns.set_theme(style=\"darkgrid\")\n",
    "sns.displot(\n",
    "    tab_data, x=\"age\", col=\"diagnosis\", row=\"sex\", \n",
    "    binwidth=3, height=3, facet_kws=dict(margin_titles=True))"
   ]
  },
  {
   "cell_type": "code",
   "execution_count": 7,
   "metadata": {},
   "outputs": [],
   "source": [
    "tab_data.to_csv(res_file)"
   ]
  },
  {
   "cell_type": "code",
   "execution_count": 8,
   "metadata": {},
   "outputs": [
    {
     "name": "stdout",
     "output_type": "stream",
     "text": [
      "ET Male/Female:  28 / 10\n",
      "NC Male/Female:  21 / 11\n",
      "Group age mean:\n"
     ]
    },
    {
     "data": {
      "text/html": [
       "<div>\n",
       "<style scoped>\n",
       "    .dataframe tbody tr th:only-of-type {\n",
       "        vertical-align: middle;\n",
       "    }\n",
       "\n",
       "    .dataframe tbody tr th {\n",
       "        vertical-align: top;\n",
       "    }\n",
       "\n",
       "    .dataframe thead th {\n",
       "        text-align: right;\n",
       "    }\n",
       "</style>\n",
       "<table border=\"1\" class=\"dataframe\">\n",
       "  <thead>\n",
       "    <tr style=\"text-align: right;\">\n",
       "      <th></th>\n",
       "      <th>age</th>\n",
       "    </tr>\n",
       "    <tr>\n",
       "      <th>diagnosis</th>\n",
       "      <th></th>\n",
       "    </tr>\n",
       "  </thead>\n",
       "  <tbody>\n",
       "    <tr>\n",
       "      <th>ET</th>\n",
       "      <td>73.394737</td>\n",
       "    </tr>\n",
       "    <tr>\n",
       "      <th>NC</th>\n",
       "      <td>56.312500</td>\n",
       "    </tr>\n",
       "    <tr>\n",
       "      <th>PD</th>\n",
       "      <td>62.000000</td>\n",
       "    </tr>\n",
       "  </tbody>\n",
       "</table>\n",
       "</div>"
      ],
      "text/plain": [
       "                 age\n",
       "diagnosis           \n",
       "ET         73.394737\n",
       "NC         56.312500\n",
       "PD         62.000000"
      ]
     },
     "metadata": {},
     "output_type": "display_data"
    },
    {
     "name": "stdout",
     "output_type": "stream",
     "text": [
      "Group age standard deviation:\n"
     ]
    },
    {
     "data": {
      "text/html": [
       "<div>\n",
       "<style scoped>\n",
       "    .dataframe tbody tr th:only-of-type {\n",
       "        vertical-align: middle;\n",
       "    }\n",
       "\n",
       "    .dataframe tbody tr th {\n",
       "        vertical-align: top;\n",
       "    }\n",
       "\n",
       "    .dataframe thead th {\n",
       "        text-align: right;\n",
       "    }\n",
       "</style>\n",
       "<table border=\"1\" class=\"dataframe\">\n",
       "  <thead>\n",
       "    <tr style=\"text-align: right;\">\n",
       "      <th></th>\n",
       "      <th>age</th>\n",
       "    </tr>\n",
       "    <tr>\n",
       "      <th>diagnosis</th>\n",
       "      <th></th>\n",
       "    </tr>\n",
       "  </thead>\n",
       "  <tbody>\n",
       "    <tr>\n",
       "      <th>ET</th>\n",
       "      <td>6.965317</td>\n",
       "    </tr>\n",
       "    <tr>\n",
       "      <th>NC</th>\n",
       "      <td>11.093263</td>\n",
       "    </tr>\n",
       "    <tr>\n",
       "      <th>PD</th>\n",
       "      <td>8.588137</td>\n",
       "    </tr>\n",
       "  </tbody>\n",
       "</table>\n",
       "</div>"
      ],
      "text/plain": [
       "                 age\n",
       "diagnosis           \n",
       "ET          6.965317\n",
       "NC         11.093263\n",
       "PD          8.588137"
      ]
     },
     "metadata": {},
     "output_type": "display_data"
    },
    {
     "name": "stdout",
     "output_type": "stream",
     "text": [
      "chisqure test for ET and NC sex (chisq, pval):\n",
      "\tResults are:  chisq =0.2220, pvalue = 0.6375\n",
      "Independent t test for ET and NC age (tstat, pval, df):\n",
      "\tResults are:  tstat =7.8386, pvalue = 0.0000, df = 68\n"
     ]
    }
   ],
   "source": [
    "# description of subjects\n",
    "import numpy as np\n",
    "import statsmodels.stats.weightstats as ws\n",
    "import scipy.stats\n",
    "\n",
    "demo_df=tab_data[[\"age\",\"diagnosis\",\"sex\"]];\n",
    "\n",
    "# 1. reporrt sex\n",
    "et_m=demo_df[(demo_df['diagnosis']=='ET')&(demo_df['sex']=='M')].shape[0];\n",
    "et_f=demo_df[(demo_df['diagnosis']=='ET')&(demo_df['sex']=='F')].shape[0];\n",
    "nc_m=demo_df[(demo_df['diagnosis']=='NC')&(demo_df['sex']=='M')].shape[0];\n",
    "nc_f=demo_df[(demo_df['diagnosis']=='NC')&(demo_df['sex']=='F')].shape[0];\n",
    "\n",
    "print('ET Male/Female: ', et_m, '/', et_f)\n",
    "print('NC Male/Female: ', nc_m, '/', nc_f)\n",
    "\n",
    "# 2. report age mean and std\n",
    "print(\"Group age mean:\"); display(demo_df.groupby(['diagnosis']).mean())\n",
    "print(\"Group age standard deviation:\");display(demo_df.groupby(['diagnosis']).std())\n",
    "\n",
    "# 3. chi2 tests for sex\n",
    "print('chisqure test for ET and NC sex (chisq, pval):')\n",
    "chisq, chi_pval = scipy.stats.chi2_contingency([[et_m, et_f], [nc_m, nc_f]])[:2]\n",
    "print('\\tResults are: ','chisq =%.4f, pvalue = %.4f'%(chisq, chi_pval))\n",
    "\n",
    "# 4. t tests for age\n",
    "print('Independent t test for ET and NC age (tstat, pval, df):')\n",
    "t_stat,t_pval,t_df=ws.ttest_ind(demo_df[demo_df['diagnosis']=='ET']['age'], demo_df[demo_df['diagnosis']=='NC']['age'],\n",
    "                                alternative='two-sided', usevar='pooled')\n",
    "print('\\tResults are: ','tstat =%.4f, pvalue = %.4f, df = %i'%(t_stat, t_pval, t_df))"
   ]
  },
  {
   "cell_type": "code",
   "execution_count": null,
   "metadata": {},
   "outputs": [],
   "source": []
  }
 ],
 "metadata": {
  "kernelspec": {
   "display_name": "Python 3",
   "language": "python",
   "name": "python3"
  },
  "language_info": {
   "codemirror_mode": {
    "name": "ipython",
    "version": 3
   },
   "file_extension": ".py",
   "mimetype": "text/x-python",
   "name": "python",
   "nbconvert_exporter": "python",
   "pygments_lexer": "ipython3",
   "version": "3.7.0"
  }
 },
 "nbformat": 4,
 "nbformat_minor": 4
}
