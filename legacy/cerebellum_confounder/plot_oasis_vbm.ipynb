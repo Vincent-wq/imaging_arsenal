{
 "cells": [
  {
   "cell_type": "code",
   "execution_count": 1,
   "metadata": {
    "collapsed": false,
    "jupyter": {
     "outputs_hidden": false
    }
   },
   "outputs": [],
   "source": [
    "%matplotlib inline|"
   ]
  },
  {
   "cell_type": "markdown",
   "metadata": {},
   "source": [
    "\n",
    "Voxel-Based Morphometry on Oasis dataset\n",
    "========================================\n",
    "\n",
    "This example uses Voxel-Based Morphometry (VBM) to study the relationship\n",
    "between aging and gray matter density.\n",
    "\n",
    "The data come from the `OASIS <http://www.oasis-brains.org/>`_ project.\n",
    "If you use it, you need to agree with the data usage agreement available\n",
    "on the website.\n",
    "\n",
    "It has been run through a standard VBM pipeline (using SPM8 and\n",
    "NewSegment) to create VBM maps, which we study here.\n",
    "\n",
    "Predictive modeling analysis: VBM bio-markers of aging?\n",
    "--------------------------------------------------------\n",
    "\n",
    "We run a standard SVM-ANOVA nilearn pipeline to predict age from the VBM\n",
    "data. We use only 100 subjects from the OASIS dataset to limit the memory\n",
    "usage.\n",
    "\n",
    "Note that for an actual predictive modeling study of aging, the study\n",
    "should be ran on the full set of subjects. Also, all parameters should be set\n",
    "by cross-validation. This includes the smoothing applied to the data and the\n",
    "number of features selected by the ANOVA step. Indeed, even these\n",
    "data-preparation parameter impact significantly the prediction score.\n",
    "\n",
    "\n",
    "Also, parameters such as the smoothing should be applied to the data and the\n",
    "number of features selected by the ANOVA step should be set by nested\n",
    "cross-validation, as they impact significantly the prediction score.\n",
    "\n",
    "Brain mapping with mass univariate\n",
    "-----------------------------------\n",
    "\n",
    "SVM weights are very noisy, partly because heavy smoothing is detrimental\n",
    "for the prediction here. A standard analysis using mass-univariate GLM\n",
    "(here permuted to have exact correction for multiple comparisons) gives a\n",
    "much clearer view of the important regions.\n",
    "\n",
    "____\n"
   ]
  },
  {
   "cell_type": "code",
   "execution_count": 1,
   "metadata": {
    "collapsed": false,
    "jupyter": {
     "outputs_hidden": false
    }
   },
   "outputs": [
    {
     "name": "stderr",
     "output_type": "stream",
     "text": [
      "\n",
      "Bad key \"text.kerning_factor\" on line 4 in\n",
      "/usr/local/miniconda/lib/python3.7/site-packages/matplotlib/mpl-data/stylelib/_classic_test_patch.mplstyle.\n",
      "You probably need to get an updated matplotlibrc file from\n",
      "http://github.com/matplotlib/matplotlib/blob/master/matplotlibrc.template\n",
      "or from the matplotlib source distribution\n"
     ]
    }
   ],
   "source": [
    "# Authors: Elvis Dhomatob, <elvis.dohmatob@inria.fr>, Apr. 2014\n",
    "#          Virgile Fritsch, <virgile.fritsch@inria.fr>, Apr 2014\n",
    "#          Gael Varoquaux, Apr 2014\n",
    "#          Andres Hoyos-Idrobo, Apr 2017\n",
    "import numpy as np\n",
    "import matplotlib.pyplot as plt\n",
    "from nilearn import datasets\n",
    "from nilearn.input_data import NiftiMasker\n",
    "from nilearn.image import get_data\n",
    "\n",
    "n_subjects = 100  # more subjects requires more memory"
   ]
  },
  {
   "cell_type": "markdown",
   "metadata": {},
   "source": [
    "Load Oasis dataset\n",
    "-------------------\n",
    "\n"
   ]
  },
  {
   "cell_type": "code",
   "execution_count": 2,
   "metadata": {
    "collapsed": false,
    "jupyter": {
     "outputs_hidden": false
    }
   },
   "outputs": [
    {
     "name": "stdout",
     "output_type": "stream",
     "text": [
      "First gray-matter anatomy image (3D) is located at: /home/neuro/nilearn_data/oasis1/OAS1_0001_MR1/mwrc1OAS1_0001_MR1_mpr_anon_fslswapdim_bet.nii.gz\n",
      "First white-matter anatomy image (3D) is located at: /home/neuro/nilearn_data/oasis1/OAS1_0001_MR1/mwrc2OAS1_0001_MR1_mpr_anon_fslswapdim_bet.nii.gz\n"
     ]
    },
    {
     "name": "stderr",
     "output_type": "stream",
     "text": [
      "/usr/local/miniconda/lib/python3.7/site-packages/numpy/lib/npyio.py:2278: VisibleDeprecationWarning: Reading unicode strings without specifying the encoding argument is deprecated. Set the encoding, use None for the system default.\n",
      "  output = genfromtxt(fname, **kwargs)\n"
     ]
    }
   ],
   "source": [
    "oasis_dataset = datasets.fetch_oasis_vbm(n_subjects=n_subjects)\n",
    "gray_matter_map_filenames = oasis_dataset.gray_matter_maps\n",
    "age = oasis_dataset.ext_vars['age'].astype(float)\n",
    "\n",
    "# Split data into training set and test set\n",
    "from sklearn.model_selection import train_test_split\n",
    "gm_imgs_train, gm_imgs_test, age_train, age_test = train_test_split(\n",
    "    gray_matter_map_filenames, age, train_size=.6, random_state=0)\n",
    "\n",
    "# print basic information on the dataset\n",
    "print('First gray-matter anatomy image (3D) is located at: %s' %\n",
    "      oasis_dataset.gray_matter_maps[0])  # 3D data\n",
    "print('First white-matter anatomy image (3D) is located at: %s' %\n",
    "      oasis_dataset.white_matter_maps[0])  # 3D data"
   ]
  },
  {
   "cell_type": "markdown",
   "metadata": {},
   "source": [
    "Preprocess data\n",
    "----------------\n",
    "\n"
   ]
  },
  {
   "cell_type": "code",
   "execution_count": 3,
   "metadata": {
    "collapsed": false,
    "jupyter": {
     "outputs_hidden": false
    }
   },
   "outputs": [],
   "source": [
    "nifti_masker = NiftiMasker(\n",
    "    standardize=False,\n",
    "    smoothing_fwhm=2,\n",
    "    memory='nilearn_cache')  # cache options\n",
    "gm_maps_masked = nifti_masker.fit_transform(gm_imgs_train)\n",
    "\n",
    "# The features with too low between-subject variance are removed using\n",
    "# :class:`sklearn.feature_selection.VarianceThreshold`.\n",
    "from sklearn.feature_selection import VarianceThreshold\n",
    "variance_threshold = VarianceThreshold(threshold=.01)\n",
    "gm_maps_thresholded = variance_threshold.fit_transform(gm_maps_masked)\n",
    "gm_maps_masked = variance_threshold.inverse_transform(gm_maps_thresholded)\n",
    "\n",
    "# Then we convert the data back to the mask image in order to use it for\n",
    "# decoding process\n",
    "mask = nifti_masker.inverse_transform(variance_threshold.get_support())"
   ]
  },
  {
   "cell_type": "markdown",
   "metadata": {},
   "source": [
    "Prediction pipeline with ANOVA and SVR using\n",
    ":class:`nilearn.decoding.DecoderRegressor` Object\n",
    "\n"
   ]
  },
  {
   "cell_type": "code",
   "execution_count": 4,
   "metadata": {
    "collapsed": false,
    "jupyter": {
     "outputs_hidden": false
    }
   },
   "outputs": [
    {
     "name": "stderr",
     "output_type": "stream",
     "text": [
      "/usr/local/miniconda/lib/python3.7/site-packages/sklearn/utils/deprecation.py:143: FutureWarning: The sklearn.linear_model.base module is  deprecated in version 0.22 and will be removed in version 0.24. The corresponding classes / functions should instead be imported from sklearn.linear_model. Anything that cannot be imported from sklearn.linear_model is now part of the private API.\n",
      "  warnings.warn(message, FutureWarning)\n"
     ]
    },
    {
     "ename": "ImportError",
     "evalue": "cannot import name 'DecoderRegressor' from 'nilearn.decoding' (/usr/local/miniconda/lib/python3.7/site-packages/nilearn/decoding/__init__.py)",
     "output_type": "error",
     "traceback": [
      "\u001b[0;31m---------------------------------------------------------------------------\u001b[0m",
      "\u001b[0;31mImportError\u001b[0m                               Traceback (most recent call last)",
      "\u001b[0;32m<ipython-input-4-f397af27e790>\u001b[0m in \u001b[0;36m<module>\u001b[0;34m\u001b[0m\n\u001b[1;32m      8\u001b[0m \u001b[0;31m# also want to set mask hyperparameter to be the mask we just obtained above.\u001b[0m\u001b[0;34m\u001b[0m\u001b[0;34m\u001b[0m\u001b[0m\n\u001b[1;32m      9\u001b[0m \u001b[0;34m\u001b[0m\u001b[0m\n\u001b[0;32m---> 10\u001b[0;31m \u001b[0;32mfrom\u001b[0m \u001b[0mnilearn\u001b[0m\u001b[0;34m.\u001b[0m\u001b[0mdecoding\u001b[0m \u001b[0;32mimport\u001b[0m \u001b[0mDecoderRegressor\u001b[0m\u001b[0;34m\u001b[0m\u001b[0m\n\u001b[0m\u001b[1;32m     11\u001b[0m decoder = DecoderRegressor(estimator='svr', mask=mask,\n\u001b[1;32m     12\u001b[0m                            \u001b[0mscoring\u001b[0m\u001b[0;34m=\u001b[0m\u001b[0;34m'neg_mean_absolute_error'\u001b[0m\u001b[0;34m,\u001b[0m\u001b[0;34m\u001b[0m\u001b[0m\n",
      "\u001b[0;31mImportError\u001b[0m: cannot import name 'DecoderRegressor' from 'nilearn.decoding' (/usr/local/miniconda/lib/python3.7/site-packages/nilearn/decoding/__init__.py)"
     ]
    }
   ],
   "source": [
    "# In nilearn we can benefit from the built-in DecoderRegressor object to\n",
    "# do ANOVA with SVR instead of manually defining the whole pipeline.\n",
    "# This estimator also uses Cross Validation to select best models and ensemble\n",
    "# them. Furthermore, you can pass n_jobs=<some_high_value> to the\n",
    "# DecoderRegressor class to take advantage of a multi-core system.\n",
    "# To save time (because these are anat images with many voxels), we include\n",
    "# only the 1-percent voxels most correlated with the age variable to fit. We\n",
    "# also want to set mask hyperparameter to be the mask we just obtained above.\n",
    "\n",
    "from nilearn.decoding import DecoderRegressor\n",
    "decoder = DecoderRegressor(estimator='svr', mask=mask,\n",
    "                           scoring='neg_mean_absolute_error',\n",
    "                           screening_percentile=1,\n",
    "                           n_jobs=1)\n",
    "# Fit and predict with the decoder\n",
    "decoder.fit(gm_imgs_train, age_train)\n",
    "\n",
    "# Sort test data for better visualization (trend, etc.)\n",
    "perm = np.argsort(age_test)[::-1]\n",
    "age_test = age_test[perm]\n",
    "gm_imgs_test = np.array(gm_imgs_test)[perm]\n",
    "age_pred = decoder.predict(gm_imgs_test)\n",
    "\n",
    "prediction_score = -np.mean(decoder.cv_scores_['beta'])\n",
    "\n",
    "print(\"=== DECODER ===\")\n",
    "print(\"explained variance for the cross-validation: %f\" % prediction_score)\n",
    "print(\"\")"
   ]
  },
  {
   "cell_type": "code",
   "execution_count": 5,
   "metadata": {},
   "outputs": [
    {
     "data": {
      "text/plain": [
       "'0.6.2'"
      ]
     },
     "execution_count": 5,
     "metadata": {},
     "output_type": "execute_result"
    }
   ],
   "source": [
    "import nilearn\n",
    "dir(nilearn)\n",
    "nilearn.__version__"
   ]
  },
  {
   "cell_type": "markdown",
   "metadata": {},
   "source": [
    "Visualization\n",
    "--------------\n",
    "\n"
   ]
  },
  {
   "cell_type": "code",
   "execution_count": null,
   "metadata": {
    "collapsed": false,
    "jupyter": {
     "outputs_hidden": false
    }
   },
   "outputs": [],
   "source": [
    "weight_img = decoder.coef_img_['beta']\n",
    "\n",
    "# Create the figure\n",
    "from nilearn.plotting import plot_stat_map, show\n",
    "bg_filename = gray_matter_map_filenames[0]\n",
    "z_slice = 0\n",
    "display = plot_stat_map(weight_img, bg_img=bg_filename,\n",
    "                        display_mode='z', cut_coords=[z_slice])\n",
    "display.title(\"SVM weights\")\n",
    "show()"
   ]
  },
  {
   "cell_type": "markdown",
   "metadata": {},
   "source": [
    "Visualize the quality of predictions\n",
    "-------------------------------------\n",
    "\n"
   ]
  },
  {
   "cell_type": "code",
   "execution_count": null,
   "metadata": {
    "collapsed": false,
    "jupyter": {
     "outputs_hidden": false
    }
   },
   "outputs": [],
   "source": [
    "plt.figure(figsize=(6, 4.5))\n",
    "plt.suptitle(\"Decoder: Mean Absolute Error %.2f years\" % prediction_score)\n",
    "linewidth = 3\n",
    "plt.plot(age_test, label=\"True age\", linewidth=linewidth)\n",
    "plt.plot(age_pred, '--', c=\"g\", label=\"Predicted age\", linewidth=linewidth)\n",
    "plt.ylabel(\"age\")\n",
    "plt.xlabel(\"subject\")\n",
    "plt.legend(loc=\"best\")\n",
    "plt.figure(figsize=(6, 4.5))\n",
    "plt.plot(age_test - age_pred, label=\"True age - predicted age\",\n",
    "         linewidth=linewidth)\n",
    "plt.xlabel(\"subject\")\n",
    "plt.legend(loc=\"best\")"
   ]
  },
  {
   "cell_type": "markdown",
   "metadata": {},
   "source": [
    "Inference with massively univariate model\n",
    "-----------------------------------------\n",
    "\n"
   ]
  },
  {
   "cell_type": "code",
   "execution_count": null,
   "metadata": {
    "collapsed": false,
    "jupyter": {
     "outputs_hidden": false
    }
   },
   "outputs": [],
   "source": [
    "print(\"Massively univariate model\")\n",
    "\n",
    "gm_maps_masked = NiftiMasker().fit_transform(gray_matter_map_filenames)\n",
    "data = variance_threshold.fit_transform(gm_maps_masked)\n",
    "\n",
    "# Statistical inference\n",
    "from nilearn.mass_univariate import permuted_ols\n",
    "neg_log_pvals, t_scores_original_data, _ = permuted_ols(\n",
    "    age, data,  # + intercept as a covariate by default\n",
    "    n_perm=2000,  # 1,000 in the interest of time; 10000 would be better\n",
    "    n_jobs=1)  # can be changed to use more CPUs\n",
    "signed_neg_log_pvals = neg_log_pvals * np.sign(t_scores_original_data)\n",
    "signed_neg_log_pvals_unmasked = nifti_masker.inverse_transform(\n",
    "    variance_threshold.inverse_transform(signed_neg_log_pvals))\n",
    "\n",
    "# Show results\n",
    "threshold = -np.log10(0.1)  # 10% corrected\n",
    "\n",
    "fig = plt.figure(figsize=(5.5, 7.5), facecolor='k')\n",
    "\n",
    "display = plot_stat_map(signed_neg_log_pvals_unmasked, bg_img=bg_filename,\n",
    "                        threshold=threshold, cmap=plt.cm.RdBu_r,\n",
    "                        display_mode='z', cut_coords=[z_slice],\n",
    "                        figure=fig)\n",
    "title = ('Negative $\\\\log_{10}$ p-values'\n",
    "         '\\n(Non-parametric + max-type correction)')\n",
    "display.title(title, y=1.2)\n",
    "\n",
    "n_detections = (get_data(signed_neg_log_pvals_unmasked) > threshold).sum()\n",
    "print('\\n%d detections' % n_detections)\n",
    "\n",
    "show()"
   ]
  }
 ],
 "metadata": {
  "kernelspec": {
   "display_name": "Python 3",
   "language": "python",
   "name": "python3"
  },
  "language_info": {
   "codemirror_mode": {
    "name": "ipython",
    "version": 3
   },
   "file_extension": ".py",
   "mimetype": "text/x-python",
   "name": "python",
   "nbconvert_exporter": "python",
   "pygments_lexer": "ipython3",
   "version": "3.7.0"
  }
 },
 "nbformat": 4,
 "nbformat_minor": 4
}
