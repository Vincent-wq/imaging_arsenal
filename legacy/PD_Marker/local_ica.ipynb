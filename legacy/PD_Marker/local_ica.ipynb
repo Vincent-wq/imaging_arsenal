{
 "cells": [
  {
   "cell_type": "code",
   "execution_count": 1,
   "metadata": {},
   "outputs": [
    {
     "name": "stdout",
     "output_type": "stream",
     "text": [
      "PD :  40 ['sub-0002', 'sub-0004', 'sub-0005', 'sub-0006', 'sub-0008', 'sub-0009', 'sub-0012', 'sub-0014', 'sub-0015', 'sub-0021', 'sub-0022', 'sub-0023', 'sub-0024', 'sub-0025', 'sub-0028', 'sub-0030', 'sub-0031', 'sub-0034', 'sub-0035', 'sub-0037', 'sub-0038', 'sub-0040', 'sub-0047', 'sub-0051', 'sub-0052', 'sub-0068', 'sub-0075', 'sub-0076', 'sub-0094', 'sub-0096', 'sub-0098', 'sub-0109', 'sub-0111', 'sub-0118', 'sub-0125', 'sub-0129', 'sub-0132', 'sub-0136', 'sub-1000', 'sub-1020'] [70, 76, 45, 63, 59, 57, 47, 66, 65, 53, 62, 50, 63, 44, 61, 72, 51, 70, 69, 68, 54, 63, 75, 54, 56, 66, 66, 48, 66, 73, 57, 69, 69, 54, 60, 69, 74, 62, 77, 6]\n",
      "ET :  30 ['sub-0016', 'sub-0061', 'sub-0081', 'sub-0115', 'sub-0119', 'sub-0122', 'sub-0134', 'sub-0178', 'sub-1012', 'sub-1120', 'sub-1160', 'sub-1230', 'sub-1310', 'sub-1340', 'sub-1450', 'sub-1500', 'sub-1690', 'sub-1890', 'sub-1920', 'sub-2400', 'sub-3600', 'sub-3700', 'sub-3900', 'sub-4200', 'sub-4300', 'sub-4700', 'sub-5700', 'sub-7000', 'sub-7400', 'sub-7800'] [78, 76, 74, 82, 73, 70, 71, 76, 81, 64, 77, 75, 55, 72, 67, 72, 77, 72, 82, 77, 83, 75, 71, 73, 83, 59, 65, 60, 73, 6]\n",
      "NC :  33 ['sub-0039', 'sub-0041', 'sub-0042', 'sub-0043', 'sub-0044', 'sub-0053', 'sub-0057', 'sub-0058', 'sub-0060', 'sub-0062', 'sub-0064', 'sub-0066', 'sub-0067', 'sub-0071', 'sub-0072', 'sub-0077', 'sub-0078', 'sub-0079', 'sub-0080', 'sub-0082', 'sub-0085', 'sub-0100', 'sub-0102', 'sub-0104', 'sub-0107', 'sub-0108', 'sub-0110', 'sub-0113', 'sub-0117', 'sub-0121', 'sub-0124', 'sub-0128', 'sub-0130'] [57, 61, 53, 59, 29, 52, 49, 58, 51, 49, 58, 54, 58, 59, 54, 53, 59, 59, 28, 53, 53, 51, 67, 31, 60, 70, 61, 71, 68, 65, 68, 71, 7]\n"
     ]
    }
   ],
   "source": [
    "# read data: 3 study groups by sub_list \n",
    "import nipype.interfaces.io as nio\n",
    "import os\n",
    "GROUPS=['PD','ET','NC']\n",
    "OUT_DIR='/output/PD_ICA/'\n",
    "SUB_LIST=[]; AGE_LIST=[]; JCOB_LIST=[];\n",
    "\n",
    "for group_name in GROUPS:\n",
    "    current_group=group_name\n",
    "    current_sub_list_file = '/codes/devel/PD_Marker/'+current_group+'_info_ICA.list'\n",
    "    # create dir for output\n",
    "    current_OUT_DIR=OUT_DIR+current_group+'/'\n",
    "    if not os.path.exists(current_OUT_DIR):\n",
    "        os.makedirs(current_OUT_DIR)\n",
    "    #read sub list\n",
    "    with open(current_sub_list_file, 'r') as f_sub:\n",
    "        sub_list_raw= f_sub.readlines()\n",
    "    sub_list = [x[0:-1].split('\\t')[0] for x in sub_list_raw] # remove \n",
    "    age_list = [int(x[0:-1].split('\\t')[1]) for x in sub_list_raw]\n",
    "    SUB_LIST.append(sub_list);  AGE_LIST.append(age_list);\n",
    "    N_sub=len(sub_list)\n",
    "    print(group_name, ': ', N_sub, sub_list, age_list)\n",
    "    # grab group Jacobians\n",
    "    ds_jacobian = nio.DataGrabber(infields=['sub_id'])\n",
    "    ds_jacobian.inputs.base_directory = current_OUT_DIR # database\n",
    "    ds_jacobian.inputs.template = '%s_desc-preproc_T1w_space-MNI2009c_Warp_Jacobian.nii.gz' # from cwd\n",
    "    ds_jacobian.inputs.sort_filelist = True\n",
    "    ds_jacobian.inputs.sub_id = sub_list\n",
    "    res_jacobian = ds_jacobian.run()\n",
    "    jacobian_list=res_jacobian.outputs.outfiles\n",
    "    JCOB_LIST.append(jacobian_list)\n",
    "pd_sub_list = SUB_LIST[0]; et_sub_list = SUB_LIST[1]; nc_sub_list = SUB_LIST[2]; \n",
    "pd_age_list = AGE_LIST[0]; et_age_list = AGE_LIST[1]; nc_age_list = AGE_LIST[2];\n",
    "pd_jaco_list=JCOB_LIST[0]; et_jaco_list=JCOB_LIST[1]; nc_jaco_list=JCOB_LIST[2];"
   ]
  },
  {
   "cell_type": "code",
   "execution_count": null,
   "metadata": {},
   "outputs": [],
   "source": [
    "# get mask\n",
    "def mask_svJacobians(jacobian_in, mask_in, OUT_DIR):\n",
    "    \n",
    "# get data lists\n",
    "from nipype.interfaces.ants import ANTS\n",
    "from nipype.interfaces import fsl\n",
    "import os,time\n",
    "OUT_DIR='/output/PD_ICA/'\n",
    "if not os.path.exists(OUT_DIR):\n",
    "    os.makedirs(OUT_DIR)\n",
    "atlas_9c='/templateflow/atlas/mni_icbm152_nlin_asym_09c_nifti/mni_icbm152_nlin_asym_09c/mni_icbm152_t1_tal_nlin_asym_09c.nii'\n",
    "atlas_9c_mask='/templateflow/atlas/mni_icbm152_nlin_asym_09c_nifti/mni_icbm152_nlin_asym_09c/mni_icbm152_t1_tal_nlin_asym_09c_mask.nii'\n",
    "atlas_09_masked=OUT_DIR+'t1_MNI2009c_masked.nii.gz'\n",
    "mask = fsl.ApplyMask(\n",
    "    in_file=atlas_9c,\n",
    "    out_file=atlas_09_masked,\n",
    "    mask_file=atlas_9c_mask)\n",
    "mask.run()"
   ]
  },
  {
   "cell_type": "code",
   "execution_count": null,
   "metadata": {},
   "outputs": [],
   "source": [
    "# MELODIC ICA masked for ET vs HC\n",
    "from nipype.interfaces import fsl\n",
    "from nipype.interfaces.ants import ANTS, ApplyTransforms,CreateJacobianDeterminantImage\n",
    "\n",
    "index_PD=[0,10,18,19,20,21,22,23,25,-1] #vt11 missing\n",
    "index_ET=[1,2,3, 4, 5, 6,7,8,9,11,12,13,14,15,16,17,24,34,36,38,39,40] #fmr07,20,28,33,47,78,108,\n",
    "# 112,145, 189; VT1-3,41,,42,43,109 missing 33 missing from the list\n",
    "index_HC=[26,27,28,29,30,31,32,33,35] #vt22 missing\n",
    "\n",
    "t0=time.time()\n",
    "g_path ='/output/sMRI/'\n",
    "dir_all_jacobian = [g_path+t1_list[x][-29:-24]+'_t1_masked_Jacobian_masked.nii.gz' for x in index_ET+index_HC]\n",
    "merged_file = g_path+'ICA_ETHC_masked/ETHC_masked_4d.nii.gz'\n",
    "\n",
    "merger = fsl.Merge()\n",
    "merger.inputs.in_files = dir_all_jacobian\n",
    "merger.inputs.dimension = 'a'\n",
    "merger.inputs.merged_file = merged_file\n",
    "merger.cmdline\n",
    "merger.run()\n",
    "t1=time.time()\n",
    "print('ET+HC Masked Jacobian:\\n \\tMegring 4D file takes: ', t1-t0)\n",
    "melodic_setup = fsl.MELODIC()\n",
    "melodic_setup.inputs.approach = 'tica'\n",
    "melodic_setup.inputs.in_files = [merged_file]\n",
    "#melodic_setup.inputs.no_bet = True\n",
    "#melodic_setup.inputs.bg_threshold = 10\n",
    "#melodic_setup.inputs.tr_sec = 1.5\n",
    "#melodic_setup.inputs.mm_thresh = 0.5\n",
    "#melodic_setup.inputs.out_stats = True\n",
    "melodic_setup.inputs.out_all = True\n",
    "melodic_setup.inputs.num_ICs = 30\n",
    "#melodic_setup.inputs.t_des = 'timeDesign.mat'resICA\n",
    "#melodic_setup.inputs.t_con = 'timeDesign.con'\n",
    "#melodic_setup.inputs.s_des = 'subjectDesign.mat'\n",
    "#melodic_setup.inputs.s_con = 'subjectDesign.con'\n",
    "melodic_setup.inputs.out_dir = '/output/sMRI/ICA_ETHC_masked'\n",
    "melodic_setup.inputs.report = True\n",
    "melodic_setup.cmdline\n",
    "melodic_setup.run()\n",
    "t2=time.time()\n",
    "print('\\tET+HC MELODIC ICA takes: ', t2-t1)"
   ]
  }
 ],
 "metadata": {
  "kernelspec": {
   "display_name": "Python 3 (ipykernel)",
   "language": "python",
   "name": "python3"
  },
  "language_info": {
   "codemirror_mode": {
    "name": "ipython",
    "version": 3
   },
   "file_extension": ".py",
   "mimetype": "text/x-python",
   "name": "python",
   "nbconvert_exporter": "python",
   "pygments_lexer": "ipython3",
   "version": "3.8.5"
  }
 },
 "nbformat": 4,
 "nbformat_minor": 4
}
