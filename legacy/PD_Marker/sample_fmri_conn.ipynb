{
 "cells": [
  {
   "cell_type": "code",
   "execution_count": 1,
   "metadata": {},
   "outputs": [
    {
     "name": "stdout",
     "output_type": "stream",
     "text": [
      "42 42\n"
     ]
    }
   ],
   "source": [
    "# get data lists\n",
    "#from nipype.interfaces.ants import ANTS\n",
    "#from nipype.interfaces import fsl\n",
    "import nipype.interfaces.io as nio\n",
    "# regressor import\n",
    "ds_conf = nio.DataGrabber()\n",
    "ds_conf.inputs.base_directory = \"/data\" # database\n",
    "ds_conf.inputs.template = \"sub-*/func/*_run-1_desc-confounds_regressors.tsv\" # from cwd\n",
    "ds_conf.inputs.sort_filelist = True\n",
    "ds_conf = ds_conf.run()\n",
    "\n",
    "# bold file import\n",
    "ds_bold = nio.DataGrabber()\n",
    "ds_bold.inputs.base_directory = \"/data\" # database\n",
    "ds_bold.inputs.template = \"sub-*/func/*_run-1_space-MNI152NLin6Asym_desc-preproc_bold.nii.gz\" # from cwd\n",
    "ds_bold.inputs.sort_filelist = True\n",
    "ds_bold = ds_bold.run()\n",
    "conf_list = ds_conf.outputs.outfiles\n",
    "bold_list= ds_bold.outputs.outfiles\n",
    "conf_list=conf_list[:-3]+['/data/sub-VT035/func/sub-VT035_task-rest_motion-uncorrected_run-3_desc-confounds_regressors.tsv']+conf_list[-3:]\n",
    "bold_list[-4]='/data/sub-VT035/func/sub-VT035_task-rest_motion-uncorrected_run-3_space-MNI152NLin6Asym_desc-preproc_bold.nii.gz'\n",
    "print(len(bold_list), len(conf_list))"
   ]
  },
  {
   "cell_type": "code",
   "execution_count": 2,
   "metadata": {},
   "outputs": [
    {
     "name": "stderr",
     "output_type": "stream",
     "text": [
      "\n",
      "Bad key \"text.kerning_factor\" on line 4 in\n",
      "/usr/local/miniconda/lib/python3.7/site-packages/matplotlib/mpl-data/stylelib/_classic_test_patch.mplstyle.\n",
      "You probably need to get an updated matplotlibrc file from\n",
      "http://github.com/matplotlib/matplotlib/blob/master/matplotlibrc.template\n",
      "or from the matplotlib source distribution\n",
      "/usr/local/miniconda/lib/python3.7/site-packages/sklearn/model_selection/_search.py:16: DeprecationWarning: Using or importing the ABCs from 'collections' instead of from 'collections.abc' is deprecated, and in 3.8 it will stop working\n",
      "  from collections import Mapping, namedtuple, defaultdict, Sequence\n",
      "/usr/local/miniconda/lib/python3.7/site-packages/numpy/lib/npyio.py:2278: VisibleDeprecationWarning: Reading unicode strings without specifying the encoding argument is deprecated. Set the encoding, use None for the system default.\n",
      "  output = genfromtxt(fname, **kwargs)\n",
      "/usr/local/miniconda/lib/python3.7/site-packages/pandas/core/frame.py:3790: SettingWithCopyWarning: \n",
      "A value is trying to be set on a copy of a slice from a DataFrame\n",
      "\n",
      "See the caveats in the documentation: http://pandas.pydata.org/pandas-docs/stable/indexing.html#indexing-view-versus-copy\n",
      "  downcast=downcast, **kwargs)\n"
     ]
    },
    {
     "name": "stdout",
     "output_type": "stream",
     "text": [
      "processing  FMR001 :\n",
      "\n",
      "[NiftiMapsMasker.fit_transform] loading regions from /home/neuro/nilearn_data/pauli_2017/pauli_2017_prob.nii.gz\n",
      "Resampling maps\n"
     ]
    },
    {
     "name": "stderr",
     "output_type": "stream",
     "text": [
      "/usr/local/miniconda/lib/python3.7/site-packages/nilearn/_utils/cache_mixin.py:296: UserWarning: memory_level is currently set to 0 but a Memory object has been provided. Setting memory_level to 1.\n",
      "  warnings.warn(\"memory_level is currently set to 0 but \"\n"
     ]
    },
    {
     "name": "stdout",
     "output_type": "stream",
     "text": [
      "[Memory]    1.3s, 0.0min: Loading resample_img...\n",
      "________________________________________resample_img cache loaded - 0.0s, 0.0min\n",
      "[Memory]    1.4s, 0.0min: Loading filter_and_extract...\n",
      "__________________________________filter_and_extract cache loaded - 0.0s, 0.0min\n",
      "\tPauli sub-cortical Atlas takes:  10.099340677261353  with dim=  (120, 16) \n",
      "\n",
      "[NiftiMapsMasker.fit_transform] loading regions from /home/neuro/nilearn_data/msdl_atlas/MSDL_rois/msdl_rois.nii\n",
      "Resampling maps\n",
      "[Memory]    0.1s, 0.0min: Loading resample_img...\n"
     ]
    },
    {
     "name": "stderr",
     "output_type": "stream",
     "text": [
      "/usr/local/miniconda/lib/python3.7/site-packages/nilearn/_utils/cache_mixin.py:296: UserWarning: memory_level is currently set to 0 but a Memory object has been provided. Setting memory_level to 1.\n",
      "  warnings.warn(\"memory_level is currently set to 0 but \"\n"
     ]
    },
    {
     "name": "stdout",
     "output_type": "stream",
     "text": [
      "________________________________________resample_img cache loaded - 0.2s, 0.0min\n",
      "[Memory]    0.8s, 0.0min: Loading filter_and_extract...\n",
      "__________________________________filter_and_extract cache loaded - 0.0s, 0.0min\n",
      "\tGeal cortical Atlas takes:  3.38836932182312  with dim=  (120, 39) \n",
      "\n",
      "\tAll conn matrices are calculated in:  0.004442453384399414\n",
      "processing  FMR003 :\n",
      "\n"
     ]
    },
    {
     "name": "stderr",
     "output_type": "stream",
     "text": [
      "/usr/local/miniconda/lib/python3.7/site-packages/pandas/core/frame.py:3790: SettingWithCopyWarning: \n",
      "A value is trying to be set on a copy of a slice from a DataFrame\n",
      "\n",
      "See the caveats in the documentation: http://pandas.pydata.org/pandas-docs/stable/indexing.html#indexing-view-versus-copy\n",
      "  downcast=downcast, **kwargs)\n"
     ]
    },
    {
     "name": "stdout",
     "output_type": "stream",
     "text": [
      "[NiftiMapsMasker.fit_transform] loading regions from /home/neuro/nilearn_data/pauli_2017/pauli_2017_prob.nii.gz\n",
      "Resampling maps\n"
     ]
    },
    {
     "name": "stderr",
     "output_type": "stream",
     "text": [
      "/usr/local/miniconda/lib/python3.7/site-packages/nilearn/_utils/cache_mixin.py:296: UserWarning: memory_level is currently set to 0 but a Memory object has been provided. Setting memory_level to 1.\n",
      "  warnings.warn(\"memory_level is currently set to 0 but \"\n"
     ]
    },
    {
     "name": "stdout",
     "output_type": "stream",
     "text": [
      "[Memory]    1.3s, 0.0min: Loading resample_img...\n",
      "________________________________________resample_img cache loaded - 0.0s, 0.0min\n",
      "[Memory]    1.4s, 0.0min: Loading filter_and_extract...\n",
      "__________________________________filter_and_extract cache loaded - 0.0s, 0.0min\n",
      "\tPauli sub-cortical Atlas takes:  9.919189691543579  with dim=  (120, 16) \n",
      "\n",
      "[NiftiMapsMasker.fit_transform] loading regions from /home/neuro/nilearn_data/msdl_atlas/MSDL_rois/msdl_rois.nii\n",
      "Resampling maps\n",
      "[Memory]    0.1s, 0.0min: Loading resample_img...\n"
     ]
    },
    {
     "name": "stderr",
     "output_type": "stream",
     "text": [
      "/usr/local/miniconda/lib/python3.7/site-packages/nilearn/_utils/cache_mixin.py:296: UserWarning: memory_level is currently set to 0 but a Memory object has been provided. Setting memory_level to 1.\n",
      "  warnings.warn(\"memory_level is currently set to 0 but \"\n"
     ]
    },
    {
     "name": "stdout",
     "output_type": "stream",
     "text": [
      "________________________________________resample_img cache loaded - 0.2s, 0.0min\n",
      "[Memory]    0.8s, 0.0min: Loading filter_and_extract...\n",
      "__________________________________filter_and_extract cache loaded - 0.0s, 0.0min\n",
      "\tGeal cortical Atlas takes:  3.1629209518432617  with dim=  (120, 39) \n",
      "\n",
      "\tAll conn matrices are calculated in:  0.004248857498168945\n",
      "processing  FMR015 :\n",
      "\n"
     ]
    },
    {
     "name": "stderr",
     "output_type": "stream",
     "text": [
      "/usr/local/miniconda/lib/python3.7/site-packages/pandas/core/frame.py:3790: SettingWithCopyWarning: \n",
      "A value is trying to be set on a copy of a slice from a DataFrame\n",
      "\n",
      "See the caveats in the documentation: http://pandas.pydata.org/pandas-docs/stable/indexing.html#indexing-view-versus-copy\n",
      "  downcast=downcast, **kwargs)\n"
     ]
    },
    {
     "name": "stdout",
     "output_type": "stream",
     "text": [
      "[NiftiMapsMasker.fit_transform] loading regions from /home/neuro/nilearn_data/pauli_2017/pauli_2017_prob.nii.gz\n",
      "Resampling maps\n"
     ]
    },
    {
     "name": "stderr",
     "output_type": "stream",
     "text": [
      "/usr/local/miniconda/lib/python3.7/site-packages/nilearn/_utils/cache_mixin.py:296: UserWarning: memory_level is currently set to 0 but a Memory object has been provided. Setting memory_level to 1.\n",
      "  warnings.warn(\"memory_level is currently set to 0 but \"\n"
     ]
    },
    {
     "name": "stdout",
     "output_type": "stream",
     "text": [
      "[Memory]    1.3s, 0.0min: Loading resample_img...\n",
      "________________________________________resample_img cache loaded - 0.0s, 0.0min\n",
      "[Memory]    1.5s, 0.0min: Loading filter_and_extract...\n",
      "__________________________________filter_and_extract cache loaded - 0.0s, 0.0min\n",
      "\tPauli sub-cortical Atlas takes:  10.064969778060913  with dim=  (120, 16) \n",
      "\n",
      "[NiftiMapsMasker.fit_transform] loading regions from /home/neuro/nilearn_data/msdl_atlas/MSDL_rois/msdl_rois.nii\n",
      "Resampling maps\n",
      "[Memory]    0.1s, 0.0min: Loading resample_img...\n"
     ]
    },
    {
     "name": "stderr",
     "output_type": "stream",
     "text": [
      "/usr/local/miniconda/lib/python3.7/site-packages/nilearn/_utils/cache_mixin.py:296: UserWarning: memory_level is currently set to 0 but a Memory object has been provided. Setting memory_level to 1.\n",
      "  warnings.warn(\"memory_level is currently set to 0 but \"\n"
     ]
    },
    {
     "name": "stdout",
     "output_type": "stream",
     "text": [
      "________________________________________resample_img cache loaded - 0.2s, 0.0min\n",
      "[Memory]    0.8s, 0.0min: Loading filter_and_extract...\n",
      "__________________________________filter_and_extract cache loaded - 0.0s, 0.0min\n",
      "\tGeal cortical Atlas takes:  3.3655483722686768  with dim=  (120, 39) \n",
      "\n",
      "\tAll conn matrices are calculated in:  0.004118680953979492\n",
      "processing  FMR016 :\n",
      "\n"
     ]
    },
    {
     "name": "stderr",
     "output_type": "stream",
     "text": [
      "/usr/local/miniconda/lib/python3.7/site-packages/pandas/core/frame.py:3790: SettingWithCopyWarning: \n",
      "A value is trying to be set on a copy of a slice from a DataFrame\n",
      "\n",
      "See the caveats in the documentation: http://pandas.pydata.org/pandas-docs/stable/indexing.html#indexing-view-versus-copy\n",
      "  downcast=downcast, **kwargs)\n"
     ]
    },
    {
     "name": "stdout",
     "output_type": "stream",
     "text": [
      "[NiftiMapsMasker.fit_transform] loading regions from /home/neuro/nilearn_data/pauli_2017/pauli_2017_prob.nii.gz\n",
      "Resampling maps\n"
     ]
    },
    {
     "name": "stderr",
     "output_type": "stream",
     "text": [
      "/usr/local/miniconda/lib/python3.7/site-packages/nilearn/_utils/cache_mixin.py:296: UserWarning: memory_level is currently set to 0 but a Memory object has been provided. Setting memory_level to 1.\n",
      "  warnings.warn(\"memory_level is currently set to 0 but \"\n"
     ]
    },
    {
     "name": "stdout",
     "output_type": "stream",
     "text": [
      "[Memory]    1.3s, 0.0min: Loading resample_img...\n",
      "________________________________________resample_img cache loaded - 0.0s, 0.0min\n",
      "[Memory]    1.5s, 0.0min: Loading filter_and_extract...\n",
      "__________________________________filter_and_extract cache loaded - 0.0s, 0.0min\n",
      "\tPauli sub-cortical Atlas takes:  10.007598161697388  with dim=  (120, 16) \n",
      "\n",
      "[NiftiMapsMasker.fit_transform] loading regions from /home/neuro/nilearn_data/msdl_atlas/MSDL_rois/msdl_rois.nii\n",
      "Resampling maps\n",
      "[Memory]    0.1s, 0.0min: Loading resample_img...\n"
     ]
    },
    {
     "name": "stderr",
     "output_type": "stream",
     "text": [
      "/usr/local/miniconda/lib/python3.7/site-packages/nilearn/_utils/cache_mixin.py:296: UserWarning: memory_level is currently set to 0 but a Memory object has been provided. Setting memory_level to 1.\n",
      "  warnings.warn(\"memory_level is currently set to 0 but \"\n"
     ]
    },
    {
     "name": "stdout",
     "output_type": "stream",
     "text": [
      "________________________________________resample_img cache loaded - 0.2s, 0.0min\n",
      "[Memory]    0.8s, 0.0min: Loading filter_and_extract...\n",
      "__________________________________filter_and_extract cache loaded - 0.0s, 0.0min\n",
      "\tGeal cortical Atlas takes:  3.1362040042877197  with dim=  (120, 39) \n",
      "\n",
      "\tAll conn matrices are calculated in:  0.0045354366302490234\n",
      "processing  FMR024 :\n",
      "\n"
     ]
    },
    {
     "name": "stderr",
     "output_type": "stream",
     "text": [
      "/usr/local/miniconda/lib/python3.7/site-packages/pandas/core/frame.py:3790: SettingWithCopyWarning: \n",
      "A value is trying to be set on a copy of a slice from a DataFrame\n",
      "\n",
      "See the caveats in the documentation: http://pandas.pydata.org/pandas-docs/stable/indexing.html#indexing-view-versus-copy\n",
      "  downcast=downcast, **kwargs)\n"
     ]
    },
    {
     "name": "stdout",
     "output_type": "stream",
     "text": [
      "[NiftiMapsMasker.fit_transform] loading regions from /home/neuro/nilearn_data/pauli_2017/pauli_2017_prob.nii.gz\n",
      "Resampling maps\n"
     ]
    },
    {
     "name": "stderr",
     "output_type": "stream",
     "text": [
      "/usr/local/miniconda/lib/python3.7/site-packages/nilearn/_utils/cache_mixin.py:296: UserWarning: memory_level is currently set to 0 but a Memory object has been provided. Setting memory_level to 1.\n",
      "  warnings.warn(\"memory_level is currently set to 0 but \"\n"
     ]
    },
    {
     "name": "stdout",
     "output_type": "stream",
     "text": [
      "[Memory]    1.3s, 0.0min: Loading resample_img...\n",
      "________________________________________resample_img cache loaded - 0.0s, 0.0min\n",
      "[Memory]    1.4s, 0.0min: Loading filter_and_extract...\n",
      "__________________________________filter_and_extract cache loaded - 0.0s, 0.0min\n",
      "\tPauli sub-cortical Atlas takes:  10.173025131225586  with dim=  (120, 16) \n",
      "\n",
      "[NiftiMapsMasker.fit_transform] loading regions from /home/neuro/nilearn_data/msdl_atlas/MSDL_rois/msdl_rois.nii\n",
      "Resampling maps\n",
      "[Memory]    0.1s, 0.0min: Loading resample_img...\n"
     ]
    },
    {
     "name": "stderr",
     "output_type": "stream",
     "text": [
      "/usr/local/miniconda/lib/python3.7/site-packages/nilearn/_utils/cache_mixin.py:296: UserWarning: memory_level is currently set to 0 but a Memory object has been provided. Setting memory_level to 1.\n",
      "  warnings.warn(\"memory_level is currently set to 0 but \"\n"
     ]
    },
    {
     "name": "stdout",
     "output_type": "stream",
     "text": [
      "________________________________________resample_img cache loaded - 0.2s, 0.0min\n",
      "[Memory]    0.8s, 0.0min: Loading filter_and_extract...\n",
      "__________________________________filter_and_extract cache loaded - 0.0s, 0.0min\n",
      "\tGeal cortical Atlas takes:  3.415255546569824  with dim=  (120, 39) \n",
      "\n",
      "\tAll conn matrices are calculated in:  0.0043888092041015625\n",
      "processing  FMR070 :\n",
      "\n"
     ]
    },
    {
     "name": "stderr",
     "output_type": "stream",
     "text": [
      "/usr/local/miniconda/lib/python3.7/site-packages/pandas/core/frame.py:3790: SettingWithCopyWarning: \n",
      "A value is trying to be set on a copy of a slice from a DataFrame\n",
      "\n",
      "See the caveats in the documentation: http://pandas.pydata.org/pandas-docs/stable/indexing.html#indexing-view-versus-copy\n",
      "  downcast=downcast, **kwargs)\n"
     ]
    },
    {
     "name": "stdout",
     "output_type": "stream",
     "text": [
      "[NiftiMapsMasker.fit_transform] loading regions from /home/neuro/nilearn_data/pauli_2017/pauli_2017_prob.nii.gz\n",
      "Resampling maps\n"
     ]
    },
    {
     "name": "stderr",
     "output_type": "stream",
     "text": [
      "/usr/local/miniconda/lib/python3.7/site-packages/nilearn/_utils/cache_mixin.py:296: UserWarning: memory_level is currently set to 0 but a Memory object has been provided. Setting memory_level to 1.\n",
      "  warnings.warn(\"memory_level is currently set to 0 but \"\n"
     ]
    },
    {
     "name": "stdout",
     "output_type": "stream",
     "text": [
      "[Memory]    1.3s, 0.0min: Loading resample_img...\n",
      "________________________________________resample_img cache loaded - 0.0s, 0.0min\n",
      "[Memory]    1.4s, 0.0min: Loading filter_and_extract...\n",
      "__________________________________filter_and_extract cache loaded - 0.0s, 0.0min\n",
      "\tPauli sub-cortical Atlas takes:  10.18116307258606  with dim=  (120, 16) \n",
      "\n",
      "[NiftiMapsMasker.fit_transform] loading regions from /home/neuro/nilearn_data/msdl_atlas/MSDL_rois/msdl_rois.nii\n",
      "Resampling maps\n",
      "[Memory]    0.1s, 0.0min: Loading resample_img...\n"
     ]
    },
    {
     "name": "stderr",
     "output_type": "stream",
     "text": [
      "/usr/local/miniconda/lib/python3.7/site-packages/nilearn/_utils/cache_mixin.py:296: UserWarning: memory_level is currently set to 0 but a Memory object has been provided. Setting memory_level to 1.\n",
      "  warnings.warn(\"memory_level is currently set to 0 but \"\n"
     ]
    },
    {
     "name": "stdout",
     "output_type": "stream",
     "text": [
      "________________________________________resample_img cache loaded - 0.2s, 0.0min\n",
      "[Memory]    0.8s, 0.0min: Loading filter_and_extract...\n",
      "__________________________________filter_and_extract cache loaded - 0.0s, 0.0min\n",
      "\tGeal cortical Atlas takes:  3.4968068599700928  with dim=  (120, 39) \n",
      "\n",
      "\tAll conn matrices are calculated in:  0.003779888153076172\n",
      "processing  FMR074 :\n",
      "\n"
     ]
    },
    {
     "name": "stderr",
     "output_type": "stream",
     "text": [
      "/usr/local/miniconda/lib/python3.7/site-packages/pandas/core/frame.py:3790: SettingWithCopyWarning: \n",
      "A value is trying to be set on a copy of a slice from a DataFrame\n",
      "\n",
      "See the caveats in the documentation: http://pandas.pydata.org/pandas-docs/stable/indexing.html#indexing-view-versus-copy\n",
      "  downcast=downcast, **kwargs)\n"
     ]
    },
    {
     "name": "stdout",
     "output_type": "stream",
     "text": [
      "[NiftiMapsMasker.fit_transform] loading regions from /home/neuro/nilearn_data/pauli_2017/pauli_2017_prob.nii.gz\n",
      "Resampling maps\n"
     ]
    },
    {
     "name": "stderr",
     "output_type": "stream",
     "text": [
      "/usr/local/miniconda/lib/python3.7/site-packages/nilearn/_utils/cache_mixin.py:296: UserWarning: memory_level is currently set to 0 but a Memory object has been provided. Setting memory_level to 1.\n",
      "  warnings.warn(\"memory_level is currently set to 0 but \"\n"
     ]
    },
    {
     "name": "stdout",
     "output_type": "stream",
     "text": [
      "[Memory]    1.3s, 0.0min: Loading resample_img...\n",
      "________________________________________resample_img cache loaded - 0.0s, 0.0min\n",
      "[Memory]    1.5s, 0.0min: Loading filter_and_extract...\n",
      "__________________________________filter_and_extract cache loaded - 0.0s, 0.0min\n",
      "\tPauli sub-cortical Atlas takes:  10.215555667877197  with dim=  (120, 16) \n",
      "\n",
      "[NiftiMapsMasker.fit_transform] loading regions from /home/neuro/nilearn_data/msdl_atlas/MSDL_rois/msdl_rois.nii\n",
      "Resampling maps\n",
      "[Memory]    0.1s, 0.0min: Loading resample_img...\n"
     ]
    },
    {
     "name": "stderr",
     "output_type": "stream",
     "text": [
      "/usr/local/miniconda/lib/python3.7/site-packages/nilearn/_utils/cache_mixin.py:296: UserWarning: memory_level is currently set to 0 but a Memory object has been provided. Setting memory_level to 1.\n",
      "  warnings.warn(\"memory_level is currently set to 0 but \"\n"
     ]
    },
    {
     "name": "stdout",
     "output_type": "stream",
     "text": [
      "________________________________________resample_img cache loaded - 0.2s, 0.0min\n",
      "[Memory]    0.8s, 0.0min: Loading filter_and_extract...\n",
      "__________________________________filter_and_extract cache loaded - 0.0s, 0.0min\n",
      "\tGeal cortical Atlas takes:  3.350933790206909  with dim=  (120, 39) \n",
      "\n",
      "\tAll conn matrices are calculated in:  0.004612922668457031\n",
      "processing  FMR078 :\n",
      "\n"
     ]
    },
    {
     "name": "stderr",
     "output_type": "stream",
     "text": [
      "/usr/local/miniconda/lib/python3.7/site-packages/pandas/core/frame.py:3790: SettingWithCopyWarning: \n",
      "A value is trying to be set on a copy of a slice from a DataFrame\n",
      "\n",
      "See the caveats in the documentation: http://pandas.pydata.org/pandas-docs/stable/indexing.html#indexing-view-versus-copy\n",
      "  downcast=downcast, **kwargs)\n"
     ]
    },
    {
     "name": "stdout",
     "output_type": "stream",
     "text": [
      "[NiftiMapsMasker.fit_transform] loading regions from /home/neuro/nilearn_data/pauli_2017/pauli_2017_prob.nii.gz\n",
      "Resampling maps\n"
     ]
    },
    {
     "name": "stderr",
     "output_type": "stream",
     "text": [
      "/usr/local/miniconda/lib/python3.7/site-packages/nilearn/_utils/cache_mixin.py:296: UserWarning: memory_level is currently set to 0 but a Memory object has been provided. Setting memory_level to 1.\n",
      "  warnings.warn(\"memory_level is currently set to 0 but \"\n"
     ]
    },
    {
     "name": "stdout",
     "output_type": "stream",
     "text": [
      "[Memory]    1.3s, 0.0min: Loading resample_img...\n",
      "________________________________________resample_img cache loaded - 0.0s, 0.0min\n",
      "[Memory]    1.5s, 0.0min: Loading filter_and_extract...\n",
      "__________________________________filter_and_extract cache loaded - 0.0s, 0.0min\n",
      "\tPauli sub-cortical Atlas takes:  11.626736164093018  with dim=  (120, 16) \n",
      "\n",
      "[NiftiMapsMasker.fit_transform] loading regions from /home/neuro/nilearn_data/msdl_atlas/MSDL_rois/msdl_rois.nii\n",
      "Resampling maps\n",
      "[Memory]    0.1s, 0.0min: Loading resample_img...\n"
     ]
    },
    {
     "name": "stderr",
     "output_type": "stream",
     "text": [
      "/usr/local/miniconda/lib/python3.7/site-packages/nilearn/_utils/cache_mixin.py:296: UserWarning: memory_level is currently set to 0 but a Memory object has been provided. Setting memory_level to 1.\n",
      "  warnings.warn(\"memory_level is currently set to 0 but \"\n"
     ]
    },
    {
     "name": "stdout",
     "output_type": "stream",
     "text": [
      "________________________________________resample_img cache loaded - 0.3s, 0.0min\n",
      "[Memory]    1.1s, 0.0min: Loading filter_and_extract...\n",
      "__________________________________filter_and_extract cache loaded - 0.0s, 0.0min\n",
      "\tGeal cortical Atlas takes:  3.8938896656036377  with dim=  (120, 39) \n",
      "\n",
      "\tAll conn matrices are calculated in:  0.005333662033081055\n",
      "processing  FMR080 :\n",
      "\n"
     ]
    },
    {
     "name": "stderr",
     "output_type": "stream",
     "text": [
      "/usr/local/miniconda/lib/python3.7/site-packages/pandas/core/frame.py:3790: SettingWithCopyWarning: \n",
      "A value is trying to be set on a copy of a slice from a DataFrame\n",
      "\n",
      "See the caveats in the documentation: http://pandas.pydata.org/pandas-docs/stable/indexing.html#indexing-view-versus-copy\n",
      "  downcast=downcast, **kwargs)\n"
     ]
    },
    {
     "name": "stdout",
     "output_type": "stream",
     "text": [
      "[NiftiMapsMasker.fit_transform] loading regions from /home/neuro/nilearn_data/pauli_2017/pauli_2017_prob.nii.gz\n",
      "Resampling maps\n"
     ]
    },
    {
     "name": "stderr",
     "output_type": "stream",
     "text": [
      "/usr/local/miniconda/lib/python3.7/site-packages/nilearn/_utils/cache_mixin.py:296: UserWarning: memory_level is currently set to 0 but a Memory object has been provided. Setting memory_level to 1.\n",
      "  warnings.warn(\"memory_level is currently set to 0 but \"\n"
     ]
    },
    {
     "name": "stdout",
     "output_type": "stream",
     "text": [
      "[Memory]    1.5s, 0.0min: Loading resample_img...\n",
      "________________________________________resample_img cache loaded - 0.1s, 0.0min\n",
      "[Memory]    1.7s, 0.0min: Loading filter_and_extract...\n",
      "__________________________________filter_and_extract cache loaded - 0.0s, 0.0min\n",
      "\tPauli sub-cortical Atlas takes:  11.06084418296814  with dim=  (120, 16) \n",
      "\n",
      "[NiftiMapsMasker.fit_transform] loading regions from /home/neuro/nilearn_data/msdl_atlas/MSDL_rois/msdl_rois.nii\n",
      "Resampling maps\n",
      "[Memory]    0.1s, 0.0min: Loading resample_img...\n"
     ]
    },
    {
     "name": "stderr",
     "output_type": "stream",
     "text": [
      "/usr/local/miniconda/lib/python3.7/site-packages/nilearn/_utils/cache_mixin.py:296: UserWarning: memory_level is currently set to 0 but a Memory object has been provided. Setting memory_level to 1.\n",
      "  warnings.warn(\"memory_level is currently set to 0 but \"\n"
     ]
    },
    {
     "name": "stdout",
     "output_type": "stream",
     "text": [
      "________________________________________resample_img cache loaded - 0.2s, 0.0min\n",
      "[Memory]    1.0s, 0.0min: Loading filter_and_extract...\n",
      "__________________________________filter_and_extract cache loaded - 0.0s, 0.0min\n",
      "\tGeal cortical Atlas takes:  3.987086772918701  with dim=  (120, 39) \n",
      "\n",
      "\tAll conn matrices are calculated in:  0.006869077682495117\n",
      "processing  FMR092 :\n",
      "\n"
     ]
    },
    {
     "name": "stderr",
     "output_type": "stream",
     "text": [
      "/usr/local/miniconda/lib/python3.7/site-packages/pandas/core/frame.py:3790: SettingWithCopyWarning: \n",
      "A value is trying to be set on a copy of a slice from a DataFrame\n",
      "\n",
      "See the caveats in the documentation: http://pandas.pydata.org/pandas-docs/stable/indexing.html#indexing-view-versus-copy\n",
      "  downcast=downcast, **kwargs)\n"
     ]
    },
    {
     "name": "stdout",
     "output_type": "stream",
     "text": [
      "[NiftiMapsMasker.fit_transform] loading regions from /home/neuro/nilearn_data/pauli_2017/pauli_2017_prob.nii.gz\n",
      "Resampling maps\n"
     ]
    },
    {
     "name": "stderr",
     "output_type": "stream",
     "text": [
      "/usr/local/miniconda/lib/python3.7/site-packages/nilearn/_utils/cache_mixin.py:296: UserWarning: memory_level is currently set to 0 but a Memory object has been provided. Setting memory_level to 1.\n",
      "  warnings.warn(\"memory_level is currently set to 0 but \"\n"
     ]
    },
    {
     "name": "stdout",
     "output_type": "stream",
     "text": [
      "[Memory]    1.4s, 0.0min: Loading resample_img...\n",
      "________________________________________resample_img cache loaded - 0.0s, 0.0min\n",
      "[Memory]    1.5s, 0.0min: Loading filter_and_extract...\n",
      "__________________________________filter_and_extract cache loaded - 0.0s, 0.0min\n",
      "\tPauli sub-cortical Atlas takes:  11.46219539642334  with dim=  (120, 16) \n",
      "\n",
      "[NiftiMapsMasker.fit_transform] loading regions from /home/neuro/nilearn_data/msdl_atlas/MSDL_rois/msdl_rois.nii\n",
      "Resampling maps\n",
      "[Memory]    0.1s, 0.0min: Loading resample_img...\n"
     ]
    },
    {
     "name": "stderr",
     "output_type": "stream",
     "text": [
      "/usr/local/miniconda/lib/python3.7/site-packages/nilearn/_utils/cache_mixin.py:296: UserWarning: memory_level is currently set to 0 but a Memory object has been provided. Setting memory_level to 1.\n",
      "  warnings.warn(\"memory_level is currently set to 0 but \"\n"
     ]
    },
    {
     "name": "stdout",
     "output_type": "stream",
     "text": [
      "________________________________________resample_img cache loaded - 0.2s, 0.0min\n",
      "[Memory]    0.8s, 0.0min: Loading filter_and_extract...\n",
      "__________________________________filter_and_extract cache loaded - 0.0s, 0.0min\n",
      "\tGeal cortical Atlas takes:  4.651734828948975  with dim=  (120, 39) \n",
      "\n",
      "\tAll conn matrices are calculated in:  0.004756927490234375\n",
      "processing  FMR096 :\n",
      "\n"
     ]
    },
    {
     "name": "stderr",
     "output_type": "stream",
     "text": [
      "/usr/local/miniconda/lib/python3.7/site-packages/pandas/core/frame.py:3790: SettingWithCopyWarning: \n",
      "A value is trying to be set on a copy of a slice from a DataFrame\n",
      "\n",
      "See the caveats in the documentation: http://pandas.pydata.org/pandas-docs/stable/indexing.html#indexing-view-versus-copy\n",
      "  downcast=downcast, **kwargs)\n"
     ]
    },
    {
     "name": "stdout",
     "output_type": "stream",
     "text": [
      "[NiftiMapsMasker.fit_transform] loading regions from /home/neuro/nilearn_data/pauli_2017/pauli_2017_prob.nii.gz\n",
      "Resampling maps\n"
     ]
    },
    {
     "name": "stderr",
     "output_type": "stream",
     "text": [
      "/usr/local/miniconda/lib/python3.7/site-packages/nilearn/_utils/cache_mixin.py:296: UserWarning: memory_level is currently set to 0 but a Memory object has been provided. Setting memory_level to 1.\n",
      "  warnings.warn(\"memory_level is currently set to 0 but \"\n"
     ]
    },
    {
     "name": "stdout",
     "output_type": "stream",
     "text": [
      "[Memory]    1.4s, 0.0min: Loading resample_img...\n",
      "________________________________________resample_img cache loaded - 0.1s, 0.0min\n",
      "[Memory]    1.6s, 0.0min: Loading filter_and_extract...\n",
      "__________________________________filter_and_extract cache loaded - 0.0s, 0.0min\n",
      "\tPauli sub-cortical Atlas takes:  12.168750762939453  with dim=  (120, 16) \n",
      "\n",
      "[NiftiMapsMasker.fit_transform] loading regions from /home/neuro/nilearn_data/msdl_atlas/MSDL_rois/msdl_rois.nii\n",
      "Resampling maps\n",
      "[Memory]    0.1s, 0.0min: Loading resample_img...\n"
     ]
    },
    {
     "name": "stderr",
     "output_type": "stream",
     "text": [
      "/usr/local/miniconda/lib/python3.7/site-packages/nilearn/_utils/cache_mixin.py:296: UserWarning: memory_level is currently set to 0 but a Memory object has been provided. Setting memory_level to 1.\n",
      "  warnings.warn(\"memory_level is currently set to 0 but \"\n"
     ]
    },
    {
     "name": "stdout",
     "output_type": "stream",
     "text": [
      "________________________________________resample_img cache loaded - 0.2s, 0.0min\n",
      "[Memory]    1.0s, 0.0min: Loading filter_and_extract...\n",
      "__________________________________filter_and_extract cache loaded - 0.0s, 0.0min\n",
      "\tGeal cortical Atlas takes:  4.047912120819092  with dim=  (120, 39) \n",
      "\n",
      "\tAll conn matrices are calculated in:  0.013043642044067383\n",
      "processing  FMR116 :\n",
      "\n"
     ]
    },
    {
     "name": "stderr",
     "output_type": "stream",
     "text": [
      "/usr/local/miniconda/lib/python3.7/site-packages/pandas/core/frame.py:3790: SettingWithCopyWarning: \n",
      "A value is trying to be set on a copy of a slice from a DataFrame\n",
      "\n",
      "See the caveats in the documentation: http://pandas.pydata.org/pandas-docs/stable/indexing.html#indexing-view-versus-copy\n",
      "  downcast=downcast, **kwargs)\n"
     ]
    },
    {
     "name": "stdout",
     "output_type": "stream",
     "text": [
      "[NiftiMapsMasker.fit_transform] loading regions from /home/neuro/nilearn_data/pauli_2017/pauli_2017_prob.nii.gz\n",
      "Resampling maps\n"
     ]
    },
    {
     "name": "stderr",
     "output_type": "stream",
     "text": [
      "/usr/local/miniconda/lib/python3.7/site-packages/nilearn/_utils/cache_mixin.py:296: UserWarning: memory_level is currently set to 0 but a Memory object has been provided. Setting memory_level to 1.\n",
      "  warnings.warn(\"memory_level is currently set to 0 but \"\n"
     ]
    },
    {
     "name": "stdout",
     "output_type": "stream",
     "text": [
      "[Memory]    1.4s, 0.0min: Loading resample_img...\n",
      "________________________________________resample_img cache loaded - 0.0s, 0.0min\n",
      "[Memory]    1.5s, 0.0min: Loading filter_and_extract...\n",
      "__________________________________filter_and_extract cache loaded - 0.0s, 0.0min\n",
      "\tPauli sub-cortical Atlas takes:  12.742980480194092  with dim=  (120, 16) \n",
      "\n",
      "[NiftiMapsMasker.fit_transform] loading regions from /home/neuro/nilearn_data/msdl_atlas/MSDL_rois/msdl_rois.nii\n",
      "Resampling maps\n",
      "[Memory]    0.1s, 0.0min: Loading resample_img...\n"
     ]
    },
    {
     "name": "stderr",
     "output_type": "stream",
     "text": [
      "/usr/local/miniconda/lib/python3.7/site-packages/nilearn/_utils/cache_mixin.py:296: UserWarning: memory_level is currently set to 0 but a Memory object has been provided. Setting memory_level to 1.\n",
      "  warnings.warn(\"memory_level is currently set to 0 but \"\n"
     ]
    },
    {
     "name": "stdout",
     "output_type": "stream",
     "text": [
      "________________________________________resample_img cache loaded - 0.3s, 0.0min\n",
      "[Memory]    1.0s, 0.0min: Loading filter_and_extract...\n",
      "__________________________________filter_and_extract cache loaded - 0.0s, 0.0min\n",
      "\tGeal cortical Atlas takes:  4.089601278305054  with dim=  (120, 39) \n",
      "\n",
      "\tAll conn matrices are calculated in:  0.005249977111816406\n",
      "processing  FMR123 :\n",
      "\n"
     ]
    },
    {
     "name": "stderr",
     "output_type": "stream",
     "text": [
      "/usr/local/miniconda/lib/python3.7/site-packages/pandas/core/frame.py:3790: SettingWithCopyWarning: \n",
      "A value is trying to be set on a copy of a slice from a DataFrame\n",
      "\n",
      "See the caveats in the documentation: http://pandas.pydata.org/pandas-docs/stable/indexing.html#indexing-view-versus-copy\n",
      "  downcast=downcast, **kwargs)\n"
     ]
    },
    {
     "name": "stdout",
     "output_type": "stream",
     "text": [
      "[NiftiMapsMasker.fit_transform] loading regions from /home/neuro/nilearn_data/pauli_2017/pauli_2017_prob.nii.gz\n",
      "Resampling maps\n"
     ]
    },
    {
     "name": "stderr",
     "output_type": "stream",
     "text": [
      "/usr/local/miniconda/lib/python3.7/site-packages/nilearn/_utils/cache_mixin.py:296: UserWarning: memory_level is currently set to 0 but a Memory object has been provided. Setting memory_level to 1.\n",
      "  warnings.warn(\"memory_level is currently set to 0 but \"\n"
     ]
    },
    {
     "name": "stdout",
     "output_type": "stream",
     "text": [
      "[Memory]    1.4s, 0.0min: Loading resample_img...\n",
      "________________________________________resample_img cache loaded - 0.1s, 0.0min\n",
      "[Memory]    1.6s, 0.0min: Loading filter_and_extract...\n",
      "__________________________________filter_and_extract cache loaded - 0.0s, 0.0min\n",
      "\tPauli sub-cortical Atlas takes:  11.860939741134644  with dim=  (120, 16) \n",
      "\n",
      "[NiftiMapsMasker.fit_transform] loading regions from /home/neuro/nilearn_data/msdl_atlas/MSDL_rois/msdl_rois.nii\n",
      "Resampling maps\n",
      "[Memory]    0.1s, 0.0min: Loading resample_img...\n"
     ]
    },
    {
     "name": "stderr",
     "output_type": "stream",
     "text": [
      "/usr/local/miniconda/lib/python3.7/site-packages/nilearn/_utils/cache_mixin.py:296: UserWarning: memory_level is currently set to 0 but a Memory object has been provided. Setting memory_level to 1.\n",
      "  warnings.warn(\"memory_level is currently set to 0 but \"\n"
     ]
    },
    {
     "name": "stdout",
     "output_type": "stream",
     "text": [
      "________________________________________resample_img cache loaded - 0.3s, 0.0min\n",
      "[Memory]    1.0s, 0.0min: Loading filter_and_extract...\n",
      "__________________________________filter_and_extract cache loaded - 0.0s, 0.0min\n",
      "\tGeal cortical Atlas takes:  4.600064754486084  with dim=  (120, 39) \n",
      "\n",
      "\tAll conn matrices are calculated in:  0.007453441619873047\n",
      "processing  FMR134 :\n",
      "\n"
     ]
    },
    {
     "name": "stderr",
     "output_type": "stream",
     "text": [
      "/usr/local/miniconda/lib/python3.7/site-packages/pandas/core/frame.py:3790: SettingWithCopyWarning: \n",
      "A value is trying to be set on a copy of a slice from a DataFrame\n",
      "\n",
      "See the caveats in the documentation: http://pandas.pydata.org/pandas-docs/stable/indexing.html#indexing-view-versus-copy\n",
      "  downcast=downcast, **kwargs)\n"
     ]
    },
    {
     "name": "stdout",
     "output_type": "stream",
     "text": [
      "[NiftiMapsMasker.fit_transform] loading regions from /home/neuro/nilearn_data/pauli_2017/pauli_2017_prob.nii.gz\n",
      "Resampling maps\n"
     ]
    },
    {
     "name": "stderr",
     "output_type": "stream",
     "text": [
      "/usr/local/miniconda/lib/python3.7/site-packages/nilearn/_utils/cache_mixin.py:296: UserWarning: memory_level is currently set to 0 but a Memory object has been provided. Setting memory_level to 1.\n",
      "  warnings.warn(\"memory_level is currently set to 0 but \"\n"
     ]
    },
    {
     "name": "stdout",
     "output_type": "stream",
     "text": [
      "[Memory]    1.4s, 0.0min: Loading resample_img...\n",
      "________________________________________resample_img cache loaded - 0.1s, 0.0min\n",
      "[Memory]    1.7s, 0.0min: Loading filter_and_extract...\n",
      "__________________________________filter_and_extract cache loaded - 0.0s, 0.0min\n",
      "\tPauli sub-cortical Atlas takes:  12.721583843231201  with dim=  (120, 16) \n",
      "\n",
      "[NiftiMapsMasker.fit_transform] loading regions from /home/neuro/nilearn_data/msdl_atlas/MSDL_rois/msdl_rois.nii\n",
      "Resampling maps\n",
      "[Memory]    0.1s, 0.0min: Loading resample_img...\n"
     ]
    },
    {
     "name": "stderr",
     "output_type": "stream",
     "text": [
      "/usr/local/miniconda/lib/python3.7/site-packages/nilearn/_utils/cache_mixin.py:296: UserWarning: memory_level is currently set to 0 but a Memory object has been provided. Setting memory_level to 1.\n",
      "  warnings.warn(\"memory_level is currently set to 0 but \"\n"
     ]
    },
    {
     "name": "stdout",
     "output_type": "stream",
     "text": [
      "________________________________________resample_img cache loaded - 0.4s, 0.0min\n",
      "[Memory]    1.2s, 0.0min: Loading filter_and_extract...\n",
      "__________________________________filter_and_extract cache loaded - 0.0s, 0.0min\n",
      "\tGeal cortical Atlas takes:  4.393075227737427  with dim=  (120, 39) \n",
      "\n",
      "\tAll conn matrices are calculated in:  0.005339145660400391\n",
      "processing  FMR169 :\n",
      "\n"
     ]
    },
    {
     "name": "stderr",
     "output_type": "stream",
     "text": [
      "/usr/local/miniconda/lib/python3.7/site-packages/pandas/core/frame.py:3790: SettingWithCopyWarning: \n",
      "A value is trying to be set on a copy of a slice from a DataFrame\n",
      "\n",
      "See the caveats in the documentation: http://pandas.pydata.org/pandas-docs/stable/indexing.html#indexing-view-versus-copy\n",
      "  downcast=downcast, **kwargs)\n"
     ]
    },
    {
     "name": "stdout",
     "output_type": "stream",
     "text": [
      "[NiftiMapsMasker.fit_transform] loading regions from /home/neuro/nilearn_data/pauli_2017/pauli_2017_prob.nii.gz\n",
      "Resampling maps\n"
     ]
    },
    {
     "name": "stderr",
     "output_type": "stream",
     "text": [
      "/usr/local/miniconda/lib/python3.7/site-packages/nilearn/_utils/cache_mixin.py:296: UserWarning: memory_level is currently set to 0 but a Memory object has been provided. Setting memory_level to 1.\n",
      "  warnings.warn(\"memory_level is currently set to 0 but \"\n"
     ]
    },
    {
     "name": "stdout",
     "output_type": "stream",
     "text": [
      "[Memory]    1.3s, 0.0min: Loading resample_img...\n",
      "________________________________________resample_img cache loaded - 0.0s, 0.0min\n",
      "[Memory]    1.4s, 0.0min: Loading filter_and_extract...\n",
      "__________________________________filter_and_extract cache loaded - 0.0s, 0.0min\n",
      "\tPauli sub-cortical Atlas takes:  10.830254316329956  with dim=  (120, 16) \n",
      "\n",
      "[NiftiMapsMasker.fit_transform] loading regions from /home/neuro/nilearn_data/msdl_atlas/MSDL_rois/msdl_rois.nii\n",
      "Resampling maps\n",
      "[Memory]    0.1s, 0.0min: Loading resample_img...\n"
     ]
    },
    {
     "name": "stderr",
     "output_type": "stream",
     "text": [
      "/usr/local/miniconda/lib/python3.7/site-packages/nilearn/_utils/cache_mixin.py:296: UserWarning: memory_level is currently set to 0 but a Memory object has been provided. Setting memory_level to 1.\n",
      "  warnings.warn(\"memory_level is currently set to 0 but \"\n"
     ]
    },
    {
     "name": "stdout",
     "output_type": "stream",
     "text": [
      "________________________________________resample_img cache loaded - 0.2s, 0.0min\n",
      "[Memory]    0.8s, 0.0min: Loading filter_and_extract...\n",
      "__________________________________filter_and_extract cache loaded - 0.0s, 0.0min\n",
      "\tGeal cortical Atlas takes:  3.31160831451416  with dim=  (120, 39) \n",
      "\n",
      "\tAll conn matrices are calculated in:  0.00396275520324707\n",
      "processing  FMR178 :\n",
      "\n"
     ]
    },
    {
     "name": "stderr",
     "output_type": "stream",
     "text": [
      "/usr/local/miniconda/lib/python3.7/site-packages/pandas/core/frame.py:3790: SettingWithCopyWarning: \n",
      "A value is trying to be set on a copy of a slice from a DataFrame\n",
      "\n",
      "See the caveats in the documentation: http://pandas.pydata.org/pandas-docs/stable/indexing.html#indexing-view-versus-copy\n",
      "  downcast=downcast, **kwargs)\n"
     ]
    },
    {
     "name": "stdout",
     "output_type": "stream",
     "text": [
      "[NiftiMapsMasker.fit_transform] loading regions from /home/neuro/nilearn_data/pauli_2017/pauli_2017_prob.nii.gz\n",
      "Resampling maps\n"
     ]
    },
    {
     "name": "stderr",
     "output_type": "stream",
     "text": [
      "/usr/local/miniconda/lib/python3.7/site-packages/nilearn/_utils/cache_mixin.py:296: UserWarning: memory_level is currently set to 0 but a Memory object has been provided. Setting memory_level to 1.\n",
      "  warnings.warn(\"memory_level is currently set to 0 but \"\n"
     ]
    },
    {
     "name": "stdout",
     "output_type": "stream",
     "text": [
      "[Memory]    1.3s, 0.0min: Loading resample_img...\n",
      "________________________________________resample_img cache loaded - 0.0s, 0.0min\n",
      "[Memory]    1.4s, 0.0min: Loading filter_and_extract...\n",
      "__________________________________filter_and_extract cache loaded - 0.0s, 0.0min\n",
      "\tPauli sub-cortical Atlas takes:  10.780913829803467  with dim=  (120, 16) \n",
      "\n",
      "[NiftiMapsMasker.fit_transform] loading regions from /home/neuro/nilearn_data/msdl_atlas/MSDL_rois/msdl_rois.nii\n",
      "Resampling maps\n",
      "[Memory]    0.1s, 0.0min: Loading resample_img...\n"
     ]
    },
    {
     "name": "stderr",
     "output_type": "stream",
     "text": [
      "/usr/local/miniconda/lib/python3.7/site-packages/nilearn/_utils/cache_mixin.py:296: UserWarning: memory_level is currently set to 0 but a Memory object has been provided. Setting memory_level to 1.\n",
      "  warnings.warn(\"memory_level is currently set to 0 but \"\n"
     ]
    },
    {
     "name": "stdout",
     "output_type": "stream",
     "text": [
      "________________________________________resample_img cache loaded - 0.2s, 0.0min\n",
      "[Memory]    0.8s, 0.0min: Loading filter_and_extract...\n",
      "__________________________________filter_and_extract cache loaded - 0.0s, 0.0min\n",
      "\tGeal cortical Atlas takes:  3.235870122909546  with dim=  (120, 39) \n",
      "\n",
      "\tAll conn matrices are calculated in:  0.003914594650268555\n",
      "processing  FMR179 :\n",
      "\n"
     ]
    },
    {
     "name": "stderr",
     "output_type": "stream",
     "text": [
      "/usr/local/miniconda/lib/python3.7/site-packages/pandas/core/frame.py:3790: SettingWithCopyWarning: \n",
      "A value is trying to be set on a copy of a slice from a DataFrame\n",
      "\n",
      "See the caveats in the documentation: http://pandas.pydata.org/pandas-docs/stable/indexing.html#indexing-view-versus-copy\n",
      "  downcast=downcast, **kwargs)\n"
     ]
    },
    {
     "name": "stdout",
     "output_type": "stream",
     "text": [
      "[NiftiMapsMasker.fit_transform] loading regions from /home/neuro/nilearn_data/pauli_2017/pauli_2017_prob.nii.gz\n",
      "Resampling maps\n"
     ]
    },
    {
     "name": "stderr",
     "output_type": "stream",
     "text": [
      "/usr/local/miniconda/lib/python3.7/site-packages/nilearn/_utils/cache_mixin.py:296: UserWarning: memory_level is currently set to 0 but a Memory object has been provided. Setting memory_level to 1.\n",
      "  warnings.warn(\"memory_level is currently set to 0 but \"\n"
     ]
    },
    {
     "name": "stdout",
     "output_type": "stream",
     "text": [
      "[Memory]    1.3s, 0.0min: Loading resample_img...\n",
      "________________________________________resample_img cache loaded - 0.0s, 0.0min\n",
      "[Memory]    1.5s, 0.0min: Loading filter_and_extract...\n",
      "__________________________________filter_and_extract cache loaded - 0.0s, 0.0min\n",
      "\tPauli sub-cortical Atlas takes:  10.781999826431274  with dim=  (120, 16) \n",
      "\n",
      "[NiftiMapsMasker.fit_transform] loading regions from /home/neuro/nilearn_data/msdl_atlas/MSDL_rois/msdl_rois.nii\n",
      "Resampling maps\n",
      "[Memory]    0.1s, 0.0min: Loading resample_img...\n"
     ]
    },
    {
     "name": "stderr",
     "output_type": "stream",
     "text": [
      "/usr/local/miniconda/lib/python3.7/site-packages/nilearn/_utils/cache_mixin.py:296: UserWarning: memory_level is currently set to 0 but a Memory object has been provided. Setting memory_level to 1.\n",
      "  warnings.warn(\"memory_level is currently set to 0 but \"\n"
     ]
    },
    {
     "name": "stdout",
     "output_type": "stream",
     "text": [
      "________________________________________resample_img cache loaded - 0.2s, 0.0min\n",
      "[Memory]    0.8s, 0.0min: Loading filter_and_extract...\n",
      "__________________________________filter_and_extract cache loaded - 0.0s, 0.0min\n",
      "\tGeal cortical Atlas takes:  3.1403324604034424  with dim=  (120, 39) \n",
      "\n",
      "\tAll conn matrices are calculated in:  0.0038330554962158203\n",
      "processing  FMR192 :\n",
      "\n"
     ]
    },
    {
     "name": "stderr",
     "output_type": "stream",
     "text": [
      "/usr/local/miniconda/lib/python3.7/site-packages/pandas/core/frame.py:3790: SettingWithCopyWarning: \n",
      "A value is trying to be set on a copy of a slice from a DataFrame\n",
      "\n",
      "See the caveats in the documentation: http://pandas.pydata.org/pandas-docs/stable/indexing.html#indexing-view-versus-copy\n",
      "  downcast=downcast, **kwargs)\n"
     ]
    },
    {
     "name": "stdout",
     "output_type": "stream",
     "text": [
      "[NiftiMapsMasker.fit_transform] loading regions from /home/neuro/nilearn_data/pauli_2017/pauli_2017_prob.nii.gz\n",
      "Resampling maps\n"
     ]
    },
    {
     "name": "stderr",
     "output_type": "stream",
     "text": [
      "/usr/local/miniconda/lib/python3.7/site-packages/nilearn/_utils/cache_mixin.py:296: UserWarning: memory_level is currently set to 0 but a Memory object has been provided. Setting memory_level to 1.\n",
      "  warnings.warn(\"memory_level is currently set to 0 but \"\n"
     ]
    },
    {
     "name": "stdout",
     "output_type": "stream",
     "text": [
      "[Memory]    1.2s, 0.0min: Loading resample_img...\n",
      "________________________________________resample_img cache loaded - 0.0s, 0.0min\n",
      "[Memory]    1.3s, 0.0min: Loading filter_and_extract...\n",
      "__________________________________filter_and_extract cache loaded - 0.0s, 0.0min\n",
      "\tPauli sub-cortical Atlas takes:  10.805673360824585  with dim=  (120, 16) \n",
      "\n",
      "[NiftiMapsMasker.fit_transform] loading regions from /home/neuro/nilearn_data/msdl_atlas/MSDL_rois/msdl_rois.nii\n",
      "Resampling maps\n",
      "[Memory]    0.1s, 0.0min: Loading resample_img...\n"
     ]
    },
    {
     "name": "stderr",
     "output_type": "stream",
     "text": [
      "/usr/local/miniconda/lib/python3.7/site-packages/nilearn/_utils/cache_mixin.py:296: UserWarning: memory_level is currently set to 0 but a Memory object has been provided. Setting memory_level to 1.\n",
      "  warnings.warn(\"memory_level is currently set to 0 but \"\n"
     ]
    },
    {
     "name": "stdout",
     "output_type": "stream",
     "text": [
      "________________________________________resample_img cache loaded - 0.2s, 0.0min\n",
      "[Memory]    0.8s, 0.0min: Loading filter_and_extract...\n",
      "__________________________________filter_and_extract cache loaded - 0.0s, 0.0min\n",
      "\tGeal cortical Atlas takes:  3.1664509773254395  with dim=  (120, 39) \n",
      "\n",
      "\tAll conn matrices are calculated in:  0.0037081241607666016\n",
      "processing  VT004 :\n",
      "\n"
     ]
    },
    {
     "name": "stderr",
     "output_type": "stream",
     "text": [
      "/usr/local/miniconda/lib/python3.7/site-packages/pandas/core/frame.py:3790: SettingWithCopyWarning: \n",
      "A value is trying to be set on a copy of a slice from a DataFrame\n",
      "\n",
      "See the caveats in the documentation: http://pandas.pydata.org/pandas-docs/stable/indexing.html#indexing-view-versus-copy\n",
      "  downcast=downcast, **kwargs)\n"
     ]
    },
    {
     "name": "stdout",
     "output_type": "stream",
     "text": [
      "[NiftiMapsMasker.fit_transform] loading regions from /home/neuro/nilearn_data/pauli_2017/pauli_2017_prob.nii.gz\n",
      "Resampling maps\n"
     ]
    },
    {
     "name": "stderr",
     "output_type": "stream",
     "text": [
      "/usr/local/miniconda/lib/python3.7/site-packages/nilearn/_utils/cache_mixin.py:296: UserWarning: memory_level is currently set to 0 but a Memory object has been provided. Setting memory_level to 1.\n",
      "  warnings.warn(\"memory_level is currently set to 0 but \"\n"
     ]
    },
    {
     "name": "stdout",
     "output_type": "stream",
     "text": [
      "[Memory]    1.3s, 0.0min: Loading resample_img...\n",
      "________________________________________resample_img cache loaded - 0.0s, 0.0min\n",
      "[Memory]    1.4s, 0.0min: Loading filter_and_extract...\n",
      "__________________________________filter_and_extract cache loaded - 0.0s, 0.0min\n",
      "\tPauli sub-cortical Atlas takes:  10.927755355834961  with dim=  (120, 16) \n",
      "\n",
      "[NiftiMapsMasker.fit_transform] loading regions from /home/neuro/nilearn_data/msdl_atlas/MSDL_rois/msdl_rois.nii\n",
      "Resampling maps\n",
      "[Memory]    0.1s, 0.0min: Loading resample_img...\n"
     ]
    },
    {
     "name": "stderr",
     "output_type": "stream",
     "text": [
      "/usr/local/miniconda/lib/python3.7/site-packages/nilearn/_utils/cache_mixin.py:296: UserWarning: memory_level is currently set to 0 but a Memory object has been provided. Setting memory_level to 1.\n",
      "  warnings.warn(\"memory_level is currently set to 0 but \"\n"
     ]
    },
    {
     "name": "stdout",
     "output_type": "stream",
     "text": [
      "________________________________________resample_img cache loaded - 0.2s, 0.0min\n",
      "[Memory]    0.8s, 0.0min: Loading filter_and_extract...\n",
      "__________________________________filter_and_extract cache loaded - 0.0s, 0.0min\n",
      "\tGeal cortical Atlas takes:  3.320293426513672  with dim=  (120, 39) \n",
      "\n",
      "\tAll conn matrices are calculated in:  0.004219770431518555\n",
      "processing  VT005 :\n",
      "\n"
     ]
    },
    {
     "name": "stderr",
     "output_type": "stream",
     "text": [
      "/usr/local/miniconda/lib/python3.7/site-packages/pandas/core/frame.py:3790: SettingWithCopyWarning: \n",
      "A value is trying to be set on a copy of a slice from a DataFrame\n",
      "\n",
      "See the caveats in the documentation: http://pandas.pydata.org/pandas-docs/stable/indexing.html#indexing-view-versus-copy\n",
      "  downcast=downcast, **kwargs)\n"
     ]
    },
    {
     "name": "stdout",
     "output_type": "stream",
     "text": [
      "[NiftiMapsMasker.fit_transform] loading regions from /home/neuro/nilearn_data/pauli_2017/pauli_2017_prob.nii.gz\n",
      "Resampling maps\n"
     ]
    },
    {
     "name": "stderr",
     "output_type": "stream",
     "text": [
      "/usr/local/miniconda/lib/python3.7/site-packages/nilearn/_utils/cache_mixin.py:296: UserWarning: memory_level is currently set to 0 but a Memory object has been provided. Setting memory_level to 1.\n",
      "  warnings.warn(\"memory_level is currently set to 0 but \"\n"
     ]
    },
    {
     "name": "stdout",
     "output_type": "stream",
     "text": [
      "[Memory]    1.4s, 0.0min: Loading resample_img...\n",
      "________________________________________resample_img cache loaded - 0.0s, 0.0min\n",
      "[Memory]    1.5s, 0.0min: Loading filter_and_extract...\n",
      "__________________________________filter_and_extract cache loaded - 0.0s, 0.0min\n",
      "\tPauli sub-cortical Atlas takes:  11.030941009521484  with dim=  (120, 16) \n",
      "\n",
      "[NiftiMapsMasker.fit_transform] loading regions from /home/neuro/nilearn_data/msdl_atlas/MSDL_rois/msdl_rois.nii\n",
      "Resampling maps\n",
      "[Memory]    0.1s, 0.0min: Loading resample_img...\n"
     ]
    },
    {
     "name": "stderr",
     "output_type": "stream",
     "text": [
      "/usr/local/miniconda/lib/python3.7/site-packages/nilearn/_utils/cache_mixin.py:296: UserWarning: memory_level is currently set to 0 but a Memory object has been provided. Setting memory_level to 1.\n",
      "  warnings.warn(\"memory_level is currently set to 0 but \"\n"
     ]
    },
    {
     "name": "stdout",
     "output_type": "stream",
     "text": [
      "________________________________________resample_img cache loaded - 0.2s, 0.0min\n",
      "[Memory]    0.8s, 0.0min: Loading filter_and_extract...\n",
      "__________________________________filter_and_extract cache loaded - 0.0s, 0.0min\n",
      "\tGeal cortical Atlas takes:  3.1587982177734375  with dim=  (120, 39) \n",
      "\n",
      "\tAll conn matrices are calculated in:  0.004177093505859375\n",
      "processing  VT006 :\n",
      "\n"
     ]
    },
    {
     "name": "stderr",
     "output_type": "stream",
     "text": [
      "/usr/local/miniconda/lib/python3.7/site-packages/pandas/core/frame.py:3790: SettingWithCopyWarning: \n",
      "A value is trying to be set on a copy of a slice from a DataFrame\n",
      "\n",
      "See the caveats in the documentation: http://pandas.pydata.org/pandas-docs/stable/indexing.html#indexing-view-versus-copy\n",
      "  downcast=downcast, **kwargs)\n"
     ]
    },
    {
     "name": "stdout",
     "output_type": "stream",
     "text": [
      "[NiftiMapsMasker.fit_transform] loading regions from /home/neuro/nilearn_data/pauli_2017/pauli_2017_prob.nii.gz\n",
      "Resampling maps\n"
     ]
    },
    {
     "name": "stderr",
     "output_type": "stream",
     "text": [
      "/usr/local/miniconda/lib/python3.7/site-packages/nilearn/_utils/cache_mixin.py:296: UserWarning: memory_level is currently set to 0 but a Memory object has been provided. Setting memory_level to 1.\n",
      "  warnings.warn(\"memory_level is currently set to 0 but \"\n"
     ]
    },
    {
     "name": "stdout",
     "output_type": "stream",
     "text": [
      "[Memory]    1.2s, 0.0min: Loading resample_img...\n",
      "________________________________________resample_img cache loaded - 0.0s, 0.0min\n",
      "[Memory]    1.4s, 0.0min: Loading filter_and_extract...\n",
      "__________________________________filter_and_extract cache loaded - 0.0s, 0.0min\n",
      "\tPauli sub-cortical Atlas takes:  11.137468338012695  with dim=  (120, 16) \n",
      "\n",
      "[NiftiMapsMasker.fit_transform] loading regions from /home/neuro/nilearn_data/msdl_atlas/MSDL_rois/msdl_rois.nii\n",
      "Resampling maps\n",
      "[Memory]    0.1s, 0.0min: Loading resample_img...\n"
     ]
    },
    {
     "name": "stderr",
     "output_type": "stream",
     "text": [
      "/usr/local/miniconda/lib/python3.7/site-packages/nilearn/_utils/cache_mixin.py:296: UserWarning: memory_level is currently set to 0 but a Memory object has been provided. Setting memory_level to 1.\n",
      "  warnings.warn(\"memory_level is currently set to 0 but \"\n"
     ]
    },
    {
     "name": "stdout",
     "output_type": "stream",
     "text": [
      "________________________________________resample_img cache loaded - 0.2s, 0.0min\n",
      "[Memory]    0.8s, 0.0min: Loading filter_and_extract...\n",
      "__________________________________filter_and_extract cache loaded - 0.0s, 0.0min\n",
      "\tGeal cortical Atlas takes:  3.2302074432373047  with dim=  (120, 39) \n",
      "\n",
      "\tAll conn matrices are calculated in:  0.0036568641662597656\n",
      "processing  VT008 :\n",
      "\n"
     ]
    },
    {
     "name": "stderr",
     "output_type": "stream",
     "text": [
      "/usr/local/miniconda/lib/python3.7/site-packages/pandas/core/frame.py:3790: SettingWithCopyWarning: \n",
      "A value is trying to be set on a copy of a slice from a DataFrame\n",
      "\n",
      "See the caveats in the documentation: http://pandas.pydata.org/pandas-docs/stable/indexing.html#indexing-view-versus-copy\n",
      "  downcast=downcast, **kwargs)\n"
     ]
    },
    {
     "name": "stdout",
     "output_type": "stream",
     "text": [
      "[NiftiMapsMasker.fit_transform] loading regions from /home/neuro/nilearn_data/pauli_2017/pauli_2017_prob.nii.gz\n",
      "Resampling maps\n"
     ]
    },
    {
     "name": "stderr",
     "output_type": "stream",
     "text": [
      "/usr/local/miniconda/lib/python3.7/site-packages/nilearn/_utils/cache_mixin.py:296: UserWarning: memory_level is currently set to 0 but a Memory object has been provided. Setting memory_level to 1.\n",
      "  warnings.warn(\"memory_level is currently set to 0 but \"\n"
     ]
    },
    {
     "name": "stdout",
     "output_type": "stream",
     "text": [
      "[Memory]    1.3s, 0.0min: Loading resample_img...\n",
      "________________________________________resample_img cache loaded - 0.0s, 0.0min\n",
      "[Memory]    1.4s, 0.0min: Loading filter_and_extract...\n",
      "__________________________________filter_and_extract cache loaded - 0.0s, 0.0min\n",
      "\tPauli sub-cortical Atlas takes:  11.312256574630737  with dim=  (120, 16) \n",
      "\n",
      "[NiftiMapsMasker.fit_transform] loading regions from /home/neuro/nilearn_data/msdl_atlas/MSDL_rois/msdl_rois.nii\n",
      "Resampling maps\n",
      "[Memory]    0.1s, 0.0min: Loading resample_img...\n"
     ]
    },
    {
     "name": "stderr",
     "output_type": "stream",
     "text": [
      "/usr/local/miniconda/lib/python3.7/site-packages/nilearn/_utils/cache_mixin.py:296: UserWarning: memory_level is currently set to 0 but a Memory object has been provided. Setting memory_level to 1.\n",
      "  warnings.warn(\"memory_level is currently set to 0 but \"\n"
     ]
    },
    {
     "name": "stdout",
     "output_type": "stream",
     "text": [
      "________________________________________resample_img cache loaded - 0.2s, 0.0min\n",
      "[Memory]    0.8s, 0.0min: Loading filter_and_extract...\n",
      "__________________________________filter_and_extract cache loaded - 0.0s, 0.0min\n",
      "\tGeal cortical Atlas takes:  3.255594491958618  with dim=  (120, 39) \n",
      "\n",
      "\tAll conn matrices are calculated in:  0.0040433406829833984\n",
      "processing  VT009 :\n",
      "\n"
     ]
    },
    {
     "name": "stderr",
     "output_type": "stream",
     "text": [
      "/usr/local/miniconda/lib/python3.7/site-packages/pandas/core/frame.py:3790: SettingWithCopyWarning: \n",
      "A value is trying to be set on a copy of a slice from a DataFrame\n",
      "\n",
      "See the caveats in the documentation: http://pandas.pydata.org/pandas-docs/stable/indexing.html#indexing-view-versus-copy\n",
      "  downcast=downcast, **kwargs)\n"
     ]
    },
    {
     "name": "stdout",
     "output_type": "stream",
     "text": [
      "[NiftiMapsMasker.fit_transform] loading regions from /home/neuro/nilearn_data/pauli_2017/pauli_2017_prob.nii.gz\n",
      "Resampling maps\n"
     ]
    },
    {
     "name": "stderr",
     "output_type": "stream",
     "text": [
      "/usr/local/miniconda/lib/python3.7/site-packages/nilearn/_utils/cache_mixin.py:296: UserWarning: memory_level is currently set to 0 but a Memory object has been provided. Setting memory_level to 1.\n",
      "  warnings.warn(\"memory_level is currently set to 0 but \"\n"
     ]
    },
    {
     "name": "stdout",
     "output_type": "stream",
     "text": [
      "[Memory]    1.2s, 0.0min: Loading resample_img...\n",
      "________________________________________resample_img cache loaded - 0.0s, 0.0min\n",
      "________________________________________________________________________________\n",
      "[Memory] Calling nilearn.input_data.base_masker.filter_and_extract...\n",
      "filter_and_extract('/data/sub-VT009/func/sub-VT009_task-rest_motion-uncorrected_run-1_space-MNI152NLin6Asym_desc-preproc_bold.nii.gz', \n",
      "<nilearn.input_data.nifti_maps_masker._ExtractionFunctor object at 0x7f81b4797c18>, \n",
      "{ 'allow_overlap': True,\n",
      "  'detrend': False,\n",
      "  'dtype': None,\n",
      "  'high_pass': None,\n",
      "  'low_pass': None,\n",
      "  'maps_img': '/home/neuro/nilearn_data/pauli_2017/pauli_2017_prob.nii.gz',\n",
      "  'mask_img': None,\n",
      "  'smoothing_fwhm': None,\n",
      "  'standardize': True,\n",
      "  't_r': None,\n",
      "  'target_affine': None,\n",
      "  'target_shape': None}, confounds=array([[7.461793e+02, ..., 2.573618e-06],\n",
      "       ...,\n",
      "       [7.395871e+02, ..., 2.608993e-05]]), dtype=None, memory=Memory(cachedir='nilearn_cache/joblib'), memory_level=1, verbose=5)\n",
      "[NiftiMapsMasker.transform_single_imgs] Loading data from /data/sub-VT009/func/sub-VT009_task-rest_motion-uncorrected_run-1_space-MNI152NLin6Asym_desc-preproc_bold.nii.gz\n",
      "[NiftiMapsMasker.transform_single_imgs] Extracting region signals\n",
      "[NiftiMapsMasker.transform_single_imgs] Cleaning extracted signals\n",
      "______________________________________________filter_and_extract - 18.9s, 0.3min\n",
      "\tPauli sub-cortical Atlas takes:  30.087332725524902  with dim=  (120, 16) \n",
      "\n",
      "[NiftiMapsMasker.fit_transform] loading regions from /home/neuro/nilearn_data/msdl_atlas/MSDL_rois/msdl_rois.nii\n",
      "Resampling maps\n",
      "[Memory]    0.1s, 0.0min: Loading resample_img...\n"
     ]
    },
    {
     "name": "stderr",
     "output_type": "stream",
     "text": [
      "/usr/local/miniconda/lib/python3.7/site-packages/nilearn/_utils/cache_mixin.py:296: UserWarning: memory_level is currently set to 0 but a Memory object has been provided. Setting memory_level to 1.\n",
      "  warnings.warn(\"memory_level is currently set to 0 but \"\n"
     ]
    },
    {
     "name": "stdout",
     "output_type": "stream",
     "text": [
      "________________________________________resample_img cache loaded - 0.2s, 0.0min\n",
      "________________________________________________________________________________\n",
      "[Memory] Calling nilearn.input_data.base_masker.filter_and_extract...\n",
      "filter_and_extract('/data/sub-VT009/func/sub-VT009_task-rest_motion-uncorrected_run-1_space-MNI152NLin6Asym_desc-preproc_bold.nii.gz', \n",
      "<nilearn.input_data.nifti_maps_masker._ExtractionFunctor object at 0x7f81b80a9e10>, \n",
      "{ 'allow_overlap': True,\n",
      "  'detrend': False,\n",
      "  'dtype': None,\n",
      "  'high_pass': None,\n",
      "  'low_pass': None,\n",
      "  'maps_img': '/home/neuro/nilearn_data/msdl_atlas/MSDL_rois/msdl_rois.nii',\n",
      "  'mask_img': None,\n",
      "  'smoothing_fwhm': None,\n",
      "  'standardize': True,\n",
      "  't_r': None,\n",
      "  'target_affine': None,\n",
      "  'target_shape': None}, confounds=array([[7.461793e+02, ..., 2.573618e-06],\n",
      "       ...,\n",
      "       [7.395871e+02, ..., 2.608993e-05]]), dtype=None, memory=Memory(cachedir='nilearn_cache/joblib'), memory_level=1, verbose=5)\n",
      "[NiftiMapsMasker.transform_single_imgs] Loading data from /data/sub-VT009/func/sub-VT009_task-rest_motion-uncorrected_run-1_space-MNI152NLin6Asym_desc-preproc_bold.nii.gz\n",
      "[NiftiMapsMasker.transform_single_imgs] Extracting region signals\n",
      "[NiftiMapsMasker.transform_single_imgs] Cleaning extracted signals\n",
      "______________________________________________filter_and_extract - 29.7s, 0.5min\n",
      "\tGeal cortical Atlas takes:  32.82876539230347  with dim=  (120, 39) \n",
      "\n",
      "\tAll conn matrices are calculated in:  0.003755331039428711\n",
      "processing  VT010 :\n",
      "\n"
     ]
    },
    {
     "name": "stderr",
     "output_type": "stream",
     "text": [
      "/usr/local/miniconda/lib/python3.7/site-packages/pandas/core/frame.py:3790: SettingWithCopyWarning: \n",
      "A value is trying to be set on a copy of a slice from a DataFrame\n",
      "\n",
      "See the caveats in the documentation: http://pandas.pydata.org/pandas-docs/stable/indexing.html#indexing-view-versus-copy\n",
      "  downcast=downcast, **kwargs)\n"
     ]
    },
    {
     "name": "stdout",
     "output_type": "stream",
     "text": [
      "[NiftiMapsMasker.fit_transform] loading regions from /home/neuro/nilearn_data/pauli_2017/pauli_2017_prob.nii.gz\n",
      "Resampling maps\n"
     ]
    },
    {
     "name": "stderr",
     "output_type": "stream",
     "text": [
      "/usr/local/miniconda/lib/python3.7/site-packages/nilearn/_utils/cache_mixin.py:296: UserWarning: memory_level is currently set to 0 but a Memory object has been provided. Setting memory_level to 1.\n",
      "  warnings.warn(\"memory_level is currently set to 0 but \"\n"
     ]
    },
    {
     "name": "stdout",
     "output_type": "stream",
     "text": [
      "[Memory]    1.2s, 0.0min: Loading resample_img...\n",
      "________________________________________resample_img cache loaded - 0.0s, 0.0min\n",
      "________________________________________________________________________________\n",
      "[Memory] Calling nilearn.input_data.base_masker.filter_and_extract...\n",
      "filter_and_extract('/data/sub-VT010/func/sub-VT010_task-rest_motion-uncorrected_run-1_space-MNI152NLin6Asym_desc-preproc_bold.nii.gz', \n",
      "<nilearn.input_data.nifti_maps_masker._ExtractionFunctor object at 0x7f81b29d8dd8>, \n",
      "{ 'allow_overlap': True,\n",
      "  'detrend': False,\n",
      "  'dtype': None,\n",
      "  'high_pass': None,\n",
      "  'low_pass': None,\n",
      "  'maps_img': '/home/neuro/nilearn_data/pauli_2017/pauli_2017_prob.nii.gz',\n",
      "  'mask_img': None,\n",
      "  'smoothing_fwhm': None,\n",
      "  'standardize': True,\n",
      "  't_r': None,\n",
      "  'target_affine': None,\n",
      "  'target_shape': None}, confounds=array([[6.643718e+02, ..., 4.229151e-06],\n",
      "       ...,\n",
      "       [6.625286e+02, ..., 1.435637e-05]]), dtype=None, memory=Memory(cachedir='nilearn_cache/joblib'), memory_level=1, verbose=5)\n",
      "[NiftiMapsMasker.transform_single_imgs] Loading data from /data/sub-VT010/func/sub-VT010_task-rest_motion-uncorrected_run-1_space-MNI152NLin6Asym_desc-preproc_bold.nii.gz\n",
      "[NiftiMapsMasker.transform_single_imgs] Extracting region signals\n",
      "[NiftiMapsMasker.transform_single_imgs] Cleaning extracted signals\n",
      "______________________________________________filter_and_extract - 19.0s, 0.3min\n",
      "\tPauli sub-cortical Atlas takes:  30.019383430480957  with dim=  (120, 16) \n",
      "\n",
      "[NiftiMapsMasker.fit_transform] loading regions from /home/neuro/nilearn_data/msdl_atlas/MSDL_rois/msdl_rois.nii\n",
      "Resampling maps\n",
      "[Memory]    0.1s, 0.0min: Loading resample_img...\n"
     ]
    },
    {
     "name": "stderr",
     "output_type": "stream",
     "text": [
      "/usr/local/miniconda/lib/python3.7/site-packages/nilearn/_utils/cache_mixin.py:296: UserWarning: memory_level is currently set to 0 but a Memory object has been provided. Setting memory_level to 1.\n",
      "  warnings.warn(\"memory_level is currently set to 0 but \"\n"
     ]
    },
    {
     "name": "stdout",
     "output_type": "stream",
     "text": [
      "________________________________________resample_img cache loaded - 0.2s, 0.0min\n",
      "________________________________________________________________________________\n",
      "[Memory] Calling nilearn.input_data.base_masker.filter_and_extract...\n",
      "filter_and_extract('/data/sub-VT010/func/sub-VT010_task-rest_motion-uncorrected_run-1_space-MNI152NLin6Asym_desc-preproc_bold.nii.gz', \n",
      "<nilearn.input_data.nifti_maps_masker._ExtractionFunctor object at 0x7f81bd728470>, \n",
      "{ 'allow_overlap': True,\n",
      "  'detrend': False,\n",
      "  'dtype': None,\n",
      "  'high_pass': None,\n",
      "  'low_pass': None,\n",
      "  'maps_img': '/home/neuro/nilearn_data/msdl_atlas/MSDL_rois/msdl_rois.nii',\n",
      "  'mask_img': None,\n",
      "  'smoothing_fwhm': None,\n",
      "  'standardize': True,\n",
      "  't_r': None,\n",
      "  'target_affine': None,\n",
      "  'target_shape': None}, confounds=array([[6.643718e+02, ..., 4.229151e-06],\n",
      "       ...,\n",
      "       [6.625286e+02, ..., 1.435637e-05]]), dtype=None, memory=Memory(cachedir='nilearn_cache/joblib'), memory_level=1, verbose=5)\n",
      "[NiftiMapsMasker.transform_single_imgs] Loading data from /data/sub-VT010/func/sub-VT010_task-rest_motion-uncorrected_run-1_space-MNI152NLin6Asym_desc-preproc_bold.nii.gz\n",
      "[NiftiMapsMasker.transform_single_imgs] Extracting region signals\n",
      "[NiftiMapsMasker.transform_single_imgs] Cleaning extracted signals\n",
      "______________________________________________filter_and_extract - 29.9s, 0.5min\n",
      "\tGeal cortical Atlas takes:  33.08931756019592  with dim=  (120, 39) \n",
      "\n",
      "\tAll conn matrices are calculated in:  0.004637002944946289\n",
      "processing  VT012 :\n",
      "\n"
     ]
    },
    {
     "name": "stderr",
     "output_type": "stream",
     "text": [
      "/usr/local/miniconda/lib/python3.7/site-packages/pandas/core/frame.py:3790: SettingWithCopyWarning: \n",
      "A value is trying to be set on a copy of a slice from a DataFrame\n",
      "\n",
      "See the caveats in the documentation: http://pandas.pydata.org/pandas-docs/stable/indexing.html#indexing-view-versus-copy\n",
      "  downcast=downcast, **kwargs)\n"
     ]
    },
    {
     "name": "stdout",
     "output_type": "stream",
     "text": [
      "[NiftiMapsMasker.fit_transform] loading regions from /home/neuro/nilearn_data/pauli_2017/pauli_2017_prob.nii.gz\n",
      "Resampling maps\n"
     ]
    },
    {
     "name": "stderr",
     "output_type": "stream",
     "text": [
      "/usr/local/miniconda/lib/python3.7/site-packages/nilearn/_utils/cache_mixin.py:296: UserWarning: memory_level is currently set to 0 but a Memory object has been provided. Setting memory_level to 1.\n",
      "  warnings.warn(\"memory_level is currently set to 0 but \"\n"
     ]
    },
    {
     "name": "stdout",
     "output_type": "stream",
     "text": [
      "[Memory]    1.3s, 0.0min: Loading resample_img...\n",
      "________________________________________resample_img cache loaded - 0.0s, 0.0min\n",
      "________________________________________________________________________________\n",
      "[Memory] Calling nilearn.input_data.base_masker.filter_and_extract...\n",
      "filter_and_extract('/data/sub-VT012/func/sub-VT012_task-rest_motion-uncorrected_run-1_space-MNI152NLin6Asym_desc-preproc_bold.nii.gz', \n",
      "<nilearn.input_data.nifti_maps_masker._ExtractionFunctor object at 0x7f81b46d8358>, \n",
      "{ 'allow_overlap': True,\n",
      "  'detrend': False,\n",
      "  'dtype': None,\n",
      "  'high_pass': None,\n",
      "  'low_pass': None,\n",
      "  'maps_img': '/home/neuro/nilearn_data/pauli_2017/pauli_2017_prob.nii.gz',\n",
      "  'mask_img': None,\n",
      "  'smoothing_fwhm': None,\n",
      "  'standardize': True,\n",
      "  't_r': None,\n",
      "  'target_affine': None,\n",
      "  'target_shape': None}, confounds=array([[596.091228, ...,   0.      ],\n",
      "       ...,\n",
      "       [595.168858, ...,   0.      ]]), dtype=None, memory=Memory(cachedir='nilearn_cache/joblib'), memory_level=1, verbose=5)\n",
      "[NiftiMapsMasker.transform_single_imgs] Loading data from /data/sub-VT012/func/sub-VT012_task-rest_motion-uncorrected_run-1_space-MNI152NLin6Asym_desc-preproc_bold.nii.gz\n",
      "[NiftiMapsMasker.transform_single_imgs] Extracting region signals\n",
      "[NiftiMapsMasker.transform_single_imgs] Cleaning extracted signals\n",
      "______________________________________________filter_and_extract - 18.9s, 0.3min\n",
      "\tPauli sub-cortical Atlas takes:  30.285860300064087  with dim=  (120, 16) \n",
      "\n",
      "[NiftiMapsMasker.fit_transform] loading regions from /home/neuro/nilearn_data/msdl_atlas/MSDL_rois/msdl_rois.nii\n",
      "Resampling maps\n",
      "[Memory]    0.1s, 0.0min: Loading resample_img...\n"
     ]
    },
    {
     "name": "stderr",
     "output_type": "stream",
     "text": [
      "/usr/local/miniconda/lib/python3.7/site-packages/nilearn/_utils/cache_mixin.py:296: UserWarning: memory_level is currently set to 0 but a Memory object has been provided. Setting memory_level to 1.\n",
      "  warnings.warn(\"memory_level is currently set to 0 but \"\n"
     ]
    },
    {
     "name": "stdout",
     "output_type": "stream",
     "text": [
      "________________________________________resample_img cache loaded - 0.2s, 0.0min\n",
      "________________________________________________________________________________\n",
      "[Memory] Calling nilearn.input_data.base_masker.filter_and_extract...\n",
      "filter_and_extract('/data/sub-VT012/func/sub-VT012_task-rest_motion-uncorrected_run-1_space-MNI152NLin6Asym_desc-preproc_bold.nii.gz', \n",
      "<nilearn.input_data.nifti_maps_masker._ExtractionFunctor object at 0x7f81b0f92358>, \n",
      "{ 'allow_overlap': True,\n",
      "  'detrend': False,\n",
      "  'dtype': None,\n",
      "  'high_pass': None,\n",
      "  'low_pass': None,\n",
      "  'maps_img': '/home/neuro/nilearn_data/msdl_atlas/MSDL_rois/msdl_rois.nii',\n",
      "  'mask_img': None,\n",
      "  'smoothing_fwhm': None,\n",
      "  'standardize': True,\n",
      "  't_r': None,\n",
      "  'target_affine': None,\n",
      "  'target_shape': None}, confounds=array([[596.091228, ...,   0.      ],\n",
      "       ...,\n",
      "       [595.168858, ...,   0.      ]]), dtype=None, memory=Memory(cachedir='nilearn_cache/joblib'), memory_level=1, verbose=5)\n",
      "[NiftiMapsMasker.transform_single_imgs] Loading data from /data/sub-VT012/func/sub-VT012_task-rest_motion-uncorrected_run-1_space-MNI152NLin6Asym_desc-preproc_bold.nii.gz\n",
      "[NiftiMapsMasker.transform_single_imgs] Extracting region signals\n",
      "[NiftiMapsMasker.transform_single_imgs] Cleaning extracted signals\n",
      "______________________________________________filter_and_extract - 30.1s, 0.5min\n",
      "\tGeal cortical Atlas takes:  33.088542222976685  with dim=  (120, 39) \n",
      "\n",
      "\tAll conn matrices are calculated in:  0.00397801399230957\n",
      "processing  VT015 :\n",
      "\n"
     ]
    },
    {
     "name": "stderr",
     "output_type": "stream",
     "text": [
      "/usr/local/miniconda/lib/python3.7/site-packages/pandas/core/frame.py:3790: SettingWithCopyWarning: \n",
      "A value is trying to be set on a copy of a slice from a DataFrame\n",
      "\n",
      "See the caveats in the documentation: http://pandas.pydata.org/pandas-docs/stable/indexing.html#indexing-view-versus-copy\n",
      "  downcast=downcast, **kwargs)\n"
     ]
    },
    {
     "name": "stdout",
     "output_type": "stream",
     "text": [
      "[NiftiMapsMasker.fit_transform] loading regions from /home/neuro/nilearn_data/pauli_2017/pauli_2017_prob.nii.gz\n",
      "Resampling maps\n"
     ]
    },
    {
     "name": "stderr",
     "output_type": "stream",
     "text": [
      "/usr/local/miniconda/lib/python3.7/site-packages/nilearn/_utils/cache_mixin.py:296: UserWarning: memory_level is currently set to 0 but a Memory object has been provided. Setting memory_level to 1.\n",
      "  warnings.warn(\"memory_level is currently set to 0 but \"\n"
     ]
    },
    {
     "name": "stdout",
     "output_type": "stream",
     "text": [
      "[Memory]    1.3s, 0.0min: Loading resample_img...\n",
      "________________________________________resample_img cache loaded - 0.0s, 0.0min\n",
      "________________________________________________________________________________\n",
      "[Memory] Calling nilearn.input_data.base_masker.filter_and_extract...\n",
      "filter_and_extract('/data/sub-VT015/func/sub-VT015_task-rest_motion-uncorrected_run-1_space-MNI152NLin6Asym_desc-preproc_bold.nii.gz', \n",
      "<nilearn.input_data.nifti_maps_masker._ExtractionFunctor object at 0x7f81b4673e80>, \n",
      "{ 'allow_overlap': True,\n",
      "  'detrend': False,\n",
      "  'dtype': None,\n",
      "  'high_pass': None,\n",
      "  'low_pass': None,\n",
      "  'maps_img': '/home/neuro/nilearn_data/pauli_2017/pauli_2017_prob.nii.gz',\n",
      "  'mask_img': None,\n",
      "  'smoothing_fwhm': None,\n",
      "  'standardize': True,\n",
      "  't_r': None,\n",
      "  'target_affine': None,\n",
      "  'target_shape': None}, confounds=array([[7.080670e+02, ..., 1.209614e-07],\n",
      "       ...,\n",
      "       [6.918933e+02, ..., 3.571911e-06]]), dtype=None, memory=Memory(cachedir='nilearn_cache/joblib'), memory_level=1, verbose=5)\n",
      "[NiftiMapsMasker.transform_single_imgs] Loading data from /data/sub-VT015/func/sub-VT015_task-rest_motion-uncorrected_run-1_space-MNI152NLin6Asym_desc-preproc_bold.nii.gz\n",
      "[NiftiMapsMasker.transform_single_imgs] Extracting region signals\n",
      "[NiftiMapsMasker.transform_single_imgs] Cleaning extracted signals\n",
      "______________________________________________filter_and_extract - 19.3s, 0.3min\n",
      "\tPauli sub-cortical Atlas takes:  30.786799907684326  with dim=  (120, 16) \n",
      "\n",
      "[NiftiMapsMasker.fit_transform] loading regions from /home/neuro/nilearn_data/msdl_atlas/MSDL_rois/msdl_rois.nii\n",
      "Resampling maps\n",
      "[Memory]    0.1s, 0.0min: Loading resample_img...\n"
     ]
    },
    {
     "name": "stderr",
     "output_type": "stream",
     "text": [
      "/usr/local/miniconda/lib/python3.7/site-packages/nilearn/_utils/cache_mixin.py:296: UserWarning: memory_level is currently set to 0 but a Memory object has been provided. Setting memory_level to 1.\n",
      "  warnings.warn(\"memory_level is currently set to 0 but \"\n"
     ]
    },
    {
     "name": "stdout",
     "output_type": "stream",
     "text": [
      "________________________________________resample_img cache loaded - 0.2s, 0.0min\n",
      "________________________________________________________________________________\n",
      "[Memory] Calling nilearn.input_data.base_masker.filter_and_extract...\n",
      "filter_and_extract('/data/sub-VT015/func/sub-VT015_task-rest_motion-uncorrected_run-1_space-MNI152NLin6Asym_desc-preproc_bold.nii.gz', \n",
      "<nilearn.input_data.nifti_maps_masker._ExtractionFunctor object at 0x7f81b0dcf080>, \n",
      "{ 'allow_overlap': True,\n",
      "  'detrend': False,\n",
      "  'dtype': None,\n",
      "  'high_pass': None,\n",
      "  'low_pass': None,\n",
      "  'maps_img': '/home/neuro/nilearn_data/msdl_atlas/MSDL_rois/msdl_rois.nii',\n",
      "  'mask_img': None,\n",
      "  'smoothing_fwhm': None,\n",
      "  'standardize': True,\n",
      "  't_r': None,\n",
      "  'target_affine': None,\n",
      "  'target_shape': None}, confounds=array([[7.080670e+02, ..., 1.209614e-07],\n",
      "       ...,\n",
      "       [6.918933e+02, ..., 3.571911e-06]]), dtype=None, memory=Memory(cachedir='nilearn_cache/joblib'), memory_level=1, verbose=5)\n",
      "[NiftiMapsMasker.transform_single_imgs] Loading data from /data/sub-VT015/func/sub-VT015_task-rest_motion-uncorrected_run-1_space-MNI152NLin6Asym_desc-preproc_bold.nii.gz\n",
      "[NiftiMapsMasker.transform_single_imgs] Extracting region signals\n",
      "[NiftiMapsMasker.transform_single_imgs] Cleaning extracted signals\n",
      "______________________________________________filter_and_extract - 30.6s, 0.5min\n",
      "\tGeal cortical Atlas takes:  33.668413400650024  with dim=  (120, 39) \n",
      "\n",
      "\tAll conn matrices are calculated in:  0.004200458526611328\n",
      "processing  VT016 :\n",
      "\n"
     ]
    },
    {
     "name": "stderr",
     "output_type": "stream",
     "text": [
      "/usr/local/miniconda/lib/python3.7/site-packages/pandas/core/frame.py:3790: SettingWithCopyWarning: \n",
      "A value is trying to be set on a copy of a slice from a DataFrame\n",
      "\n",
      "See the caveats in the documentation: http://pandas.pydata.org/pandas-docs/stable/indexing.html#indexing-view-versus-copy\n",
      "  downcast=downcast, **kwargs)\n"
     ]
    },
    {
     "name": "stdout",
     "output_type": "stream",
     "text": [
      "[NiftiMapsMasker.fit_transform] loading regions from /home/neuro/nilearn_data/pauli_2017/pauli_2017_prob.nii.gz\n",
      "Resampling maps\n"
     ]
    },
    {
     "name": "stderr",
     "output_type": "stream",
     "text": [
      "/usr/local/miniconda/lib/python3.7/site-packages/nilearn/_utils/cache_mixin.py:296: UserWarning: memory_level is currently set to 0 but a Memory object has been provided. Setting memory_level to 1.\n",
      "  warnings.warn(\"memory_level is currently set to 0 but \"\n"
     ]
    },
    {
     "name": "stdout",
     "output_type": "stream",
     "text": [
      "[Memory]    1.3s, 0.0min: Loading resample_img...\n",
      "________________________________________resample_img cache loaded - 0.0s, 0.0min\n",
      "________________________________________________________________________________\n",
      "[Memory] Calling nilearn.input_data.base_masker.filter_and_extract...\n",
      "filter_and_extract('/data/sub-VT016/func/sub-VT016_task-rest_motion-uncorrected_run-1_space-MNI152NLin6Asym_desc-preproc_bold.nii.gz', \n",
      "<nilearn.input_data.nifti_maps_masker._ExtractionFunctor object at 0x7f81af0083c8>, \n",
      "{ 'allow_overlap': True,\n",
      "  'detrend': False,\n",
      "  'dtype': None,\n",
      "  'high_pass': None,\n",
      "  'low_pass': None,\n",
      "  'maps_img': '/home/neuro/nilearn_data/pauli_2017/pauli_2017_prob.nii.gz',\n",
      "  'mask_img': None,\n",
      "  'smoothing_fwhm': None,\n",
      "  'standardize': True,\n",
      "  't_r': None,\n",
      "  'target_affine': None,\n",
      "  'target_shape': None}, confounds=array([[5.961892e+02, ..., 6.318084e-06],\n",
      "       ...,\n",
      "       [5.813513e+02, ..., 5.498837e-06]]), dtype=None, memory=Memory(cachedir='nilearn_cache/joblib'), memory_level=1, verbose=5)\n",
      "[NiftiMapsMasker.transform_single_imgs] Loading data from /data/sub-VT016/func/sub-VT016_task-rest_motion-uncorrected_run-1_space-MNI152NLin6Asym_desc-preproc_bold.nii.gz\n",
      "[NiftiMapsMasker.transform_single_imgs] Extracting region signals\n",
      "[NiftiMapsMasker.transform_single_imgs] Cleaning extracted signals\n",
      "______________________________________________filter_and_extract - 19.1s, 0.3min\n",
      "\tPauli sub-cortical Atlas takes:  30.867100715637207  with dim=  (120, 16) \n",
      "\n",
      "[NiftiMapsMasker.fit_transform] loading regions from /home/neuro/nilearn_data/msdl_atlas/MSDL_rois/msdl_rois.nii\n",
      "Resampling maps\n",
      "[Memory]    0.1s, 0.0min: Loading resample_img...\n"
     ]
    },
    {
     "name": "stderr",
     "output_type": "stream",
     "text": [
      "/usr/local/miniconda/lib/python3.7/site-packages/nilearn/_utils/cache_mixin.py:296: UserWarning: memory_level is currently set to 0 but a Memory object has been provided. Setting memory_level to 1.\n",
      "  warnings.warn(\"memory_level is currently set to 0 but \"\n"
     ]
    },
    {
     "name": "stdout",
     "output_type": "stream",
     "text": [
      "________________________________________resample_img cache loaded - 0.2s, 0.0min\n",
      "________________________________________________________________________________\n",
      "[Memory] Calling nilearn.input_data.base_masker.filter_and_extract...\n",
      "filter_and_extract('/data/sub-VT016/func/sub-VT016_task-rest_motion-uncorrected_run-1_space-MNI152NLin6Asym_desc-preproc_bold.nii.gz', \n",
      "<nilearn.input_data.nifti_maps_masker._ExtractionFunctor object at 0x7f81b8050160>, \n",
      "{ 'allow_overlap': True,\n",
      "  'detrend': False,\n",
      "  'dtype': None,\n",
      "  'high_pass': None,\n",
      "  'low_pass': None,\n",
      "  'maps_img': '/home/neuro/nilearn_data/msdl_atlas/MSDL_rois/msdl_rois.nii',\n",
      "  'mask_img': None,\n",
      "  'smoothing_fwhm': None,\n",
      "  'standardize': True,\n",
      "  't_r': None,\n",
      "  'target_affine': None,\n",
      "  'target_shape': None}, confounds=array([[5.961892e+02, ..., 6.318084e-06],\n",
      "       ...,\n",
      "       [5.813513e+02, ..., 5.498837e-06]]), dtype=None, memory=Memory(cachedir='nilearn_cache/joblib'), memory_level=1, verbose=5)\n",
      "[NiftiMapsMasker.transform_single_imgs] Loading data from /data/sub-VT016/func/sub-VT016_task-rest_motion-uncorrected_run-1_space-MNI152NLin6Asym_desc-preproc_bold.nii.gz\n",
      "[NiftiMapsMasker.transform_single_imgs] Extracting region signals\n",
      "[NiftiMapsMasker.transform_single_imgs] Cleaning extracted signals\n",
      "______________________________________________filter_and_extract - 30.3s, 0.5min\n",
      "\tGeal cortical Atlas takes:  33.33273100852966  with dim=  (120, 39) \n",
      "\n",
      "\tAll conn matrices are calculated in:  0.003731966018676758\n",
      "processing  VT021 :\n",
      "\n"
     ]
    },
    {
     "name": "stderr",
     "output_type": "stream",
     "text": [
      "/usr/local/miniconda/lib/python3.7/site-packages/pandas/core/frame.py:3790: SettingWithCopyWarning: \n",
      "A value is trying to be set on a copy of a slice from a DataFrame\n",
      "\n",
      "See the caveats in the documentation: http://pandas.pydata.org/pandas-docs/stable/indexing.html#indexing-view-versus-copy\n",
      "  downcast=downcast, **kwargs)\n"
     ]
    },
    {
     "name": "stdout",
     "output_type": "stream",
     "text": [
      "[NiftiMapsMasker.fit_transform] loading regions from /home/neuro/nilearn_data/pauli_2017/pauli_2017_prob.nii.gz\n",
      "Resampling maps\n"
     ]
    },
    {
     "name": "stderr",
     "output_type": "stream",
     "text": [
      "/usr/local/miniconda/lib/python3.7/site-packages/nilearn/_utils/cache_mixin.py:296: UserWarning: memory_level is currently set to 0 but a Memory object has been provided. Setting memory_level to 1.\n",
      "  warnings.warn(\"memory_level is currently set to 0 but \"\n"
     ]
    },
    {
     "name": "stdout",
     "output_type": "stream",
     "text": [
      "[Memory]    1.3s, 0.0min: Loading resample_img...\n",
      "________________________________________resample_img cache loaded - 0.0s, 0.0min\n",
      "________________________________________________________________________________\n",
      "[Memory] Calling nilearn.input_data.base_masker.filter_and_extract...\n",
      "filter_and_extract('/data/sub-VT021/func/sub-VT021_task-rest_motion-uncorrected_run-1_space-MNI152NLin6Asym_desc-preproc_bold.nii.gz', \n",
      "<nilearn.input_data.nifti_maps_masker._ExtractionFunctor object at 0x7f81ab639eb8>, \n",
      "{ 'allow_overlap': True,\n",
      "  'detrend': False,\n",
      "  'dtype': None,\n",
      "  'high_pass': None,\n",
      "  'low_pass': None,\n",
      "  'maps_img': '/home/neuro/nilearn_data/pauli_2017/pauli_2017_prob.nii.gz',\n",
      "  'mask_img': None,\n",
      "  'smoothing_fwhm': None,\n",
      "  'standardize': True,\n",
      "  't_r': None,\n",
      "  'target_affine': None,\n",
      "  'target_shape': None}, confounds=array([[7.421033e+02, ..., 5.920902e-07],\n",
      "       ...,\n",
      "       [7.335046e+02, ..., 1.673763e-04]]), dtype=None, memory=Memory(cachedir='nilearn_cache/joblib'), memory_level=1, verbose=5)\n",
      "[NiftiMapsMasker.transform_single_imgs] Loading data from /data/sub-VT021/func/sub-VT021_task-rest_motion-uncorrected_run-1_space-MNI152NLin6Asym_desc-preproc_bold.nii.gz\n",
      "[NiftiMapsMasker.transform_single_imgs] Extracting region signals\n",
      "[NiftiMapsMasker.transform_single_imgs] Cleaning extracted signals\n",
      "______________________________________________filter_and_extract - 19.6s, 0.3min\n",
      "\tPauli sub-cortical Atlas takes:  31.30348300933838  with dim=  (120, 16) \n",
      "\n",
      "[NiftiMapsMasker.fit_transform] loading regions from /home/neuro/nilearn_data/msdl_atlas/MSDL_rois/msdl_rois.nii\n",
      "Resampling maps\n",
      "[Memory]    0.1s, 0.0min: Loading resample_img...\n"
     ]
    },
    {
     "name": "stderr",
     "output_type": "stream",
     "text": [
      "/usr/local/miniconda/lib/python3.7/site-packages/nilearn/_utils/cache_mixin.py:296: UserWarning: memory_level is currently set to 0 but a Memory object has been provided. Setting memory_level to 1.\n",
      "  warnings.warn(\"memory_level is currently set to 0 but \"\n"
     ]
    },
    {
     "name": "stdout",
     "output_type": "stream",
     "text": [
      "________________________________________resample_img cache loaded - 0.2s, 0.0min\n",
      "________________________________________________________________________________\n",
      "[Memory] Calling nilearn.input_data.base_masker.filter_and_extract...\n",
      "filter_and_extract('/data/sub-VT021/func/sub-VT021_task-rest_motion-uncorrected_run-1_space-MNI152NLin6Asym_desc-preproc_bold.nii.gz', \n",
      "<nilearn.input_data.nifti_maps_masker._ExtractionFunctor object at 0x7f81b0d30c88>, \n",
      "{ 'allow_overlap': True,\n",
      "  'detrend': False,\n",
      "  'dtype': None,\n",
      "  'high_pass': None,\n",
      "  'low_pass': None,\n",
      "  'maps_img': '/home/neuro/nilearn_data/msdl_atlas/MSDL_rois/msdl_rois.nii',\n",
      "  'mask_img': None,\n",
      "  'smoothing_fwhm': None,\n",
      "  'standardize': True,\n",
      "  't_r': None,\n",
      "  'target_affine': None,\n",
      "  'target_shape': None}, confounds=array([[7.421033e+02, ..., 5.920902e-07],\n",
      "       ...,\n",
      "       [7.335046e+02, ..., 1.673763e-04]]), dtype=None, memory=Memory(cachedir='nilearn_cache/joblib'), memory_level=1, verbose=5)\n",
      "[NiftiMapsMasker.transform_single_imgs] Loading data from /data/sub-VT021/func/sub-VT021_task-rest_motion-uncorrected_run-1_space-MNI152NLin6Asym_desc-preproc_bold.nii.gz\n",
      "[NiftiMapsMasker.transform_single_imgs] Extracting region signals\n",
      "[NiftiMapsMasker.transform_single_imgs] Cleaning extracted signals\n",
      "______________________________________________filter_and_extract - 30.5s, 0.5min\n",
      "\tGeal cortical Atlas takes:  33.61284589767456  with dim=  (120, 39) \n",
      "\n",
      "\tAll conn matrices are calculated in:  0.004345893859863281\n",
      "processing  VT023 :\n",
      "\n"
     ]
    },
    {
     "name": "stderr",
     "output_type": "stream",
     "text": [
      "/usr/local/miniconda/lib/python3.7/site-packages/pandas/core/frame.py:3790: SettingWithCopyWarning: \n",
      "A value is trying to be set on a copy of a slice from a DataFrame\n",
      "\n",
      "See the caveats in the documentation: http://pandas.pydata.org/pandas-docs/stable/indexing.html#indexing-view-versus-copy\n",
      "  downcast=downcast, **kwargs)\n"
     ]
    },
    {
     "name": "stdout",
     "output_type": "stream",
     "text": [
      "[NiftiMapsMasker.fit_transform] loading regions from /home/neuro/nilearn_data/pauli_2017/pauli_2017_prob.nii.gz\n",
      "Resampling maps\n"
     ]
    },
    {
     "name": "stderr",
     "output_type": "stream",
     "text": [
      "/usr/local/miniconda/lib/python3.7/site-packages/nilearn/_utils/cache_mixin.py:296: UserWarning: memory_level is currently set to 0 but a Memory object has been provided. Setting memory_level to 1.\n",
      "  warnings.warn(\"memory_level is currently set to 0 but \"\n"
     ]
    },
    {
     "name": "stdout",
     "output_type": "stream",
     "text": [
      "[Memory]    1.3s, 0.0min: Loading resample_img...\n",
      "________________________________________resample_img cache loaded - 0.0s, 0.0min\n",
      "________________________________________________________________________________\n",
      "[Memory] Calling nilearn.input_data.base_masker.filter_and_extract...\n",
      "filter_and_extract('/data/sub-VT023/func/sub-VT023_task-rest_motion-uncorrected_run-1_space-MNI152NLin6Asym_desc-preproc_bold.nii.gz', \n",
      "<nilearn.input_data.nifti_maps_masker._ExtractionFunctor object at 0x7f81af008668>, \n",
      "{ 'allow_overlap': True,\n",
      "  'detrend': False,\n",
      "  'dtype': None,\n",
      "  'high_pass': None,\n",
      "  'low_pass': None,\n",
      "  'maps_img': '/home/neuro/nilearn_data/pauli_2017/pauli_2017_prob.nii.gz',\n",
      "  'mask_img': None,\n",
      "  'smoothing_fwhm': None,\n",
      "  'standardize': True,\n",
      "  't_r': None,\n",
      "  'target_affine': None,\n",
      "  'target_shape': None}, confounds=array([[6.772986e+02, ..., 2.948121e-07],\n",
      "       ...,\n",
      "       [6.797462e+02, ..., 2.059770e-06]]), dtype=None, memory=Memory(cachedir='nilearn_cache/joblib'), memory_level=1, verbose=5)\n",
      "[NiftiMapsMasker.transform_single_imgs] Loading data from /data/sub-VT023/func/sub-VT023_task-rest_motion-uncorrected_run-1_space-MNI152NLin6Asym_desc-preproc_bold.nii.gz\n",
      "[NiftiMapsMasker.transform_single_imgs] Extracting region signals\n",
      "[NiftiMapsMasker.transform_single_imgs] Cleaning extracted signals\n",
      "______________________________________________filter_and_extract - 19.6s, 0.3min\n",
      "\tPauli sub-cortical Atlas takes:  31.382636070251465  with dim=  (120, 16) \n",
      "\n",
      "[NiftiMapsMasker.fit_transform] loading regions from /home/neuro/nilearn_data/msdl_atlas/MSDL_rois/msdl_rois.nii\n",
      "Resampling maps\n",
      "[Memory]    0.1s, 0.0min: Loading resample_img...\n"
     ]
    },
    {
     "name": "stderr",
     "output_type": "stream",
     "text": [
      "/usr/local/miniconda/lib/python3.7/site-packages/nilearn/_utils/cache_mixin.py:296: UserWarning: memory_level is currently set to 0 but a Memory object has been provided. Setting memory_level to 1.\n",
      "  warnings.warn(\"memory_level is currently set to 0 but \"\n"
     ]
    },
    {
     "name": "stdout",
     "output_type": "stream",
     "text": [
      "________________________________________resample_img cache loaded - 0.2s, 0.0min\n",
      "________________________________________________________________________________\n",
      "[Memory] Calling nilearn.input_data.base_masker.filter_and_extract...\n",
      "filter_and_extract('/data/sub-VT023/func/sub-VT023_task-rest_motion-uncorrected_run-1_space-MNI152NLin6Asym_desc-preproc_bold.nii.gz', \n",
      "<nilearn.input_data.nifti_maps_masker._ExtractionFunctor object at 0x7f81b091f908>, \n",
      "{ 'allow_overlap': True,\n",
      "  'detrend': False,\n",
      "  'dtype': None,\n",
      "  'high_pass': None,\n",
      "  'low_pass': None,\n",
      "  'maps_img': '/home/neuro/nilearn_data/msdl_atlas/MSDL_rois/msdl_rois.nii',\n",
      "  'mask_img': None,\n",
      "  'smoothing_fwhm': None,\n",
      "  'standardize': True,\n",
      "  't_r': None,\n",
      "  'target_affine': None,\n",
      "  'target_shape': None}, confounds=array([[6.772986e+02, ..., 2.948121e-07],\n",
      "       ...,\n",
      "       [6.797462e+02, ..., 2.059770e-06]]), dtype=None, memory=Memory(cachedir='nilearn_cache/joblib'), memory_level=1, verbose=5)\n",
      "[NiftiMapsMasker.transform_single_imgs] Loading data from /data/sub-VT023/func/sub-VT023_task-rest_motion-uncorrected_run-1_space-MNI152NLin6Asym_desc-preproc_bold.nii.gz\n",
      "[NiftiMapsMasker.transform_single_imgs] Extracting region signals\n",
      "[NiftiMapsMasker.transform_single_imgs] Cleaning extracted signals\n",
      "______________________________________________filter_and_extract - 30.9s, 0.5min\n",
      "\tGeal cortical Atlas takes:  33.87512445449829  with dim=  (120, 39) \n",
      "\n",
      "\tAll conn matrices are calculated in:  0.0036821365356445312\n",
      "processing  VT024 :\n",
      "\n"
     ]
    },
    {
     "name": "stderr",
     "output_type": "stream",
     "text": [
      "/usr/local/miniconda/lib/python3.7/site-packages/pandas/core/frame.py:3790: SettingWithCopyWarning: \n",
      "A value is trying to be set on a copy of a slice from a DataFrame\n",
      "\n",
      "See the caveats in the documentation: http://pandas.pydata.org/pandas-docs/stable/indexing.html#indexing-view-versus-copy\n",
      "  downcast=downcast, **kwargs)\n"
     ]
    },
    {
     "name": "stdout",
     "output_type": "stream",
     "text": [
      "[NiftiMapsMasker.fit_transform] loading regions from /home/neuro/nilearn_data/pauli_2017/pauli_2017_prob.nii.gz\n",
      "Resampling maps\n"
     ]
    },
    {
     "name": "stderr",
     "output_type": "stream",
     "text": [
      "/usr/local/miniconda/lib/python3.7/site-packages/nilearn/_utils/cache_mixin.py:296: UserWarning: memory_level is currently set to 0 but a Memory object has been provided. Setting memory_level to 1.\n",
      "  warnings.warn(\"memory_level is currently set to 0 but \"\n"
     ]
    },
    {
     "name": "stdout",
     "output_type": "stream",
     "text": [
      "[Memory]    1.3s, 0.0min: Loading resample_img...\n",
      "________________________________________resample_img cache loaded - 0.0s, 0.0min\n",
      "________________________________________________________________________________\n",
      "[Memory] Calling nilearn.input_data.base_masker.filter_and_extract...\n",
      "filter_and_extract('/data/sub-VT024/func/sub-VT024_task-rest_motion-uncorrected_run-1_space-MNI152NLin6Asym_desc-preproc_bold.nii.gz', \n",
      "<nilearn.input_data.nifti_maps_masker._ExtractionFunctor object at 0x7f81b0d30c88>, \n",
      "{ 'allow_overlap': True,\n",
      "  'detrend': False,\n",
      "  'dtype': None,\n",
      "  'high_pass': None,\n",
      "  'low_pass': None,\n",
      "  'maps_img': '/home/neuro/nilearn_data/pauli_2017/pauli_2017_prob.nii.gz',\n",
      "  'mask_img': None,\n",
      "  'smoothing_fwhm': None,\n",
      "  'standardize': True,\n",
      "  't_r': None,\n",
      "  'target_affine': None,\n",
      "  'target_shape': None}, confounds=array([[5.092930e+02, ..., 7.140774e-07],\n",
      "       ...,\n",
      "       [5.002004e+02, ..., 1.163982e-04]]), dtype=None, memory=Memory(cachedir='nilearn_cache/joblib'), memory_level=1, verbose=5)\n",
      "[NiftiMapsMasker.transform_single_imgs] Loading data from /data/sub-VT024/func/sub-VT024_task-rest_motion-uncorrected_run-1_space-MNI152NLin6Asym_desc-preproc_bold.nii.gz\n",
      "[NiftiMapsMasker.transform_single_imgs] Extracting region signals\n",
      "[NiftiMapsMasker.transform_single_imgs] Cleaning extracted signals\n",
      "______________________________________________filter_and_extract - 19.8s, 0.3min\n",
      "\tPauli sub-cortical Atlas takes:  31.53885531425476  with dim=  (120, 16) \n",
      "\n",
      "[NiftiMapsMasker.fit_transform] loading regions from /home/neuro/nilearn_data/msdl_atlas/MSDL_rois/msdl_rois.nii\n",
      "Resampling maps\n",
      "[Memory]    0.1s, 0.0min: Loading resample_img...\n"
     ]
    },
    {
     "name": "stderr",
     "output_type": "stream",
     "text": [
      "/usr/local/miniconda/lib/python3.7/site-packages/nilearn/_utils/cache_mixin.py:296: UserWarning: memory_level is currently set to 0 but a Memory object has been provided. Setting memory_level to 1.\n",
      "  warnings.warn(\"memory_level is currently set to 0 but \"\n"
     ]
    },
    {
     "name": "stdout",
     "output_type": "stream",
     "text": [
      "________________________________________resample_img cache loaded - 0.2s, 0.0min\n",
      "________________________________________________________________________________\n",
      "[Memory] Calling nilearn.input_data.base_masker.filter_and_extract...\n",
      "filter_and_extract('/data/sub-VT024/func/sub-VT024_task-rest_motion-uncorrected_run-1_space-MNI152NLin6Asym_desc-preproc_bold.nii.gz', \n",
      "<nilearn.input_data.nifti_maps_masker._ExtractionFunctor object at 0x7f81a99ae7b8>, \n",
      "{ 'allow_overlap': True,\n",
      "  'detrend': False,\n",
      "  'dtype': None,\n",
      "  'high_pass': None,\n",
      "  'low_pass': None,\n",
      "  'maps_img': '/home/neuro/nilearn_data/msdl_atlas/MSDL_rois/msdl_rois.nii',\n",
      "  'mask_img': None,\n",
      "  'smoothing_fwhm': None,\n",
      "  'standardize': True,\n",
      "  't_r': None,\n",
      "  'target_affine': None,\n",
      "  'target_shape': None}, confounds=array([[5.092930e+02, ..., 7.140774e-07],\n",
      "       ...,\n",
      "       [5.002004e+02, ..., 1.163982e-04]]), dtype=None, memory=Memory(cachedir='nilearn_cache/joblib'), memory_level=1, verbose=5)\n",
      "[NiftiMapsMasker.transform_single_imgs] Loading data from /data/sub-VT024/func/sub-VT024_task-rest_motion-uncorrected_run-1_space-MNI152NLin6Asym_desc-preproc_bold.nii.gz\n",
      "[NiftiMapsMasker.transform_single_imgs] Extracting region signals\n",
      "[NiftiMapsMasker.transform_single_imgs] Cleaning extracted signals\n",
      "______________________________________________filter_and_extract - 30.7s, 0.5min\n",
      "\tGeal cortical Atlas takes:  33.840673208236694  with dim=  (120, 39) \n",
      "\n",
      "\tAll conn matrices are calculated in:  0.004082679748535156\n",
      "processing  VT025 :\n",
      "\n"
     ]
    },
    {
     "name": "stderr",
     "output_type": "stream",
     "text": [
      "/usr/local/miniconda/lib/python3.7/site-packages/pandas/core/frame.py:3790: SettingWithCopyWarning: \n",
      "A value is trying to be set on a copy of a slice from a DataFrame\n",
      "\n",
      "See the caveats in the documentation: http://pandas.pydata.org/pandas-docs/stable/indexing.html#indexing-view-versus-copy\n",
      "  downcast=downcast, **kwargs)\n"
     ]
    },
    {
     "name": "stdout",
     "output_type": "stream",
     "text": [
      "[NiftiMapsMasker.fit_transform] loading regions from /home/neuro/nilearn_data/pauli_2017/pauli_2017_prob.nii.gz\n",
      "Resampling maps\n"
     ]
    },
    {
     "name": "stderr",
     "output_type": "stream",
     "text": [
      "/usr/local/miniconda/lib/python3.7/site-packages/nilearn/_utils/cache_mixin.py:296: UserWarning: memory_level is currently set to 0 but a Memory object has been provided. Setting memory_level to 1.\n",
      "  warnings.warn(\"memory_level is currently set to 0 but \"\n"
     ]
    },
    {
     "name": "stdout",
     "output_type": "stream",
     "text": [
      "[Memory]    1.3s, 0.0min: Loading resample_img...\n",
      "________________________________________resample_img cache loaded - 0.0s, 0.0min\n",
      "________________________________________________________________________________\n",
      "[Memory] Calling nilearn.input_data.base_masker.filter_and_extract...\n",
      "filter_and_extract('/data/sub-VT025/func/sub-VT025_task-rest_motion-uncorrected_run-1_space-MNI152NLin6Asym_desc-preproc_bold.nii.gz', \n",
      "<nilearn.input_data.nifti_maps_masker._ExtractionFunctor object at 0x7f81a6084be0>, \n",
      "{ 'allow_overlap': True,\n",
      "  'detrend': False,\n",
      "  'dtype': None,\n",
      "  'high_pass': None,\n",
      "  'low_pass': None,\n",
      "  'maps_img': '/home/neuro/nilearn_data/pauli_2017/pauli_2017_prob.nii.gz',\n",
      "  'mask_img': None,\n",
      "  'smoothing_fwhm': None,\n",
      "  'standardize': True,\n",
      "  't_r': None,\n",
      "  'target_affine': None,\n",
      "  'target_shape': None}, confounds=array([[7.108838e+02, ..., 0.000000e+00],\n",
      "       ...,\n",
      "       [7.107430e+02, ..., 1.739449e-07]]), dtype=None, memory=Memory(cachedir='nilearn_cache/joblib'), memory_level=1, verbose=5)\n",
      "[NiftiMapsMasker.transform_single_imgs] Loading data from /data/sub-VT025/func/sub-VT025_task-rest_motion-uncorrected_run-1_space-MNI152NLin6Asym_desc-preproc_bold.nii.gz\n",
      "[NiftiMapsMasker.transform_single_imgs] Extracting region signals\n",
      "[NiftiMapsMasker.transform_single_imgs] Cleaning extracted signals\n",
      "______________________________________________filter_and_extract - 19.7s, 0.3min\n",
      "\tPauli sub-cortical Atlas takes:  31.472748279571533  with dim=  (120, 16) \n",
      "\n",
      "[NiftiMapsMasker.fit_transform] loading regions from /home/neuro/nilearn_data/msdl_atlas/MSDL_rois/msdl_rois.nii\n",
      "Resampling maps\n",
      "[Memory]    0.1s, 0.0min: Loading resample_img...\n"
     ]
    },
    {
     "name": "stderr",
     "output_type": "stream",
     "text": [
      "/usr/local/miniconda/lib/python3.7/site-packages/nilearn/_utils/cache_mixin.py:296: UserWarning: memory_level is currently set to 0 but a Memory object has been provided. Setting memory_level to 1.\n",
      "  warnings.warn(\"memory_level is currently set to 0 but \"\n"
     ]
    },
    {
     "name": "stdout",
     "output_type": "stream",
     "text": [
      "________________________________________resample_img cache loaded - 0.2s, 0.0min\n",
      "________________________________________________________________________________\n",
      "[Memory] Calling nilearn.input_data.base_masker.filter_and_extract...\n",
      "filter_and_extract('/data/sub-VT025/func/sub-VT025_task-rest_motion-uncorrected_run-1_space-MNI152NLin6Asym_desc-preproc_bold.nii.gz', \n",
      "<nilearn.input_data.nifti_maps_masker._ExtractionFunctor object at 0x7f81af008b38>, \n",
      "{ 'allow_overlap': True,\n",
      "  'detrend': False,\n",
      "  'dtype': None,\n",
      "  'high_pass': None,\n",
      "  'low_pass': None,\n",
      "  'maps_img': '/home/neuro/nilearn_data/msdl_atlas/MSDL_rois/msdl_rois.nii',\n",
      "  'mask_img': None,\n",
      "  'smoothing_fwhm': None,\n",
      "  'standardize': True,\n",
      "  't_r': None,\n",
      "  'target_affine': None,\n",
      "  'target_shape': None}, confounds=array([[7.108838e+02, ..., 0.000000e+00],\n",
      "       ...,\n",
      "       [7.107430e+02, ..., 1.739449e-07]]), dtype=None, memory=Memory(cachedir='nilearn_cache/joblib'), memory_level=1, verbose=5)\n",
      "[NiftiMapsMasker.transform_single_imgs] Loading data from /data/sub-VT025/func/sub-VT025_task-rest_motion-uncorrected_run-1_space-MNI152NLin6Asym_desc-preproc_bold.nii.gz\n",
      "[NiftiMapsMasker.transform_single_imgs] Extracting region signals\n",
      "[NiftiMapsMasker.transform_single_imgs] Cleaning extracted signals\n",
      "______________________________________________filter_and_extract - 30.9s, 0.5min\n",
      "\tGeal cortical Atlas takes:  33.88144063949585  with dim=  (120, 39) \n",
      "\n",
      "\tAll conn matrices are calculated in:  0.004950284957885742\n",
      "processing  VT026 :\n",
      "\n"
     ]
    },
    {
     "name": "stderr",
     "output_type": "stream",
     "text": [
      "/usr/local/miniconda/lib/python3.7/site-packages/pandas/core/frame.py:3790: SettingWithCopyWarning: \n",
      "A value is trying to be set on a copy of a slice from a DataFrame\n",
      "\n",
      "See the caveats in the documentation: http://pandas.pydata.org/pandas-docs/stable/indexing.html#indexing-view-versus-copy\n",
      "  downcast=downcast, **kwargs)\n"
     ]
    },
    {
     "name": "stdout",
     "output_type": "stream",
     "text": [
      "[NiftiMapsMasker.fit_transform] loading regions from /home/neuro/nilearn_data/pauli_2017/pauli_2017_prob.nii.gz\n",
      "Resampling maps\n"
     ]
    },
    {
     "name": "stderr",
     "output_type": "stream",
     "text": [
      "/usr/local/miniconda/lib/python3.7/site-packages/nilearn/_utils/cache_mixin.py:296: UserWarning: memory_level is currently set to 0 but a Memory object has been provided. Setting memory_level to 1.\n",
      "  warnings.warn(\"memory_level is currently set to 0 but \"\n"
     ]
    },
    {
     "name": "stdout",
     "output_type": "stream",
     "text": [
      "[Memory]    1.3s, 0.0min: Loading resample_img...\n",
      "________________________________________resample_img cache loaded - 0.0s, 0.0min\n",
      "________________________________________________________________________________\n",
      "[Memory] Calling nilearn.input_data.base_masker.filter_and_extract...\n",
      "filter_and_extract('/data/sub-VT026/func/sub-VT026_task-rest_motion-uncorrected_run-1_space-MNI152NLin6Asym_desc-preproc_bold.nii.gz', \n",
      "<nilearn.input_data.nifti_maps_masker._ExtractionFunctor object at 0x7f81a5fc94a8>, \n",
      "{ 'allow_overlap': True,\n",
      "  'detrend': False,\n",
      "  'dtype': None,\n",
      "  'high_pass': None,\n",
      "  'low_pass': None,\n",
      "  'maps_img': '/home/neuro/nilearn_data/pauli_2017/pauli_2017_prob.nii.gz',\n",
      "  'mask_img': None,\n",
      "  'smoothing_fwhm': None,\n",
      "  'standardize': True,\n",
      "  't_r': None,\n",
      "  'target_affine': None,\n",
      "  'target_shape': None}, confounds=array([[7.049631e+02, ..., 3.513537e-07],\n",
      "       ...,\n",
      "       [6.943510e+02, ..., 1.600402e-06]]), dtype=None, memory=Memory(cachedir='nilearn_cache/joblib'), memory_level=1, verbose=5)\n",
      "[NiftiMapsMasker.transform_single_imgs] Loading data from /data/sub-VT026/func/sub-VT026_task-rest_motion-uncorrected_run-1_space-MNI152NLin6Asym_desc-preproc_bold.nii.gz\n",
      "[NiftiMapsMasker.transform_single_imgs] Extracting region signals\n",
      "[NiftiMapsMasker.transform_single_imgs] Cleaning extracted signals\n",
      "______________________________________________filter_and_extract - 20.1s, 0.3min\n",
      "\tPauli sub-cortical Atlas takes:  32.217745304107666  with dim=  (120, 16) \n",
      "\n",
      "[NiftiMapsMasker.fit_transform] loading regions from /home/neuro/nilearn_data/msdl_atlas/MSDL_rois/msdl_rois.nii\n",
      "Resampling maps\n",
      "[Memory]    0.1s, 0.0min: Loading resample_img...\n"
     ]
    },
    {
     "name": "stderr",
     "output_type": "stream",
     "text": [
      "/usr/local/miniconda/lib/python3.7/site-packages/nilearn/_utils/cache_mixin.py:296: UserWarning: memory_level is currently set to 0 but a Memory object has been provided. Setting memory_level to 1.\n",
      "  warnings.warn(\"memory_level is currently set to 0 but \"\n"
     ]
    },
    {
     "name": "stdout",
     "output_type": "stream",
     "text": [
      "________________________________________resample_img cache loaded - 0.2s, 0.0min\n",
      "________________________________________________________________________________\n",
      "[Memory] Calling nilearn.input_data.base_masker.filter_and_extract...\n",
      "filter_and_extract('/data/sub-VT026/func/sub-VT026_task-rest_motion-uncorrected_run-1_space-MNI152NLin6Asym_desc-preproc_bold.nii.gz', \n",
      "<nilearn.input_data.nifti_maps_masker._ExtractionFunctor object at 0x7f81af008e10>, \n",
      "{ 'allow_overlap': True,\n",
      "  'detrend': False,\n",
      "  'dtype': None,\n",
      "  'high_pass': None,\n",
      "  'low_pass': None,\n",
      "  'maps_img': '/home/neuro/nilearn_data/msdl_atlas/MSDL_rois/msdl_rois.nii',\n",
      "  'mask_img': None,\n",
      "  'smoothing_fwhm': None,\n",
      "  'standardize': True,\n",
      "  't_r': None,\n",
      "  'target_affine': None,\n",
      "  'target_shape': None}, confounds=array([[7.049631e+02, ..., 3.513537e-07],\n",
      "       ...,\n",
      "       [6.943510e+02, ..., 1.600402e-06]]), dtype=None, memory=Memory(cachedir='nilearn_cache/joblib'), memory_level=1, verbose=5)\n",
      "[NiftiMapsMasker.transform_single_imgs] Loading data from /data/sub-VT026/func/sub-VT026_task-rest_motion-uncorrected_run-1_space-MNI152NLin6Asym_desc-preproc_bold.nii.gz\n",
      "[NiftiMapsMasker.transform_single_imgs] Extracting region signals\n",
      "[NiftiMapsMasker.transform_single_imgs] Cleaning extracted signals\n",
      "______________________________________________filter_and_extract - 31.1s, 0.5min\n",
      "\tGeal cortical Atlas takes:  34.23544669151306  with dim=  (120, 39) \n",
      "\n",
      "\tAll conn matrices are calculated in:  0.00396728515625\n",
      "processing  VT027 :\n",
      "\n"
     ]
    },
    {
     "name": "stderr",
     "output_type": "stream",
     "text": [
      "/usr/local/miniconda/lib/python3.7/site-packages/pandas/core/frame.py:3790: SettingWithCopyWarning: \n",
      "A value is trying to be set on a copy of a slice from a DataFrame\n",
      "\n",
      "See the caveats in the documentation: http://pandas.pydata.org/pandas-docs/stable/indexing.html#indexing-view-versus-copy\n",
      "  downcast=downcast, **kwargs)\n"
     ]
    },
    {
     "name": "stdout",
     "output_type": "stream",
     "text": [
      "[NiftiMapsMasker.fit_transform] loading regions from /home/neuro/nilearn_data/pauli_2017/pauli_2017_prob.nii.gz\n",
      "Resampling maps\n"
     ]
    },
    {
     "name": "stderr",
     "output_type": "stream",
     "text": [
      "/usr/local/miniconda/lib/python3.7/site-packages/nilearn/_utils/cache_mixin.py:296: UserWarning: memory_level is currently set to 0 but a Memory object has been provided. Setting memory_level to 1.\n",
      "  warnings.warn(\"memory_level is currently set to 0 but \"\n"
     ]
    },
    {
     "name": "stdout",
     "output_type": "stream",
     "text": [
      "[Memory]    1.2s, 0.0min: Loading resample_img...\n",
      "________________________________________resample_img cache loaded - 0.0s, 0.0min\n",
      "________________________________________________________________________________\n",
      "[Memory] Calling nilearn.input_data.base_masker.filter_and_extract...\n",
      "filter_and_extract('/data/sub-VT027/func/sub-VT027_task-rest_motion-uncorrected_run-1_space-MNI152NLin6Asym_desc-preproc_bold.nii.gz', \n",
      "<nilearn.input_data.nifti_maps_masker._ExtractionFunctor object at 0x7f81a26bb780>, \n",
      "{ 'allow_overlap': True,\n",
      "  'detrend': False,\n",
      "  'dtype': None,\n",
      "  'high_pass': None,\n",
      "  'low_pass': None,\n",
      "  'maps_img': '/home/neuro/nilearn_data/pauli_2017/pauli_2017_prob.nii.gz',\n",
      "  'mask_img': None,\n",
      "  'smoothing_fwhm': None,\n",
      "  'standardize': True,\n",
      "  't_r': None,\n",
      "  'target_affine': None,\n",
      "  'target_shape': None}, confounds=array([[6.310714e+02, ..., 7.754757e-07],\n",
      "       ...,\n",
      "       [6.218106e+02, ..., 1.899187e-06]]), dtype=None, memory=Memory(cachedir='nilearn_cache/joblib'), memory_level=1, verbose=5)\n",
      "[NiftiMapsMasker.transform_single_imgs] Loading data from /data/sub-VT027/func/sub-VT027_task-rest_motion-uncorrected_run-1_space-MNI152NLin6Asym_desc-preproc_bold.nii.gz\n",
      "[NiftiMapsMasker.transform_single_imgs] Extracting region signals\n",
      "[NiftiMapsMasker.transform_single_imgs] Cleaning extracted signals\n",
      "______________________________________________filter_and_extract - 20.3s, 0.3min\n",
      "\tPauli sub-cortical Atlas takes:  32.24205946922302  with dim=  (120, 16) \n",
      "\n",
      "[NiftiMapsMasker.fit_transform] loading regions from /home/neuro/nilearn_data/msdl_atlas/MSDL_rois/msdl_rois.nii\n",
      "Resampling maps\n",
      "[Memory]    0.1s, 0.0min: Loading resample_img...\n"
     ]
    },
    {
     "name": "stderr",
     "output_type": "stream",
     "text": [
      "/usr/local/miniconda/lib/python3.7/site-packages/nilearn/_utils/cache_mixin.py:296: UserWarning: memory_level is currently set to 0 but a Memory object has been provided. Setting memory_level to 1.\n",
      "  warnings.warn(\"memory_level is currently set to 0 but \"\n"
     ]
    },
    {
     "name": "stdout",
     "output_type": "stream",
     "text": [
      "________________________________________resample_img cache loaded - 0.2s, 0.0min\n",
      "________________________________________________________________________________\n",
      "[Memory] Calling nilearn.input_data.base_masker.filter_and_extract...\n",
      "filter_and_extract('/data/sub-VT027/func/sub-VT027_task-rest_motion-uncorrected_run-1_space-MNI152NLin6Asym_desc-preproc_bold.nii.gz', \n",
      "<nilearn.input_data.nifti_maps_masker._ExtractionFunctor object at 0x7f81a4416e10>, \n",
      "{ 'allow_overlap': True,\n",
      "  'detrend': False,\n",
      "  'dtype': None,\n",
      "  'high_pass': None,\n",
      "  'low_pass': None,\n",
      "  'maps_img': '/home/neuro/nilearn_data/msdl_atlas/MSDL_rois/msdl_rois.nii',\n",
      "  'mask_img': None,\n",
      "  'smoothing_fwhm': None,\n",
      "  'standardize': True,\n",
      "  't_r': None,\n",
      "  'target_affine': None,\n",
      "  'target_shape': None}, confounds=array([[6.310714e+02, ..., 7.754757e-07],\n",
      "       ...,\n",
      "       [6.218106e+02, ..., 1.899187e-06]]), dtype=None, memory=Memory(cachedir='nilearn_cache/joblib'), memory_level=1, verbose=5)\n",
      "[NiftiMapsMasker.transform_single_imgs] Loading data from /data/sub-VT027/func/sub-VT027_task-rest_motion-uncorrected_run-1_space-MNI152NLin6Asym_desc-preproc_bold.nii.gz\n",
      "[NiftiMapsMasker.transform_single_imgs] Extracting region signals\n",
      "[NiftiMapsMasker.transform_single_imgs] Cleaning extracted signals\n",
      "______________________________________________filter_and_extract - 33.9s, 0.6min\n",
      "\tGeal cortical Atlas takes:  37.049938440322876  with dim=  (120, 39) \n",
      "\n",
      "\tAll conn matrices are calculated in:  0.003469228744506836\n",
      "processing  VT028 :\n",
      "\n"
     ]
    },
    {
     "name": "stderr",
     "output_type": "stream",
     "text": [
      "/usr/local/miniconda/lib/python3.7/site-packages/pandas/core/frame.py:3790: SettingWithCopyWarning: \n",
      "A value is trying to be set on a copy of a slice from a DataFrame\n",
      "\n",
      "See the caveats in the documentation: http://pandas.pydata.org/pandas-docs/stable/indexing.html#indexing-view-versus-copy\n",
      "  downcast=downcast, **kwargs)\n"
     ]
    },
    {
     "name": "stdout",
     "output_type": "stream",
     "text": [
      "[NiftiMapsMasker.fit_transform] loading regions from /home/neuro/nilearn_data/pauli_2017/pauli_2017_prob.nii.gz\n",
      "Resampling maps\n"
     ]
    },
    {
     "name": "stderr",
     "output_type": "stream",
     "text": [
      "/usr/local/miniconda/lib/python3.7/site-packages/nilearn/_utils/cache_mixin.py:296: UserWarning: memory_level is currently set to 0 but a Memory object has been provided. Setting memory_level to 1.\n",
      "  warnings.warn(\"memory_level is currently set to 0 but \"\n"
     ]
    },
    {
     "name": "stdout",
     "output_type": "stream",
     "text": [
      "[Memory]    1.2s, 0.0min: Loading resample_img...\n",
      "________________________________________resample_img cache loaded - 0.0s, 0.0min\n",
      "________________________________________________________________________________\n",
      "[Memory] Calling nilearn.input_data.base_masker.filter_and_extract...\n",
      "filter_and_extract('/data/sub-VT028/func/sub-VT028_task-rest_motion-uncorrected_run-1_space-MNI152NLin6Asym_desc-preproc_bold.nii.gz', \n",
      "<nilearn.input_data.nifti_maps_masker._ExtractionFunctor object at 0x7f81a26bbba8>, \n",
      "{ 'allow_overlap': True,\n",
      "  'detrend': False,\n",
      "  'dtype': None,\n",
      "  'high_pass': None,\n",
      "  'low_pass': None,\n",
      "  'maps_img': '/home/neuro/nilearn_data/pauli_2017/pauli_2017_prob.nii.gz',\n",
      "  'mask_img': None,\n",
      "  'smoothing_fwhm': None,\n",
      "  'standardize': True,\n",
      "  't_r': None,\n",
      "  'target_affine': None,\n",
      "  'target_shape': None}, confounds=array([[6.998141e+02, ..., 2.079797e-06],\n",
      "       ...,\n",
      "       [6.906755e+02, ..., 0.000000e+00]]), dtype=None, memory=Memory(cachedir='nilearn_cache/joblib'), memory_level=1, verbose=5)\n",
      "[NiftiMapsMasker.transform_single_imgs] Loading data from /data/sub-VT028/func/sub-VT028_task-rest_motion-uncorrected_run-1_space-MNI152NLin6Asym_desc-preproc_bold.nii.gz\n",
      "[NiftiMapsMasker.transform_single_imgs] Extracting region signals\n",
      "[NiftiMapsMasker.transform_single_imgs] Cleaning extracted signals\n",
      "______________________________________________filter_and_extract - 18.1s, 0.3min\n",
      "\tPauli sub-cortical Atlas takes:  29.482117176055908  with dim=  (120, 16) \n",
      "\n",
      "[NiftiMapsMasker.fit_transform] loading regions from /home/neuro/nilearn_data/msdl_atlas/MSDL_rois/msdl_rois.nii\n",
      "Resampling maps\n",
      "[Memory]    0.1s, 0.0min: Loading resample_img...\n"
     ]
    },
    {
     "name": "stderr",
     "output_type": "stream",
     "text": [
      "/usr/local/miniconda/lib/python3.7/site-packages/nilearn/_utils/cache_mixin.py:296: UserWarning: memory_level is currently set to 0 but a Memory object has been provided. Setting memory_level to 1.\n",
      "  warnings.warn(\"memory_level is currently set to 0 but \"\n"
     ]
    },
    {
     "name": "stdout",
     "output_type": "stream",
     "text": [
      "________________________________________resample_img cache loaded - 0.2s, 0.0min\n",
      "________________________________________________________________________________\n",
      "[Memory] Calling nilearn.input_data.base_masker.filter_and_extract...\n",
      "filter_and_extract('/data/sub-VT028/func/sub-VT028_task-rest_motion-uncorrected_run-1_space-MNI152NLin6Asym_desc-preproc_bold.nii.gz', \n",
      "<nilearn.input_data.nifti_maps_masker._ExtractionFunctor object at 0x7f81a0a4d748>, \n",
      "{ 'allow_overlap': True,\n",
      "  'detrend': False,\n",
      "  'dtype': None,\n",
      "  'high_pass': None,\n",
      "  'low_pass': None,\n",
      "  'maps_img': '/home/neuro/nilearn_data/msdl_atlas/MSDL_rois/msdl_rois.nii',\n",
      "  'mask_img': None,\n",
      "  'smoothing_fwhm': None,\n",
      "  'standardize': True,\n",
      "  't_r': None,\n",
      "  'target_affine': None,\n",
      "  'target_shape': None}, confounds=array([[6.998141e+02, ..., 2.079797e-06],\n",
      "       ...,\n",
      "       [6.906755e+02, ..., 0.000000e+00]]), dtype=None, memory=Memory(cachedir='nilearn_cache/joblib'), memory_level=1, verbose=5)\n",
      "[NiftiMapsMasker.transform_single_imgs] Loading data from /data/sub-VT028/func/sub-VT028_task-rest_motion-uncorrected_run-1_space-MNI152NLin6Asym_desc-preproc_bold.nii.gz\n",
      "[NiftiMapsMasker.transform_single_imgs] Extracting region signals\n",
      "[NiftiMapsMasker.transform_single_imgs] Cleaning extracted signals\n",
      "______________________________________________filter_and_extract - 28.3s, 0.5min\n",
      "\tGeal cortical Atlas takes:  31.146953582763672  with dim=  (120, 39) \n",
      "\n",
      "\tAll conn matrices are calculated in:  0.0037605762481689453\n",
      "processing  VT029 :\n",
      "\n"
     ]
    },
    {
     "name": "stderr",
     "output_type": "stream",
     "text": [
      "/usr/local/miniconda/lib/python3.7/site-packages/pandas/core/frame.py:3790: SettingWithCopyWarning: \n",
      "A value is trying to be set on a copy of a slice from a DataFrame\n",
      "\n",
      "See the caveats in the documentation: http://pandas.pydata.org/pandas-docs/stable/indexing.html#indexing-view-versus-copy\n",
      "  downcast=downcast, **kwargs)\n"
     ]
    },
    {
     "name": "stdout",
     "output_type": "stream",
     "text": [
      "[NiftiMapsMasker.fit_transform] loading regions from /home/neuro/nilearn_data/pauli_2017/pauli_2017_prob.nii.gz\n",
      "Resampling maps\n"
     ]
    },
    {
     "name": "stderr",
     "output_type": "stream",
     "text": [
      "/usr/local/miniconda/lib/python3.7/site-packages/nilearn/_utils/cache_mixin.py:296: UserWarning: memory_level is currently set to 0 but a Memory object has been provided. Setting memory_level to 1.\n",
      "  warnings.warn(\"memory_level is currently set to 0 but \"\n"
     ]
    },
    {
     "name": "stdout",
     "output_type": "stream",
     "text": [
      "[Memory]    1.2s, 0.0min: Loading resample_img...\n",
      "________________________________________resample_img cache loaded - 0.1s, 0.0min\n",
      "________________________________________________________________________________\n",
      "[Memory] Calling nilearn.input_data.base_masker.filter_and_extract...\n",
      "filter_and_extract('/data/sub-VT029/func/sub-VT029_task-rest_motion-uncorrected_run-1_space-MNI152NLin6Asym_desc-preproc_bold.nii.gz', \n",
      "<nilearn.input_data.nifti_maps_masker._ExtractionFunctor object at 0x7f819ed6d3c8>, \n",
      "{ 'allow_overlap': True,\n",
      "  'detrend': False,\n",
      "  'dtype': None,\n",
      "  'high_pass': None,\n",
      "  'low_pass': None,\n",
      "  'maps_img': '/home/neuro/nilearn_data/pauli_2017/pauli_2017_prob.nii.gz',\n",
      "  'mask_img': None,\n",
      "  'smoothing_fwhm': None,\n",
      "  'standardize': True,\n",
      "  't_r': None,\n",
      "  'target_affine': None,\n",
      "  'target_shape': None}, confounds=array([[8.282089e+02, ..., 0.000000e+00],\n",
      "       ...,\n",
      "       [8.214079e+02, ..., 9.301040e-07]]), dtype=None, memory=Memory(cachedir='nilearn_cache/joblib'), memory_level=1, verbose=5)\n",
      "[NiftiMapsMasker.transform_single_imgs] Loading data from /data/sub-VT029/func/sub-VT029_task-rest_motion-uncorrected_run-1_space-MNI152NLin6Asym_desc-preproc_bold.nii.gz\n",
      "[NiftiMapsMasker.transform_single_imgs] Extracting region signals\n",
      "[NiftiMapsMasker.transform_single_imgs] Cleaning extracted signals\n",
      "______________________________________________filter_and_extract - 18.3s, 0.3min\n",
      "\tPauli sub-cortical Atlas takes:  29.62416362762451  with dim=  (120, 16) \n",
      "\n",
      "[NiftiMapsMasker.fit_transform] loading regions from /home/neuro/nilearn_data/msdl_atlas/MSDL_rois/msdl_rois.nii\n",
      "Resampling maps\n",
      "[Memory]    0.1s, 0.0min: Loading resample_img...\n"
     ]
    },
    {
     "name": "stderr",
     "output_type": "stream",
     "text": [
      "/usr/local/miniconda/lib/python3.7/site-packages/nilearn/_utils/cache_mixin.py:296: UserWarning: memory_level is currently set to 0 but a Memory object has been provided. Setting memory_level to 1.\n",
      "  warnings.warn(\"memory_level is currently set to 0 but \"\n"
     ]
    },
    {
     "name": "stdout",
     "output_type": "stream",
     "text": [
      "________________________________________resample_img cache loaded - 0.3s, 0.0min\n",
      "________________________________________________________________________________\n",
      "[Memory] Calling nilearn.input_data.base_masker.filter_and_extract...\n",
      "filter_and_extract('/data/sub-VT029/func/sub-VT029_task-rest_motion-uncorrected_run-1_space-MNI152NLin6Asym_desc-preproc_bold.nii.gz', \n",
      "<nilearn.input_data.nifti_maps_masker._ExtractionFunctor object at 0x7f819ed6d128>, \n",
      "{ 'allow_overlap': True,\n",
      "  'detrend': False,\n",
      "  'dtype': None,\n",
      "  'high_pass': None,\n",
      "  'low_pass': None,\n",
      "  'maps_img': '/home/neuro/nilearn_data/msdl_atlas/MSDL_rois/msdl_rois.nii',\n",
      "  'mask_img': None,\n",
      "  'smoothing_fwhm': None,\n",
      "  'standardize': True,\n",
      "  't_r': None,\n",
      "  'target_affine': None,\n",
      "  'target_shape': None}, confounds=array([[8.282089e+02, ..., 0.000000e+00],\n",
      "       ...,\n",
      "       [8.214079e+02, ..., 9.301040e-07]]), dtype=None, memory=Memory(cachedir='nilearn_cache/joblib'), memory_level=1, verbose=5)\n",
      "[NiftiMapsMasker.transform_single_imgs] Loading data from /data/sub-VT029/func/sub-VT029_task-rest_motion-uncorrected_run-1_space-MNI152NLin6Asym_desc-preproc_bold.nii.gz\n",
      "[NiftiMapsMasker.transform_single_imgs] Extracting region signals\n",
      "[NiftiMapsMasker.transform_single_imgs] Cleaning extracted signals\n",
      "______________________________________________filter_and_extract - 28.4s, 0.5min\n",
      "\tGeal cortical Atlas takes:  31.42301034927368  with dim=  (120, 39) \n",
      "\n",
      "\tAll conn matrices are calculated in:  0.00404667854309082\n",
      "processing  VT030 :\n",
      "\n"
     ]
    },
    {
     "name": "stderr",
     "output_type": "stream",
     "text": [
      "/usr/local/miniconda/lib/python3.7/site-packages/pandas/core/frame.py:3790: SettingWithCopyWarning: \n",
      "A value is trying to be set on a copy of a slice from a DataFrame\n",
      "\n",
      "See the caveats in the documentation: http://pandas.pydata.org/pandas-docs/stable/indexing.html#indexing-view-versus-copy\n",
      "  downcast=downcast, **kwargs)\n"
     ]
    },
    {
     "name": "stdout",
     "output_type": "stream",
     "text": [
      "[NiftiMapsMasker.fit_transform] loading regions from /home/neuro/nilearn_data/pauli_2017/pauli_2017_prob.nii.gz\n",
      "Resampling maps\n"
     ]
    },
    {
     "name": "stderr",
     "output_type": "stream",
     "text": [
      "/usr/local/miniconda/lib/python3.7/site-packages/nilearn/_utils/cache_mixin.py:296: UserWarning: memory_level is currently set to 0 but a Memory object has been provided. Setting memory_level to 1.\n",
      "  warnings.warn(\"memory_level is currently set to 0 but \"\n"
     ]
    },
    {
     "name": "stdout",
     "output_type": "stream",
     "text": [
      "[Memory]    1.1s, 0.0min: Loading resample_img...\n",
      "________________________________________resample_img cache loaded - 0.0s, 0.0min\n",
      "________________________________________________________________________________\n",
      "[Memory] Calling nilearn.input_data.base_masker.filter_and_extract...\n",
      "filter_and_extract('/data/sub-VT030/func/sub-VT030_task-rest_motion-uncorrected_run-1_space-MNI152NLin6Asym_desc-preproc_bold.nii.gz', \n",
      "<nilearn.input_data.nifti_maps_masker._ExtractionFunctor object at 0x7f81a26c7588>, \n",
      "{ 'allow_overlap': True,\n",
      "  'detrend': False,\n",
      "  'dtype': None,\n",
      "  'high_pass': None,\n",
      "  'low_pass': None,\n",
      "  'maps_img': '/home/neuro/nilearn_data/pauli_2017/pauli_2017_prob.nii.gz',\n",
      "  'mask_img': None,\n",
      "  'smoothing_fwhm': None,\n",
      "  'standardize': True,\n",
      "  't_r': None,\n",
      "  'target_affine': None,\n",
      "  'target_shape': None}, confounds=array([[6.977806e+02, ..., 0.000000e+00],\n",
      "       ...,\n",
      "       [6.940931e+02, ..., 6.188303e-06]]), dtype=None, memory=Memory(cachedir='nilearn_cache/joblib'), memory_level=1, verbose=5)\n",
      "[NiftiMapsMasker.transform_single_imgs] Loading data from /data/sub-VT030/func/sub-VT030_task-rest_motion-uncorrected_run-1_space-MNI152NLin6Asym_desc-preproc_bold.nii.gz\n",
      "[NiftiMapsMasker.transform_single_imgs] Extracting region signals\n",
      "[NiftiMapsMasker.transform_single_imgs] Cleaning extracted signals\n",
      "______________________________________________filter_and_extract - 18.5s, 0.3min\n",
      "\tPauli sub-cortical Atlas takes:  29.888620615005493  with dim=  (120, 16) \n",
      "\n",
      "[NiftiMapsMasker.fit_transform] loading regions from /home/neuro/nilearn_data/msdl_atlas/MSDL_rois/msdl_rois.nii\n",
      "Resampling maps\n",
      "[Memory]    0.1s, 0.0min: Loading resample_img...\n"
     ]
    },
    {
     "name": "stderr",
     "output_type": "stream",
     "text": [
      "/usr/local/miniconda/lib/python3.7/site-packages/nilearn/_utils/cache_mixin.py:296: UserWarning: memory_level is currently set to 0 but a Memory object has been provided. Setting memory_level to 1.\n",
      "  warnings.warn(\"memory_level is currently set to 0 but \"\n"
     ]
    },
    {
     "name": "stdout",
     "output_type": "stream",
     "text": [
      "________________________________________resample_img cache loaded - 0.2s, 0.0min\n",
      "________________________________________________________________________________\n",
      "[Memory] Calling nilearn.input_data.base_masker.filter_and_extract...\n",
      "filter_and_extract('/data/sub-VT030/func/sub-VT030_task-rest_motion-uncorrected_run-1_space-MNI152NLin6Asym_desc-preproc_bold.nii.gz', \n",
      "<nilearn.input_data.nifti_maps_masker._ExtractionFunctor object at 0x7f819ed6def0>, \n",
      "{ 'allow_overlap': True,\n",
      "  'detrend': False,\n",
      "  'dtype': None,\n",
      "  'high_pass': None,\n",
      "  'low_pass': None,\n",
      "  'maps_img': '/home/neuro/nilearn_data/msdl_atlas/MSDL_rois/msdl_rois.nii',\n",
      "  'mask_img': None,\n",
      "  'smoothing_fwhm': None,\n",
      "  'standardize': True,\n",
      "  't_r': None,\n",
      "  'target_affine': None,\n",
      "  'target_shape': None}, confounds=array([[6.977806e+02, ..., 0.000000e+00],\n",
      "       ...,\n",
      "       [6.940931e+02, ..., 6.188303e-06]]), dtype=None, memory=Memory(cachedir='nilearn_cache/joblib'), memory_level=1, verbose=5)\n",
      "[NiftiMapsMasker.transform_single_imgs] Loading data from /data/sub-VT030/func/sub-VT030_task-rest_motion-uncorrected_run-1_space-MNI152NLin6Asym_desc-preproc_bold.nii.gz\n",
      "[NiftiMapsMasker.transform_single_imgs] Extracting region signals\n",
      "[NiftiMapsMasker.transform_single_imgs] Cleaning extracted signals\n",
      "______________________________________________filter_and_extract - 28.6s, 0.5min\n",
      "\tGeal cortical Atlas takes:  31.458382844924927  with dim=  (120, 39) \n",
      "\n",
      "\tAll conn matrices are calculated in:  0.003566265106201172\n",
      "processing  VT032 :\n",
      "\n"
     ]
    },
    {
     "name": "stderr",
     "output_type": "stream",
     "text": [
      "/usr/local/miniconda/lib/python3.7/site-packages/pandas/core/frame.py:3790: SettingWithCopyWarning: \n",
      "A value is trying to be set on a copy of a slice from a DataFrame\n",
      "\n",
      "See the caveats in the documentation: http://pandas.pydata.org/pandas-docs/stable/indexing.html#indexing-view-versus-copy\n",
      "  downcast=downcast, **kwargs)\n"
     ]
    },
    {
     "name": "stdout",
     "output_type": "stream",
     "text": [
      "[NiftiMapsMasker.fit_transform] loading regions from /home/neuro/nilearn_data/pauli_2017/pauli_2017_prob.nii.gz\n",
      "Resampling maps\n"
     ]
    },
    {
     "name": "stderr",
     "output_type": "stream",
     "text": [
      "/usr/local/miniconda/lib/python3.7/site-packages/nilearn/_utils/cache_mixin.py:296: UserWarning: memory_level is currently set to 0 but a Memory object has been provided. Setting memory_level to 1.\n",
      "  warnings.warn(\"memory_level is currently set to 0 but \"\n"
     ]
    },
    {
     "name": "stdout",
     "output_type": "stream",
     "text": [
      "[Memory]    1.1s, 0.0min: Loading resample_img...\n",
      "________________________________________resample_img cache loaded - 0.0s, 0.0min\n",
      "________________________________________________________________________________\n",
      "[Memory] Calling nilearn.input_data.base_masker.filter_and_extract...\n",
      "filter_and_extract('/data/sub-VT032/func/sub-VT032_task-rest_motion-uncorrected_run-1_space-MNI152NLin6Asym_desc-preproc_bold.nii.gz', \n",
      "<nilearn.input_data.nifti_maps_masker._ExtractionFunctor object at 0x7f819cf865f8>, \n",
      "{ 'allow_overlap': True,\n",
      "  'detrend': False,\n",
      "  'dtype': None,\n",
      "  'high_pass': None,\n",
      "  'low_pass': None,\n",
      "  'maps_img': '/home/neuro/nilearn_data/pauli_2017/pauli_2017_prob.nii.gz',\n",
      "  'mask_img': None,\n",
      "  'smoothing_fwhm': None,\n",
      "  'standardize': True,\n",
      "  't_r': None,\n",
      "  'target_affine': None,\n",
      "  'target_shape': None}, confounds=array([[5.648940e+02, ..., 1.948393e-07],\n",
      "       ...,\n",
      "       [5.584386e+02, ..., 2.251284e-07]]), dtype=None, memory=Memory(cachedir='nilearn_cache/joblib'), memory_level=1, verbose=5)\n",
      "[NiftiMapsMasker.transform_single_imgs] Loading data from /data/sub-VT032/func/sub-VT032_task-rest_motion-uncorrected_run-1_space-MNI152NLin6Asym_desc-preproc_bold.nii.gz\n",
      "[NiftiMapsMasker.transform_single_imgs] Extracting region signals\n",
      "[NiftiMapsMasker.transform_single_imgs] Cleaning extracted signals\n",
      "______________________________________________filter_and_extract - 18.9s, 0.3min\n",
      "\tPauli sub-cortical Atlas takes:  30.1177659034729  with dim=  (120, 16) \n",
      "\n",
      "[NiftiMapsMasker.fit_transform] loading regions from /home/neuro/nilearn_data/msdl_atlas/MSDL_rois/msdl_rois.nii\n",
      "Resampling maps\n",
      "[Memory]    0.1s, 0.0min: Loading resample_img...\n"
     ]
    },
    {
     "name": "stderr",
     "output_type": "stream",
     "text": [
      "/usr/local/miniconda/lib/python3.7/site-packages/nilearn/_utils/cache_mixin.py:296: UserWarning: memory_level is currently set to 0 but a Memory object has been provided. Setting memory_level to 1.\n",
      "  warnings.warn(\"memory_level is currently set to 0 but \"\n"
     ]
    },
    {
     "name": "stdout",
     "output_type": "stream",
     "text": [
      "________________________________________resample_img cache loaded - 0.2s, 0.0min\n",
      "________________________________________________________________________________\n",
      "[Memory] Calling nilearn.input_data.base_masker.filter_and_extract...\n",
      "filter_and_extract('/data/sub-VT032/func/sub-VT032_task-rest_motion-uncorrected_run-1_space-MNI152NLin6Asym_desc-preproc_bold.nii.gz', \n",
      "<nilearn.input_data.nifti_maps_masker._ExtractionFunctor object at 0x7f819d25de80>, \n",
      "{ 'allow_overlap': True,\n",
      "  'detrend': False,\n",
      "  'dtype': None,\n",
      "  'high_pass': None,\n",
      "  'low_pass': None,\n",
      "  'maps_img': '/home/neuro/nilearn_data/msdl_atlas/MSDL_rois/msdl_rois.nii',\n",
      "  'mask_img': None,\n",
      "  'smoothing_fwhm': None,\n",
      "  'standardize': True,\n",
      "  't_r': None,\n",
      "  'target_affine': None,\n",
      "  'target_shape': None}, confounds=array([[5.648940e+02, ..., 1.948393e-07],\n",
      "       ...,\n",
      "       [5.584386e+02, ..., 2.251284e-07]]), dtype=None, memory=Memory(cachedir='nilearn_cache/joblib'), memory_level=1, verbose=5)\n",
      "[NiftiMapsMasker.transform_single_imgs] Loading data from /data/sub-VT032/func/sub-VT032_task-rest_motion-uncorrected_run-1_space-MNI152NLin6Asym_desc-preproc_bold.nii.gz\n",
      "[NiftiMapsMasker.transform_single_imgs] Extracting region signals\n",
      "[NiftiMapsMasker.transform_single_imgs] Cleaning extracted signals\n",
      "______________________________________________filter_and_extract - 28.9s, 0.5min\n",
      "\tGeal cortical Atlas takes:  31.772603034973145  with dim=  (120, 39) \n",
      "\n",
      "\tAll conn matrices are calculated in:  0.003762960433959961\n",
      "processing  VT033 :\n",
      "\n"
     ]
    },
    {
     "name": "stderr",
     "output_type": "stream",
     "text": [
      "/usr/local/miniconda/lib/python3.7/site-packages/pandas/core/frame.py:3790: SettingWithCopyWarning: \n",
      "A value is trying to be set on a copy of a slice from a DataFrame\n",
      "\n",
      "See the caveats in the documentation: http://pandas.pydata.org/pandas-docs/stable/indexing.html#indexing-view-versus-copy\n",
      "  downcast=downcast, **kwargs)\n"
     ]
    },
    {
     "name": "stdout",
     "output_type": "stream",
     "text": [
      "[NiftiMapsMasker.fit_transform] loading regions from /home/neuro/nilearn_data/pauli_2017/pauli_2017_prob.nii.gz\n",
      "Resampling maps\n"
     ]
    },
    {
     "name": "stderr",
     "output_type": "stream",
     "text": [
      "/usr/local/miniconda/lib/python3.7/site-packages/nilearn/_utils/cache_mixin.py:296: UserWarning: memory_level is currently set to 0 but a Memory object has been provided. Setting memory_level to 1.\n",
      "  warnings.warn(\"memory_level is currently set to 0 but \"\n"
     ]
    },
    {
     "name": "stdout",
     "output_type": "stream",
     "text": [
      "[Memory]    1.1s, 0.0min: Loading resample_img...\n",
      "________________________________________resample_img cache loaded - 0.0s, 0.0min\n",
      "________________________________________________________________________________\n",
      "[Memory] Calling nilearn.input_data.base_masker.filter_and_extract...\n",
      "filter_and_extract('/data/sub-VT033/func/sub-VT033_task-rest_motion-uncorrected_run-1_space-MNI152NLin6Asym_desc-preproc_bold.nii.gz', \n",
      "<nilearn.input_data.nifti_maps_masker._ExtractionFunctor object at 0x7f819bfdb940>, \n",
      "{ 'allow_overlap': True,\n",
      "  'detrend': False,\n",
      "  'dtype': None,\n",
      "  'high_pass': None,\n",
      "  'low_pass': None,\n",
      "  'maps_img': '/home/neuro/nilearn_data/pauli_2017/pauli_2017_prob.nii.gz',\n",
      "  'mask_img': None,\n",
      "  'smoothing_fwhm': None,\n",
      "  'standardize': True,\n",
      "  't_r': None,\n",
      "  'target_affine': None,\n",
      "  'target_shape': None}, confounds=array([[4.567068e+02, ..., 1.654439e-07],\n",
      "       ...,\n",
      "       [4.534379e+02, ..., 4.340425e-07]]), dtype=None, memory=Memory(cachedir='nilearn_cache/joblib'), memory_level=1, verbose=5)\n",
      "[NiftiMapsMasker.transform_single_imgs] Loading data from /data/sub-VT033/func/sub-VT033_task-rest_motion-uncorrected_run-1_space-MNI152NLin6Asym_desc-preproc_bold.nii.gz\n",
      "[NiftiMapsMasker.transform_single_imgs] Extracting region signals\n",
      "[NiftiMapsMasker.transform_single_imgs] Cleaning extracted signals\n",
      "______________________________________________filter_and_extract - 18.9s, 0.3min\n",
      "\tPauli sub-cortical Atlas takes:  30.730352878570557  with dim=  (120, 16) \n",
      "\n",
      "[NiftiMapsMasker.fit_transform] loading regions from /home/neuro/nilearn_data/msdl_atlas/MSDL_rois/msdl_rois.nii\n",
      "Resampling maps\n",
      "[Memory]    0.1s, 0.0min: Loading resample_img...\n"
     ]
    },
    {
     "name": "stderr",
     "output_type": "stream",
     "text": [
      "/usr/local/miniconda/lib/python3.7/site-packages/nilearn/_utils/cache_mixin.py:296: UserWarning: memory_level is currently set to 0 but a Memory object has been provided. Setting memory_level to 1.\n",
      "  warnings.warn(\"memory_level is currently set to 0 but \"\n"
     ]
    },
    {
     "name": "stdout",
     "output_type": "stream",
     "text": [
      "________________________________________resample_img cache loaded - 0.2s, 0.0min\n",
      "________________________________________________________________________________\n",
      "[Memory] Calling nilearn.input_data.base_masker.filter_and_extract...\n",
      "filter_and_extract('/data/sub-VT033/func/sub-VT033_task-rest_motion-uncorrected_run-1_space-MNI152NLin6Asym_desc-preproc_bold.nii.gz', \n",
      "<nilearn.input_data.nifti_maps_masker._ExtractionFunctor object at 0x7f81998947f0>, \n",
      "{ 'allow_overlap': True,\n",
      "  'detrend': False,\n",
      "  'dtype': None,\n",
      "  'high_pass': None,\n",
      "  'low_pass': None,\n",
      "  'maps_img': '/home/neuro/nilearn_data/msdl_atlas/MSDL_rois/msdl_rois.nii',\n",
      "  'mask_img': None,\n",
      "  'smoothing_fwhm': None,\n",
      "  'standardize': True,\n",
      "  't_r': None,\n",
      "  'target_affine': None,\n",
      "  'target_shape': None}, confounds=array([[4.567068e+02, ..., 1.654439e-07],\n",
      "       ...,\n",
      "       [4.534379e+02, ..., 4.340425e-07]]), dtype=None, memory=Memory(cachedir='nilearn_cache/joblib'), memory_level=1, verbose=5)\n",
      "[NiftiMapsMasker.transform_single_imgs] Loading data from /data/sub-VT033/func/sub-VT033_task-rest_motion-uncorrected_run-1_space-MNI152NLin6Asym_desc-preproc_bold.nii.gz\n",
      "[NiftiMapsMasker.transform_single_imgs] Extracting region signals\n",
      "[NiftiMapsMasker.transform_single_imgs] Cleaning extracted signals\n",
      "______________________________________________filter_and_extract - 29.2s, 0.5min\n",
      "\tGeal cortical Atlas takes:  32.103981494903564  with dim=  (120, 39) \n",
      "\n",
      "\tAll conn matrices are calculated in:  0.00363922119140625\n",
      "processing  VT035 :\n",
      "\n"
     ]
    },
    {
     "name": "stderr",
     "output_type": "stream",
     "text": [
      "/usr/local/miniconda/lib/python3.7/site-packages/pandas/core/frame.py:3790: SettingWithCopyWarning: \n",
      "A value is trying to be set on a copy of a slice from a DataFrame\n",
      "\n",
      "See the caveats in the documentation: http://pandas.pydata.org/pandas-docs/stable/indexing.html#indexing-view-versus-copy\n",
      "  downcast=downcast, **kwargs)\n"
     ]
    },
    {
     "name": "stdout",
     "output_type": "stream",
     "text": [
      "[NiftiMapsMasker.fit_transform] loading regions from /home/neuro/nilearn_data/pauli_2017/pauli_2017_prob.nii.gz\n",
      "Resampling maps\n"
     ]
    },
    {
     "name": "stderr",
     "output_type": "stream",
     "text": [
      "/usr/local/miniconda/lib/python3.7/site-packages/nilearn/_utils/cache_mixin.py:296: UserWarning: memory_level is currently set to 0 but a Memory object has been provided. Setting memory_level to 1.\n",
      "  warnings.warn(\"memory_level is currently set to 0 but \"\n"
     ]
    },
    {
     "name": "stdout",
     "output_type": "stream",
     "text": [
      "[Memory]    1.2s, 0.0min: Loading resample_img...\n",
      "________________________________________resample_img cache loaded - 0.0s, 0.0min\n",
      "________________________________________________________________________________\n",
      "[Memory] Calling nilearn.input_data.base_masker.filter_and_extract...\n",
      "filter_and_extract('/data/sub-VT035/func/sub-VT035_task-rest_motion-uncorrected_run-3_space-MNI152NLin6Asym_desc-preproc_bold.nii.gz', \n",
      "<nilearn.input_data.nifti_maps_masker._ExtractionFunctor object at 0x7f8199221da0>, \n",
      "{ 'allow_overlap': True,\n",
      "  'detrend': False,\n",
      "  'dtype': None,\n",
      "  'high_pass': None,\n",
      "  'low_pass': None,\n",
      "  'maps_img': '/home/neuro/nilearn_data/pauli_2017/pauli_2017_prob.nii.gz',\n",
      "  'mask_img': None,\n",
      "  'smoothing_fwhm': None,\n",
      "  'standardize': True,\n",
      "  't_r': None,\n",
      "  'target_affine': None,\n",
      "  'target_shape': None}, confounds=array([[5.457599e+02, ..., 6.207029e-07],\n",
      "       ...,\n",
      "       [5.460105e+02, ..., 6.750331e-06]]), dtype=None, memory=Memory(cachedir='nilearn_cache/joblib'), memory_level=1, verbose=5)\n",
      "[NiftiMapsMasker.transform_single_imgs] Loading data from /data/sub-VT035/func/sub-VT035_task-rest_motion-uncorrected_run-3_space-MNI152NLin6Asym_desc-preproc_bold.nii.gz\n",
      "[NiftiMapsMasker.transform_single_imgs] Extracting region signals\n",
      "[NiftiMapsMasker.transform_single_imgs] Cleaning extracted signals\n",
      "______________________________________________filter_and_extract - 19.0s, 0.3min\n",
      "\tPauli sub-cortical Atlas takes:  30.72950553894043  with dim=  (120, 16) \n",
      "\n",
      "[NiftiMapsMasker.fit_transform] loading regions from /home/neuro/nilearn_data/msdl_atlas/MSDL_rois/msdl_rois.nii\n",
      "Resampling maps\n",
      "[Memory]    0.1s, 0.0min: Loading resample_img...\n"
     ]
    },
    {
     "name": "stderr",
     "output_type": "stream",
     "text": [
      "/usr/local/miniconda/lib/python3.7/site-packages/nilearn/_utils/cache_mixin.py:296: UserWarning: memory_level is currently set to 0 but a Memory object has been provided. Setting memory_level to 1.\n",
      "  warnings.warn(\"memory_level is currently set to 0 but \"\n"
     ]
    },
    {
     "name": "stdout",
     "output_type": "stream",
     "text": [
      "________________________________________resample_img cache loaded - 0.2s, 0.0min\n",
      "________________________________________________________________________________\n",
      "[Memory] Calling nilearn.input_data.base_masker.filter_and_extract...\n",
      "filter_and_extract('/data/sub-VT035/func/sub-VT035_task-rest_motion-uncorrected_run-3_space-MNI152NLin6Asym_desc-preproc_bold.nii.gz', \n",
      "<nilearn.input_data.nifti_maps_masker._ExtractionFunctor object at 0x7f819cf86b00>, \n",
      "{ 'allow_overlap': True,\n",
      "  'detrend': False,\n",
      "  'dtype': None,\n",
      "  'high_pass': None,\n",
      "  'low_pass': None,\n",
      "  'maps_img': '/home/neuro/nilearn_data/msdl_atlas/MSDL_rois/msdl_rois.nii',\n",
      "  'mask_img': None,\n",
      "  'smoothing_fwhm': None,\n",
      "  'standardize': True,\n",
      "  't_r': None,\n",
      "  'target_affine': None,\n",
      "  'target_shape': None}, confounds=array([[5.457599e+02, ..., 6.207029e-07],\n",
      "       ...,\n",
      "       [5.460105e+02, ..., 6.750331e-06]]), dtype=None, memory=Memory(cachedir='nilearn_cache/joblib'), memory_level=1, verbose=5)\n",
      "[NiftiMapsMasker.transform_single_imgs] Loading data from /data/sub-VT035/func/sub-VT035_task-rest_motion-uncorrected_run-3_space-MNI152NLin6Asym_desc-preproc_bold.nii.gz\n",
      "[NiftiMapsMasker.transform_single_imgs] Extracting region signals\n",
      "[NiftiMapsMasker.transform_single_imgs] Cleaning extracted signals\n",
      "______________________________________________filter_and_extract - 29.0s, 0.5min\n",
      "\tGeal cortical Atlas takes:  31.803025245666504  with dim=  (120, 39) \n",
      "\n",
      "\tAll conn matrices are calculated in:  0.003465890884399414\n",
      "processing  VT036 :\n",
      "\n"
     ]
    },
    {
     "name": "stderr",
     "output_type": "stream",
     "text": [
      "/usr/local/miniconda/lib/python3.7/site-packages/pandas/core/frame.py:3790: SettingWithCopyWarning: \n",
      "A value is trying to be set on a copy of a slice from a DataFrame\n",
      "\n",
      "See the caveats in the documentation: http://pandas.pydata.org/pandas-docs/stable/indexing.html#indexing-view-versus-copy\n",
      "  downcast=downcast, **kwargs)\n"
     ]
    },
    {
     "name": "stdout",
     "output_type": "stream",
     "text": [
      "[NiftiMapsMasker.fit_transform] loading regions from /home/neuro/nilearn_data/pauli_2017/pauli_2017_prob.nii.gz\n",
      "Resampling maps\n"
     ]
    },
    {
     "name": "stderr",
     "output_type": "stream",
     "text": [
      "/usr/local/miniconda/lib/python3.7/site-packages/nilearn/_utils/cache_mixin.py:296: UserWarning: memory_level is currently set to 0 but a Memory object has been provided. Setting memory_level to 1.\n",
      "  warnings.warn(\"memory_level is currently set to 0 but \"\n"
     ]
    },
    {
     "name": "stdout",
     "output_type": "stream",
     "text": [
      "[Memory]    1.1s, 0.0min: Loading resample_img...\n",
      "________________________________________resample_img cache loaded - 0.0s, 0.0min\n",
      "________________________________________________________________________________\n",
      "[Memory] Calling nilearn.input_data.base_masker.filter_and_extract...\n",
      "filter_and_extract('/data/sub-VT036/func/sub-VT036_task-rest_motion-uncorrected_run-1_space-MNI152NLin6Asym_desc-preproc_bold.nii.gz', \n",
      "<nilearn.input_data.nifti_maps_masker._ExtractionFunctor object at 0x7f8195d2c320>, \n",
      "{ 'allow_overlap': True,\n",
      "  'detrend': False,\n",
      "  'dtype': None,\n",
      "  'high_pass': None,\n",
      "  'low_pass': None,\n",
      "  'maps_img': '/home/neuro/nilearn_data/pauli_2017/pauli_2017_prob.nii.gz',\n",
      "  'mask_img': None,\n",
      "  'smoothing_fwhm': None,\n",
      "  'standardize': True,\n",
      "  't_r': None,\n",
      "  'target_affine': None,\n",
      "  'target_shape': None}, confounds=array([[6.278540e+02, ..., 3.085608e-08],\n",
      "       ...,\n",
      "       [6.240592e+02, ..., 4.251301e-05]]), dtype=None, memory=Memory(cachedir='nilearn_cache/joblib'), memory_level=1, verbose=5)\n",
      "[NiftiMapsMasker.transform_single_imgs] Loading data from /data/sub-VT036/func/sub-VT036_task-rest_motion-uncorrected_run-1_space-MNI152NLin6Asym_desc-preproc_bold.nii.gz\n",
      "[NiftiMapsMasker.transform_single_imgs] Extracting region signals\n",
      "[NiftiMapsMasker.transform_single_imgs] Cleaning extracted signals\n",
      "______________________________________________filter_and_extract - 19.2s, 0.3min\n",
      "\tPauli sub-cortical Atlas takes:  30.64611530303955  with dim=  (120, 16) \n",
      "\n",
      "[NiftiMapsMasker.fit_transform] loading regions from /home/neuro/nilearn_data/msdl_atlas/MSDL_rois/msdl_rois.nii\n",
      "Resampling maps\n",
      "[Memory]    0.1s, 0.0min: Loading resample_img...\n"
     ]
    },
    {
     "name": "stderr",
     "output_type": "stream",
     "text": [
      "/usr/local/miniconda/lib/python3.7/site-packages/nilearn/_utils/cache_mixin.py:296: UserWarning: memory_level is currently set to 0 but a Memory object has been provided. Setting memory_level to 1.\n",
      "  warnings.warn(\"memory_level is currently set to 0 but \"\n"
     ]
    },
    {
     "name": "stdout",
     "output_type": "stream",
     "text": [
      "________________________________________resample_img cache loaded - 0.2s, 0.0min\n",
      "________________________________________________________________________________\n",
      "[Memory] Calling nilearn.input_data.base_masker.filter_and_extract...\n",
      "filter_and_extract('/data/sub-VT036/func/sub-VT036_task-rest_motion-uncorrected_run-1_space-MNI152NLin6Asym_desc-preproc_bold.nii.gz', \n",
      "<nilearn.input_data.nifti_maps_masker._ExtractionFunctor object at 0x7f819aed4128>, \n",
      "{ 'allow_overlap': True,\n",
      "  'detrend': False,\n",
      "  'dtype': None,\n",
      "  'high_pass': None,\n",
      "  'low_pass': None,\n",
      "  'maps_img': '/home/neuro/nilearn_data/msdl_atlas/MSDL_rois/msdl_rois.nii',\n",
      "  'mask_img': None,\n",
      "  'smoothing_fwhm': None,\n",
      "  'standardize': True,\n",
      "  't_r': None,\n",
      "  'target_affine': None,\n",
      "  'target_shape': None}, confounds=array([[6.278540e+02, ..., 3.085608e-08],\n",
      "       ...,\n",
      "       [6.240592e+02, ..., 4.251301e-05]]), dtype=None, memory=Memory(cachedir='nilearn_cache/joblib'), memory_level=1, verbose=5)\n",
      "[NiftiMapsMasker.transform_single_imgs] Loading data from /data/sub-VT036/func/sub-VT036_task-rest_motion-uncorrected_run-1_space-MNI152NLin6Asym_desc-preproc_bold.nii.gz\n",
      "[NiftiMapsMasker.transform_single_imgs] Extracting region signals\n",
      "[NiftiMapsMasker.transform_single_imgs] Cleaning extracted signals\n",
      "______________________________________________filter_and_extract - 29.2s, 0.5min\n",
      "\tGeal cortical Atlas takes:  31.955363988876343  with dim=  (120, 39) \n",
      "\n",
      "\tAll conn matrices are calculated in:  0.0050699710845947266\n",
      "processing  VT039 :\n",
      "\n"
     ]
    },
    {
     "name": "stderr",
     "output_type": "stream",
     "text": [
      "/usr/local/miniconda/lib/python3.7/site-packages/pandas/core/frame.py:3790: SettingWithCopyWarning: \n",
      "A value is trying to be set on a copy of a slice from a DataFrame\n",
      "\n",
      "See the caveats in the documentation: http://pandas.pydata.org/pandas-docs/stable/indexing.html#indexing-view-versus-copy\n",
      "  downcast=downcast, **kwargs)\n"
     ]
    },
    {
     "name": "stdout",
     "output_type": "stream",
     "text": [
      "[NiftiMapsMasker.fit_transform] loading regions from /home/neuro/nilearn_data/pauli_2017/pauli_2017_prob.nii.gz\n",
      "Resampling maps\n"
     ]
    },
    {
     "name": "stderr",
     "output_type": "stream",
     "text": [
      "/usr/local/miniconda/lib/python3.7/site-packages/nilearn/_utils/cache_mixin.py:296: UserWarning: memory_level is currently set to 0 but a Memory object has been provided. Setting memory_level to 1.\n",
      "  warnings.warn(\"memory_level is currently set to 0 but \"\n"
     ]
    },
    {
     "name": "stdout",
     "output_type": "stream",
     "text": [
      "[Memory]    1.2s, 0.0min: Loading resample_img...\n",
      "________________________________________resample_img cache loaded - 0.0s, 0.0min\n",
      "________________________________________________________________________________\n",
      "[Memory] Calling nilearn.input_data.base_masker.filter_and_extract...\n",
      "filter_and_extract('/data/sub-VT039/func/sub-VT039_task-rest_motion-uncorrected_run-1_space-MNI152NLin6Asym_desc-preproc_bold.nii.gz', \n",
      "<nilearn.input_data.nifti_maps_masker._ExtractionFunctor object at 0x7f8195c68828>, \n",
      "{ 'allow_overlap': True,\n",
      "  'detrend': False,\n",
      "  'dtype': None,\n",
      "  'high_pass': None,\n",
      "  'low_pass': None,\n",
      "  'maps_img': '/home/neuro/nilearn_data/pauli_2017/pauli_2017_prob.nii.gz',\n",
      "  'mask_img': None,\n",
      "  'smoothing_fwhm': None,\n",
      "  'standardize': True,\n",
      "  't_r': None,\n",
      "  'target_affine': None,\n",
      "  'target_shape': None}, confounds=array([[5.272904e+02, ..., 8.641413e-07],\n",
      "       ...,\n",
      "       [5.214690e+02, ..., 1.725297e-07]]), dtype=None, memory=Memory(cachedir='nilearn_cache/joblib'), memory_level=1, verbose=5)\n",
      "[NiftiMapsMasker.transform_single_imgs] Loading data from /data/sub-VT039/func/sub-VT039_task-rest_motion-uncorrected_run-1_space-MNI152NLin6Asym_desc-preproc_bold.nii.gz\n",
      "[NiftiMapsMasker.transform_single_imgs] Extracting region signals\n",
      "[NiftiMapsMasker.transform_single_imgs] Cleaning extracted signals\n",
      "______________________________________________filter_and_extract - 19.4s, 0.3min\n",
      "\tPauli sub-cortical Atlas takes:  31.005574226379395  with dim=  (120, 16) \n",
      "\n",
      "[NiftiMapsMasker.fit_transform] loading regions from /home/neuro/nilearn_data/msdl_atlas/MSDL_rois/msdl_rois.nii\n",
      "Resampling maps\n",
      "[Memory]    0.1s, 0.0min: Loading resample_img...\n"
     ]
    },
    {
     "name": "stderr",
     "output_type": "stream",
     "text": [
      "/usr/local/miniconda/lib/python3.7/site-packages/nilearn/_utils/cache_mixin.py:296: UserWarning: memory_level is currently set to 0 but a Memory object has been provided. Setting memory_level to 1.\n",
      "  warnings.warn(\"memory_level is currently set to 0 but \"\n"
     ]
    },
    {
     "name": "stdout",
     "output_type": "stream",
     "text": [
      "________________________________________resample_img cache loaded - 0.2s, 0.0min\n",
      "________________________________________________________________________________\n",
      "[Memory] Calling nilearn.input_data.base_masker.filter_and_extract...\n",
      "filter_and_extract('/data/sub-VT039/func/sub-VT039_task-rest_motion-uncorrected_run-1_space-MNI152NLin6Asym_desc-preproc_bold.nii.gz', \n",
      "<nilearn.input_data.nifti_maps_masker._ExtractionFunctor object at 0x7f819cf862e8>, \n",
      "{ 'allow_overlap': True,\n",
      "  'detrend': False,\n",
      "  'dtype': None,\n",
      "  'high_pass': None,\n",
      "  'low_pass': None,\n",
      "  'maps_img': '/home/neuro/nilearn_data/msdl_atlas/MSDL_rois/msdl_rois.nii',\n",
      "  'mask_img': None,\n",
      "  'smoothing_fwhm': None,\n",
      "  'standardize': True,\n",
      "  't_r': None,\n",
      "  'target_affine': None,\n",
      "  'target_shape': None}, confounds=array([[5.272904e+02, ..., 8.641413e-07],\n",
      "       ...,\n",
      "       [5.214690e+02, ..., 1.725297e-07]]), dtype=None, memory=Memory(cachedir='nilearn_cache/joblib'), memory_level=1, verbose=5)\n",
      "[NiftiMapsMasker.transform_single_imgs] Loading data from /data/sub-VT039/func/sub-VT039_task-rest_motion-uncorrected_run-1_space-MNI152NLin6Asym_desc-preproc_bold.nii.gz\n",
      "[NiftiMapsMasker.transform_single_imgs] Extracting region signals\n",
      "[NiftiMapsMasker.transform_single_imgs] Cleaning extracted signals\n",
      "______________________________________________filter_and_extract - 29.6s, 0.5min\n",
      "\tGeal cortical Atlas takes:  32.38214731216431  with dim=  (120, 39) \n",
      "\n",
      "\tAll conn matrices are calculated in:  0.0038890838623046875\n",
      "processing  VT041 :\n",
      "\n"
     ]
    },
    {
     "name": "stderr",
     "output_type": "stream",
     "text": [
      "/usr/local/miniconda/lib/python3.7/site-packages/pandas/core/frame.py:3790: SettingWithCopyWarning: \n",
      "A value is trying to be set on a copy of a slice from a DataFrame\n",
      "\n",
      "See the caveats in the documentation: http://pandas.pydata.org/pandas-docs/stable/indexing.html#indexing-view-versus-copy\n",
      "  downcast=downcast, **kwargs)\n"
     ]
    },
    {
     "name": "stdout",
     "output_type": "stream",
     "text": [
      "[NiftiMapsMasker.fit_transform] loading regions from /home/neuro/nilearn_data/pauli_2017/pauli_2017_prob.nii.gz\n",
      "Resampling maps\n"
     ]
    },
    {
     "name": "stderr",
     "output_type": "stream",
     "text": [
      "/usr/local/miniconda/lib/python3.7/site-packages/nilearn/_utils/cache_mixin.py:296: UserWarning: memory_level is currently set to 0 but a Memory object has been provided. Setting memory_level to 1.\n",
      "  warnings.warn(\"memory_level is currently set to 0 but \"\n"
     ]
    },
    {
     "name": "stdout",
     "output_type": "stream",
     "text": [
      "[Memory]    1.1s, 0.0min: Loading resample_img...\n",
      "________________________________________resample_img cache loaded - 0.0s, 0.0min\n",
      "________________________________________________________________________________\n",
      "[Memory] Calling nilearn.input_data.base_masker.filter_and_extract...\n",
      "filter_and_extract('/data/sub-VT041/func/sub-VT041_task-rest_motion-uncorrected_run-1_space-MNI152NLin6Asym_desc-preproc_bold.nii.gz', \n",
      "<nilearn.input_data.nifti_maps_masker._ExtractionFunctor object at 0x7f8193b363c8>, \n",
      "{ 'allow_overlap': True,\n",
      "  'detrend': False,\n",
      "  'dtype': None,\n",
      "  'high_pass': None,\n",
      "  'low_pass': None,\n",
      "  'maps_img': '/home/neuro/nilearn_data/pauli_2017/pauli_2017_prob.nii.gz',\n",
      "  'mask_img': None,\n",
      "  'smoothing_fwhm': None,\n",
      "  'standardize': True,\n",
      "  't_r': None,\n",
      "  'target_affine': None,\n",
      "  'target_shape': None}, confounds=array([[4.772161e+02, ..., 2.159078e-06],\n",
      "       ...,\n",
      "       [4.773632e+02, ..., 9.884217e-05]]), dtype=None, memory=Memory(cachedir='nilearn_cache/joblib'), memory_level=1, verbose=5)\n",
      "[NiftiMapsMasker.transform_single_imgs] Loading data from /data/sub-VT041/func/sub-VT041_task-rest_motion-uncorrected_run-1_space-MNI152NLin6Asym_desc-preproc_bold.nii.gz\n",
      "[NiftiMapsMasker.transform_single_imgs] Extracting region signals\n",
      "[NiftiMapsMasker.transform_single_imgs] Cleaning extracted signals\n",
      "______________________________________________filter_and_extract - 19.2s, 0.3min\n",
      "\tPauli sub-cortical Atlas takes:  31.469300270080566  with dim=  (120, 16) \n",
      "\n",
      "[NiftiMapsMasker.fit_transform] loading regions from /home/neuro/nilearn_data/msdl_atlas/MSDL_rois/msdl_rois.nii\n",
      "Resampling maps\n",
      "[Memory]    0.1s, 0.0min: Loading resample_img...\n"
     ]
    },
    {
     "name": "stderr",
     "output_type": "stream",
     "text": [
      "/usr/local/miniconda/lib/python3.7/site-packages/nilearn/_utils/cache_mixin.py:296: UserWarning: memory_level is currently set to 0 but a Memory object has been provided. Setting memory_level to 1.\n",
      "  warnings.warn(\"memory_level is currently set to 0 but \"\n"
     ]
    },
    {
     "name": "stdout",
     "output_type": "stream",
     "text": [
      "________________________________________resample_img cache loaded - 0.2s, 0.0min\n",
      "________________________________________________________________________________\n",
      "[Memory] Calling nilearn.input_data.base_masker.filter_and_extract...\n",
      "filter_and_extract('/data/sub-VT041/func/sub-VT041_task-rest_motion-uncorrected_run-1_space-MNI152NLin6Asym_desc-preproc_bold.nii.gz', \n",
      "<nilearn.input_data.nifti_maps_masker._ExtractionFunctor object at 0x7f819972e9e8>, \n",
      "{ 'allow_overlap': True,\n",
      "  'detrend': False,\n",
      "  'dtype': None,\n",
      "  'high_pass': None,\n",
      "  'low_pass': None,\n",
      "  'maps_img': '/home/neuro/nilearn_data/msdl_atlas/MSDL_rois/msdl_rois.nii',\n",
      "  'mask_img': None,\n",
      "  'smoothing_fwhm': None,\n",
      "  'standardize': True,\n",
      "  't_r': None,\n",
      "  'target_affine': None,\n",
      "  'target_shape': None}, confounds=array([[4.772161e+02, ..., 2.159078e-06],\n",
      "       ...,\n",
      "       [4.773632e+02, ..., 9.884217e-05]]), dtype=None, memory=Memory(cachedir='nilearn_cache/joblib'), memory_level=1, verbose=5)\n",
      "[NiftiMapsMasker.transform_single_imgs] Loading data from /data/sub-VT041/func/sub-VT041_task-rest_motion-uncorrected_run-1_space-MNI152NLin6Asym_desc-preproc_bold.nii.gz\n",
      "[NiftiMapsMasker.transform_single_imgs] Extracting region signals\n",
      "[NiftiMapsMasker.transform_single_imgs] Cleaning extracted signals\n",
      "______________________________________________filter_and_extract - 29.7s, 0.5min\n",
      "\tGeal cortical Atlas takes:  32.4953875541687  with dim=  (120, 39) \n",
      "\n",
      "\tAll conn matrices are calculated in:  0.0036666393280029297\n"
     ]
    }
   ],
   "source": [
    "import time\n",
    "import pandas as pd\n",
    "import numpy as np\n",
    "import matplotlib.pyplot as plt\n",
    "from nilearn import datasets, plotting\n",
    "from nilearn.input_data import NiftiMapsMasker\n",
    "from nilearn.connectome import ConnectivityMeasure\n",
    "\n",
    "ROOT_DIR='/output/fmri/'\n",
    "FIG_DIR=ROOT_DIR+'figs/'\n",
    "#confounders_index=[0,4,14]+list(range(97,105,1))+list(range(461,485,1))\n",
    "confounders=['csf', 'white_matter', 'framewise_displacement', 'a_comp_cor_00',\n",
    "             'a_comp_cor_01', 'a_comp_cor_02', 'a_comp_cor_03', 'a_comp_cor_04',\n",
    "             'a_comp_cor_05', 'a_comp_cor_06', 'a_comp_cor_07', 'trans_x',\n",
    "             'trans_x_derivative1', 'trans_x_derivative1_power2', 'trans_x_power2',\n",
    "             'trans_y', 'trans_y_derivative1', 'trans_y_power2','trans_y_derivative1_power2',\n",
    "             'trans_z', 'trans_z_derivative1', 'trans_z_derivative1_power2', 'trans_z_power2', 'rot_x',\n",
    "             'rot_x_derivative1', 'rot_x_power2', 'rot_x_derivative1_power2',\n",
    "             'rot_y', 'rot_y_derivative1', 'rot_y_derivative1_power2', 'rot_y_power2', 'rot_z', 'rot_z_derivative1',\n",
    "             'rot_z_derivative1_power2', 'rot_z_power2']\n",
    "\n",
    "atlasS = datasets.fetch_atlas_pauli_2017() #sub-cortical parc\n",
    "atlasC = datasets.fetch_atlas_msdl() # Cortical parc\n",
    "# Loading atlas image stored in 'maps'\n",
    "atlasS_filename = atlasS['maps']\n",
    "atlasC_filename = atlasC['maps']\n",
    "# Loading atlas data stored in 'labels'\n",
    "labelsS = atlasS['labels']\n",
    "labelsC = atlasC['labels']\n",
    "coordsC = atlasC.region_coords\n",
    "data_all=[]\n",
    "\n",
    "# Processing the functional datasets\n",
    "n_sub = len(bold_list)\n",
    "\n",
    "for i_sub in range(0,n_sub,1):\n",
    "    #strings\n",
    "    if i_sub<18:\n",
    "        str_sub = bold_list[i_sub][10:16]\n",
    "    else:\n",
    "        str_sub = bold_list[i_sub][10:15]\n",
    "        \n",
    "    bold_file = bold_list[i_sub]\n",
    "    conf_file = conf_list[i_sub]\n",
    "    print('processing ',str_sub, ':\\n' )\n",
    "    t0=time.time()\n",
    "    conf_data = pd.read_csv(conf_file, delimiter='\\t')\n",
    "    confouders_used = conf_data[confounders]\n",
    "    #confouders_used = conf_data.iloc[:,confounders_index]\n",
    "    confouders_used.fillna(value=0,inplace=True)\n",
    "    t1=time.time()\n",
    "    maskerS = NiftiMapsMasker(maps_img=atlasS_filename, standardize=True, memory='nilearn_cache', verbose=5)\n",
    "    time_seriesS = maskerS.fit_transform(bold_file, confounds=confouders_used.values)\n",
    "    t1=time.time()\n",
    "    print('\\tPauli sub-cortical Atlas takes: ', t1-t0, ' with dim= ', time_seriesS.shape, '\\n')\n",
    "    maskerC = NiftiMapsMasker(maps_img=atlasC_filename, standardize=True, memory='nilearn_cache', verbose=5)\n",
    "    time_seriesC = maskerC.fit_transform(bold_file, confounds=confouders_used.values)\n",
    "    t2=time.time()\n",
    "    print('\\tGeal cortical Atlas takes: ', t2-t1, ' with dim= ', time_seriesC.shape, '\\n')\n",
    "    # cal conn matrices\n",
    "    correlation_measureS_C = ConnectivityMeasure(kind='correlation')\n",
    "    correlation_matrixS_C  = correlation_measureS_C.fit_transform([time_seriesS])[0]\n",
    "    correlation_measureS_P = ConnectivityMeasure(kind='partial correlation')\n",
    "    correlation_matrixS_P  = correlation_measureS_P.fit_transform([time_seriesS])[0]\n",
    "    correlation_measureC_C = ConnectivityMeasure(kind='correlation')\n",
    "    correlation_matrixC_C  = correlation_measureC_C.fit_transform([time_seriesC])[0]\n",
    "    correlation_measureC_P = ConnectivityMeasure(kind='partial correlation')\n",
    "    correlation_matrixC_P  = correlation_measureC_P.fit_transform([time_seriesC])[0]\n",
    "    t3=time.time()\n",
    "    print('\\tAll conn matrices are calculated in: ', t3-t2)\n",
    "    data={'bold':bold_file,\n",
    "          'time_seriesS':time_seriesS,\n",
    "          'time_seriesC':time_seriesC,\n",
    "          'confounders':confouders_used,\n",
    "          'correlation_matrixS_C':correlation_matrixS_C,\n",
    "          'correlation_matrixS_P':correlation_matrixS_P,\n",
    "          'correlation_matrixC_C':correlation_matrixC_C,\n",
    "          'correlation_matrixC_P':correlation_matrixC_P}\n",
    "    data_all.append(data)\n",
    "    # plot and sv figs\n",
    "    ## Plot Conn Mat\n",
    "    fig = plt.figure(figsize=[6,5],dpi=300)\n",
    "    np.fill_diagonal(correlation_matrixS_C, 0)\n",
    "    plotting.plot_matrix(correlation_matrixS_C,labels=labelsS,colorbar=True,vmax=0.8,vmin=-0.8,figure=fig)\n",
    "    TITLE=str_sub+'-Pauli_Subcortical_Correlation_Mat'\n",
    "    plt.title(TITLE)\n",
    "    fig.savefig(FIG_DIR+TITLE+'.png')\n",
    "    plt.close()\n",
    "    fig = plt.figure(figsize=[6,5],dpi=300)\n",
    "    np.fill_diagonal(correlation_matrixS_P, 0)\n",
    "    plotting.plot_matrix(correlation_matrixS_P, labels=labelsS, colorbar=True,vmax=0.8, vmin=-0.8, figure=fig)\n",
    "    TITLE=str_sub+'-Pauli_Subcortical_Precision_Mat'\n",
    "    plt.title(TITLE)\n",
    "    fig.savefig(FIG_DIR+TITLE+'.png')\n",
    "    plt.close()\n",
    "    fig = plt.figure(figsize=[6,5],dpi=300)\n",
    "    np.fill_diagonal(correlation_matrixC_C, 0)\n",
    "    plotting.plot_matrix(correlation_matrixC_C,labels=labelsC,colorbar=True,vmax=0.8,vmin=-0.8,figure=fig)\n",
    "    TITLE=str_sub+'-Geal_Cortical_Correlation_Mat'\n",
    "    plt.title(TITLE)\n",
    "    fig.savefig(FIG_DIR+TITLE+'.png')\n",
    "    plt.close()\n",
    "    fig = plt.figure(figsize=[6,5],dpi=300)\n",
    "    np.fill_diagonal(correlation_matrixC_P, 0)\n",
    "    plotting.plot_matrix(correlation_matrixC_P, labels=labelsC, colorbar=True,vmax=0.8, vmin=-0.8, figure=fig)\n",
    "    TITLE=str_sub+'-Gael_Cortical_Precision_Mat'\n",
    "    plt.title(TITLE)\n",
    "    fig.savefig(FIG_DIR+TITLE+'.png')\n",
    "    plt.close()\n",
    "    # We threshold to keep only the 20% of edges with the highest value\n",
    "    # because the graph is very dense\n",
    "    TITLE=str_sub+'-Geal_Cortical_Correlation_Brain'\n",
    "    plotting.plot_connectome(correlation_matrixC_C,coordsC,edge_threshold=\"80%\", colorbar=True,\n",
    "                             title=TITLE, output_file=FIG_DIR+TITLE+'.png')\n",
    "    TITLE=str_sub+'-Geal_Cortical_Precision_Brain'\n",
    "    plotting.plot_connectome(correlation_matrixC_P,coordsC,edge_threshold=\"80%\", colorbar=True,\n",
    "                             title=TITLE, output_file=FIG_DIR+TITLE+'.png')"
   ]
  },
  {
   "cell_type": "code",
   "execution_count": 58,
   "metadata": {},
   "outputs": [
    {
     "name": "stdout",
     "output_type": "stream",
     "text": [
      "PD:  10 , ET:  22 , HC:  9\n"
     ]
    }
   ],
   "source": [
    "index_PD=[0,10,18,19,20,21,22,23,25,-1] #vt11 missing\n",
    "index_ET=[1,2,3, 4, 5, 6,7,8,9,11,12,13,14,15,16,17,24,34,36,38,39,40] #fmr07,20,28,33,47,78,108,\n",
    "# 112,145, 189; VT1-3,41,,42,43,109 missing 33 missing from the list\n",
    "index_HC=[26,27,28,29,30,31,32,33,35] #vt22 missing\n",
    "Groups=[index_PD, index_ET, index_HC]\n",
    "Group_names=['PD', 'ET', 'HC']\n",
    "print('PD: ',len(index_PD), ', ET: ',len(index_ET), ', HC: ',len(index_HC))\n",
    "#data.keys()\n",
    "#['bold', 'time_seriesS', 'time_seriesC', 'confounders', 'correlation_matrixS_C', 'correlation_matrixS_P', 'correlation_matrixC_C', 'correlation_matrixC_P']"
   ]
  },
  {
   "cell_type": "code",
   "execution_count": 61,
   "metadata": {},
   "outputs": [],
   "source": [
    "#Group difference\n",
    "pdhc=[]; ethc=[]; pdet=[];\n",
    "for i_measure in range(4):\n",
    "    pdhc_tmp=all_mean[0][i_measure]-all_mean[2][i_measure]; pdhc.append(pdhc_tmp)\n",
    "    ethc_tmp=all_mean[1][i_measure]-all_mean[2][i_measure]; ethc.append(ethc_tmp)\n",
    "    pdet_tmp=all_mean[0][i_measure]-all_mean[1][i_measure]; pdet.append(pdet_tmp)\n",
    "    if i_measure<2:\n",
    "        fig = plt.figure(figsize=[6,5],dpi=300)\n",
    "        plotting.plot_matrix(pdhc_tmp,labels=labelsS,colorbar=True,vmax=0.5,vmin=-0.5,figure=fig)\n",
    "        TITLE='PD-HC: Pauli_Subcortical_Mean_'+corr_mat_names[i_measure]\n",
    "        plt.title(TITLE)\n",
    "        fig.savefig(FIG_DIR+TITLE+'.png')\n",
    "        plt.close()\n",
    "        fig = plt.figure(figsize=[6,5],dpi=300)\n",
    "        plotting.plot_matrix(ethc_tmp,labels=labelsS,colorbar=True,vmax=0.5,vmin=-0.5,figure=fig)\n",
    "        TITLE='ET-HC: Pauli_Subcortical_Mean_'+corr_mat_names[i_measure]\n",
    "        plt.title(TITLE)\n",
    "        fig.savefig(FIG_DIR+TITLE+'.png')\n",
    "        plt.close()\n",
    "        fig = plt.figure(figsize=[6,5],dpi=300)\n",
    "        plotting.plot_matrix(pdet_tmp,labels=labelsS,colorbar=True,vmax=0.5,vmin=-0.5,figure=fig)\n",
    "        TITLE='PD-ET: Pauli_Subcortical_Mean_'+corr_mat_names[i_measure]\n",
    "        plt.title(TITLE)\n",
    "        fig.savefig(FIG_DIR+TITLE+'.png')\n",
    "        plt.close()\n",
    "    else:\n",
    "        fig = plt.figure(figsize=[6,5],dpi=300)\n",
    "        plotting.plot_matrix(pdhc_tmp,labels=labelsC,colorbar=True,vmax=0.5,vmin=-0.5,figure=fig)\n",
    "        TITLE='PD-HC: Geal_Cortical_Mean_'+corr_mat_names[i_measure]\n",
    "        plt.title(TITLE)\n",
    "        fig.savefig(FIG_DIR+TITLE+'.png')\n",
    "        plt.close()\n",
    "        fig = plt.figure(figsize=[6,5],dpi=300)\n",
    "        plotting.plot_matrix(ethc_tmp,labels=labelsC,colorbar=True,vmax=0.5,vmin=-0.5,figure=fig)\n",
    "        TITLE='ET-HC: Geal_Cortical_Mean_'+corr_mat_names[i_measure]\n",
    "        plt.title(TITLE)\n",
    "        fig.savefig(FIG_DIR+TITLE+'.png')\n",
    "        plt.close()\n",
    "        fig = plt.figure(figsize=[6,5],dpi=300)\n",
    "        plotting.plot_matrix(pdet_tmp,labels=labelsC,colorbar=True,vmax=0.5,vmin=-0.4,figure=fig)\n",
    "        TITLE='PD-ET: Geal_Cortical_Mean_'+corr_mat_names[i_measure]\n",
    "        plt.title(TITLE)\n",
    "        fig.savefig(FIG_DIR+TITLE+'.png')\n",
    "        plt.close()"
   ]
  },
  {
   "cell_type": "code",
   "execution_count": 62,
   "metadata": {},
   "outputs": [
    {
     "data": {
      "text/plain": [
       "{'maps': '/home/neuro/nilearn_data/msdl_atlas/MSDL_rois/msdl_rois.nii',\n",
       " 'labels': ['L Aud',\n",
       "  'R Aud',\n",
       "  'Striate',\n",
       "  'L DMN',\n",
       "  'Med DMN',\n",
       "  'Front DMN',\n",
       "  'R DMN',\n",
       "  'Occ post',\n",
       "  'Motor',\n",
       "  'R DLPFC',\n",
       "  'R Front pol',\n",
       "  'R Par',\n",
       "  'R Post Temp',\n",
       "  'Basal',\n",
       "  'L Par',\n",
       "  'L DLPFC',\n",
       "  'L Front pol',\n",
       "  'L IPS',\n",
       "  'R IPS',\n",
       "  'L LOC',\n",
       "  'Vis',\n",
       "  'R LOC',\n",
       "  'D ACC',\n",
       "  'V ACC',\n",
       "  'R A Ins',\n",
       "  'L STS',\n",
       "  'R STS',\n",
       "  'L TPJ',\n",
       "  'Broca',\n",
       "  'Sup Front S',\n",
       "  'R TPJ',\n",
       "  'R Pars Op',\n",
       "  'Cereb',\n",
       "  'Dors PCC',\n",
       "  'L Ins',\n",
       "  'Cing',\n",
       "  'R Ins',\n",
       "  'L Ant IPS',\n",
       "  'R Ant IPS'],\n",
       " 'region_coords': [(-53.28, -8.88, 32.36),\n",
       "  (53.47, -6.49, 27.52),\n",
       "  (1.18, -74.54, 10.79),\n",
       "  (-45.8, -64.78, 31.84),\n",
       "  (-0.2, -55.21, 29.87),\n",
       "  (-0.15, 51.42, 7.58),\n",
       "  (51.66, -59.34, 28.88),\n",
       "  (0.41, -91.05, 1.58),\n",
       "  (-1.48, -27.93, 61.5),\n",
       "  (40.1, 20.96, 44.72),\n",
       "  (37.83, 55.49, 1.22),\n",
       "  (47.53, -52.42, 43.06),\n",
       "  (62.53, -32.99, -9.14),\n",
       "  (-0.91, -2.75, 6.15),\n",
       "  (-41.66, -59.04, 44.61),\n",
       "  (-39.04, 19.28, 43.27),\n",
       "  (-40.08, 50.65, 0.81),\n",
       "  (-29.39, -59.43, 44.2),\n",
       "  (31.6, -58.09, 45.69),\n",
       "  (-30.54, -85.14, 9.1),\n",
       "  (-24.29, -74.28, -11.74),\n",
       "  (33.4, -77.96, 4.31),\n",
       "  (-28.17, 46.32, 21.56),\n",
       "  (-0.45, 34.06, 20.73),\n",
       "  (28.38, 47.72, 22.13),\n",
       "  (-52.12, -17.92, 13.28),\n",
       "  (52.61, -13.65, 12.11),\n",
       "  (-55.52, -43.77, 10.08),\n",
       "  (-48.66, 25.11, 5.7),\n",
       "  (-3.39, 17.19, 63.52),\n",
       "  (54.42, -29.5, -2.72),\n",
       "  (52.38, 29.39, 2.93),\n",
       "  (1.05, -58.49, -23.91),\n",
       "  (-1.44, -59.12, 55.25),\n",
       "  (-41.33, 13.63, 2.7),\n",
       "  (1.05, 9.2, 46.43),\n",
       "  (43.01, 14.3, 2.79),\n",
       "  (-47.85, -32.07, 41.9),\n",
       "  (48.36, -29.04, 43.13)],\n",
       " 'networks': [b'Aud',\n",
       "  b'Aud',\n",
       "  b'Striate',\n",
       "  b'DMN',\n",
       "  b'DMN',\n",
       "  b'DMN',\n",
       "  b'DMN',\n",
       "  b'Occ post',\n",
       "  b'Motor',\n",
       "  b'R V Att',\n",
       "  b'R V Att',\n",
       "  b'R V Att',\n",
       "  b'R V Att',\n",
       "  b'Basal',\n",
       "  b'L V Att',\n",
       "  b'L V Att',\n",
       "  b'L V Att',\n",
       "  b'D Att',\n",
       "  b'D Att',\n",
       "  b'Vis Sec',\n",
       "  b'Vis Sec',\n",
       "  b'Vis Sec',\n",
       "  b'Salience',\n",
       "  b'Salience',\n",
       "  b'Salience',\n",
       "  b'Temporal',\n",
       "  b'Temporal',\n",
       "  b'Language',\n",
       "  b'Language',\n",
       "  b'Language',\n",
       "  b'Language',\n",
       "  b'Language',\n",
       "  b'Cereb',\n",
       "  b'Dors PCC',\n",
       "  b'Cing-Ins',\n",
       "  b'Cing-Ins',\n",
       "  b'Cing-Ins',\n",
       "  b'Ant IPS',\n",
       "  b'Ant IPS'],\n",
       " 'description': b\"MSDL atlas\\r\\n\\r\\n\\r\\nNotes\\r\\n-----\\r\\nResult maps of sparse dictionary learning based on resting-state data.\\r\\n\\r\\nThis can be understand as a variant of ICA based on the assumption\\r\\nof sparsity rather than independence.\\r\\n\\r\\n\\r\\nContent\\r\\n-------\\r\\n    :'maps': Nifti images with the (probabilistic) region definitions\\r\\n    :'labels': CSV file specifying the label information\\r\\n\\r\\n\\r\\nReferences\\r\\n----------\\r\\nFor more information about this dataset's structure:\\r\\nhttps://team.inria.fr/parietal/18-2/spatial_patterns/spatial-patterns-in-resting-state/\\r\\n\\r\\nMulti-subject dictionary learning to segment an atlas of brain spontaneous activity Gael Varoquaux, Alexandre Gramfort, Fabian Pedregosa, Vincent Michel, Bertrand Thirion Information Processing in Medical Imaging, 2011, pp. 562-573, Lecture Notes in Computer Science\\r\\n\\r\\nLearning and comparing functional connectomes across subjects. Gael Varoquaux, R.C. Craddock NeuroImage, 2013\\r\\n\\r\\nLicence: usage is unrestricted for non-commercial research purposes.\\r\\n\"}"
      ]
     },
     "execution_count": 62,
     "metadata": {},
     "output_type": "execute_result"
    }
   ],
   "source": [
    "atlasC"
   ]
  },
  {
   "cell_type": "code",
   "execution_count": null,
   "metadata": {},
   "outputs": [],
   "source": []
  }
 ],
 "metadata": {
  "kernelspec": {
   "display_name": "Python 3",
   "language": "python",
   "name": "python3"
  },
  "language_info": {
   "codemirror_mode": {
    "name": "ipython",
    "version": 3
   },
   "file_extension": ".py",
   "mimetype": "text/x-python",
   "name": "python",
   "nbconvert_exporter": "python",
   "pygments_lexer": "ipython3",
   "version": "3.7.0"
  }
 },
 "nbformat": 4,
 "nbformat_minor": 4
}
