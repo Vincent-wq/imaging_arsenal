{
 "cells": [
  {
   "cell_type": "code",
   "execution_count": null,
   "metadata": {
    "collapsed": false,
    "jupyter": {
     "outputs_hidden": false
    }
   },
   "outputs": [],
   "source": [
    "%matplotlib inline"
   ]
  },
  {
   "cell_type": "markdown",
   "metadata": {},
   "source": [
    "\n",
    "Group Sparse inverse covariance for multi-subject connectome\n",
    "=============================================================\n",
    "\n",
    "This example shows how to estimate a connectome on a group of subjects\n",
    "using the group sparse inverse covariance estimate.\n"
   ]
  },
  {
   "cell_type": "code",
   "execution_count": null,
   "metadata": {
    "collapsed": false,
    "jupyter": {
     "outputs_hidden": false
    }
   },
   "outputs": [],
   "source": [
    "import numpy as np\n",
    "from nilearn import plotting\n",
    "n_subjects = 4  # subjects to consider for group-sparse covariance (max: 40)\n",
    "\n",
    "def plot_matrices(cov, prec, title, labels):\n",
    "    \"\"\"Plot covariance and precision matrices, for a given processing. \"\"\"\n",
    "    prec = prec.copy()  # avoid side effects\n",
    "    # Put zeros on the diagonal, for graph clarity.\n",
    "    size = prec.shape[0]\n",
    "    prec[list(range(size)), list(range(size))] = 0\n",
    "    span = max(abs(prec.min()), abs(prec.max()))\n",
    "\n",
    "    # Display covariance matrix\n",
    "    plotting.plot_matrix(cov, cmap=plotting.cm.bwr,\n",
    "                         vmin=-1, vmax=1, title=\"%s / covariance\" % title,\n",
    "                         labels=labels)\n",
    "    # Display precision matrix\n",
    "    plotting.plot_matrix(prec, cmap=plotting.cm.bwr,\n",
    "                         vmin=-span, vmax=span, title=\"%s / precision\" % title,\n",
    "                         labels=labels)"
   ]
  },
  {
   "cell_type": "markdown",
   "metadata": {},
   "source": [
    "Fetching datasets\n",
    "------------------\n",
    "\n"
   ]
  },
  {
   "cell_type": "code",
   "execution_count": null,
   "metadata": {
    "collapsed": false,
    "jupyter": {
     "outputs_hidden": false
    }
   },
   "outputs": [],
   "source": [
    "from nilearn import datasets\n",
    "msdl_atlas_dataset = datasets.fetch_atlas_msdl()\n",
    "rest_dataset = datasets.fetch_development_fmri(n_subjects=n_subjects)\n",
    "\n",
    "# print basic information on the dataset\n",
    "print('First subject functional nifti image (4D) is at: %s' %\n",
    "      rest_dataset.func[0])  # 4D data"
   ]
  },
  {
   "cell_type": "markdown",
   "metadata": {},
   "source": [
    "Extracting region signals\n",
    "--------------------------\n",
    "\n"
   ]
  },
  {
   "cell_type": "code",
   "execution_count": null,
   "metadata": {
    "collapsed": false,
    "jupyter": {
     "outputs_hidden": false
    }
   },
   "outputs": [],
   "source": [
    "from nilearn import image\n",
    "from nilearn import input_data\n",
    "\n",
    "# A \"memory\" to avoid recomputation\n",
    "from nilearn._utils.compat import Memory\n",
    "mem = Memory('nilearn_cache')\n",
    "\n",
    "masker = input_data.NiftiMapsMasker(\n",
    "    msdl_atlas_dataset.maps, resampling_target=\"maps\", detrend=True,\n",
    "    low_pass=None, high_pass=0.01, t_r=2, standardize=True,\n",
    "    memory='nilearn_cache', memory_level=1, verbose=2)\n",
    "masker.fit()\n",
    "\n",
    "subject_time_series = []\n",
    "func_filenames = rest_dataset.func\n",
    "confound_filenames = rest_dataset.confounds\n",
    "for func_filename, confound_filename in zip(func_filenames,\n",
    "                                            confound_filenames):\n",
    "    print(\"Processing file %s\" % func_filename)\n",
    "\n",
    "    # Computing some confounds\n",
    "    hv_confounds = mem.cache(image.high_variance_confounds)(\n",
    "        func_filename)\n",
    "\n",
    "    region_ts = masker.transform(func_filename,\n",
    "                                 confounds=[hv_confounds, confound_filename])\n",
    "    subject_time_series.append(region_ts)"
   ]
  },
  {
   "cell_type": "markdown",
   "metadata": {},
   "source": [
    "Computing group-sparse precision matrices\n",
    "------------------------------------------\n",
    "\n"
   ]
  },
  {
   "cell_type": "code",
   "execution_count": null,
   "metadata": {
    "collapsed": false,
    "jupyter": {
     "outputs_hidden": false
    }
   },
   "outputs": [],
   "source": [
    "from nilearn.connectome import GroupSparseCovarianceCV\n",
    "gsc = GroupSparseCovarianceCV(verbose=2)\n",
    "gsc.fit(subject_time_series)\n",
    "\n",
    "try:\n",
    "    from sklearn.covariance import GraphicalLassoCV\n",
    "except ImportError:\n",
    "    # for Scitkit-Learn < v0.20.0\n",
    "    from sklearn.covariance import GraphLassoCV as GraphicalLassoCV\n",
    "\n",
    "gl = GraphicalLassoCV(verbose=2)\n",
    "gl.fit(np.concatenate(subject_time_series))"
   ]
  },
  {
   "cell_type": "markdown",
   "metadata": {},
   "source": [
    "Displaying results\n",
    "-------------------\n",
    "\n"
   ]
  },
  {
   "cell_type": "code",
   "execution_count": null,
   "metadata": {
    "collapsed": false,
    "jupyter": {
     "outputs_hidden": false
    }
   },
   "outputs": [],
   "source": [
    "atlas_img = msdl_atlas_dataset.maps\n",
    "atlas_region_coords = plotting.find_probabilistic_atlas_cut_coords(atlas_img)\n",
    "labels = msdl_atlas_dataset.labels\n",
    "\n",
    "plotting.plot_connectome(gl.covariance_,\n",
    "                         atlas_region_coords, edge_threshold='90%',\n",
    "                         title=\"Covariance\",\n",
    "                         display_mode=\"lzr\")\n",
    "plotting.plot_connectome(-gl.precision_, atlas_region_coords,\n",
    "                         edge_threshold='90%',\n",
    "                         title=\"Sparse inverse covariance (GraphicalLasso)\",\n",
    "                         display_mode=\"lzr\",\n",
    "                         edge_vmax=.5, edge_vmin=-.5)\n",
    "plot_matrices(gl.covariance_, gl.precision_, \"GraphicalLasso\", labels)\n",
    "\n",
    "title = \"GroupSparseCovariance\"\n",
    "plotting.plot_connectome(-gsc.precisions_[..., 0],\n",
    "                         atlas_region_coords, edge_threshold='90%',\n",
    "                         title=title,\n",
    "                         display_mode=\"lzr\",\n",
    "                         edge_vmax=.5, edge_vmin=-.5)\n",
    "plot_matrices(gsc.covariances_[..., 0],\n",
    "              gsc.precisions_[..., 0], title, labels)\n",
    "\n",
    "plotting.show()"
   ]
  }
 ],
 "metadata": {
  "kernelspec": {
   "display_name": "Python 3",
   "language": "python",
   "name": "python3"
  },
  "language_info": {
   "codemirror_mode": {
    "name": "ipython",
    "version": 3
   },
   "file_extension": ".py",
   "mimetype": "text/x-python",
   "name": "python",
   "nbconvert_exporter": "python",
   "pygments_lexer": "ipython3",
   "version": "3.7.0"
  }
 },
 "nbformat": 4,
 "nbformat_minor": 4
}
