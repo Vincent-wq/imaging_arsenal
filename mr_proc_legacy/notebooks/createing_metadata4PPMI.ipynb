{
 "cells": [
  {
   "cell_type": "markdown",
   "metadata": {},
   "source": [
    "The purpoes of this notebook is to create a metadata file the includes all the subjects in differnet version of PPMI dataset on the BIC server. It includes:\n",
    "\n",
    "    1. PPMI_ver-sdMRI # subjects with both T1 and DWI\n",
    "\n",
    "    2. PPMI_ver-T1    # subjects with T1."
   ]
  },
  {
   "cell_type": "code",
   "execution_count": 1,
   "metadata": {},
   "outputs": [],
   "source": [
    "from pathlib import Path\n",
    "import pandas as pd\n",
    "\n",
    "#PATH\n",
    "codes_dir = Path(\"/scratch/mr_proc\")\n",
    "# in\n",
    "sdMRI_bids_file = codes_dir / \"metadata\" / \"ppmi\" / \"participants_sdMRI.tsv\"  # participants from bids dataset\n",
    "t1_bids_file    = codes_dir / \"metadata\" / \"ppmi\" / \"participants_T1.tsv\"     # participants from bids dataset\n",
    "meta_data_file  = codes_dir / \"metadata\" / \"ppmi\" / \"PPMI_all_T1_7_28_2022.csv\"  # PPMI all subejct meta data\n",
    "# out\n",
    "participant_file    = codes_dir / \"metadata\" / \"ppmi\" / \"participants.csv\"  "
   ]
  },
  {
   "cell_type": "code",
   "execution_count": 2,
   "metadata": {},
   "outputs": [
    {
     "name": "stdout",
     "output_type": "stream",
     "text": [
      "N subjects in sdMRI BIDS:  560\n",
      "N subjects in T1    BIDS:  1239\n"
     ]
    }
   ],
   "source": [
    "sdMRI_df = pd.read_csv(sdMRI_bids_file, sep='\\t')\n",
    "t1_df    = pd.read_csv(t1_bids_file, sep='\\t')\n",
    "print('N subjects in sdMRI BIDS: ', len(sdMRI_df.participant_id.unique()))\n",
    "print('N subjects in T1    BIDS: ', len(t1_df.participant_id.unique()))"
   ]
  },
  {
   "cell_type": "code",
   "execution_count": 3,
   "metadata": {},
   "outputs": [
    {
     "name": "stdout",
     "output_type": "stream",
     "text": [
      "Number of subjects in all data:  1277\n"
     ]
    },
    {
     "data": {
      "text/html": [
       "<div>\n",
       "<style scoped>\n",
       "    .dataframe tbody tr th:only-of-type {\n",
       "        vertical-align: middle;\n",
       "    }\n",
       "\n",
       "    .dataframe tbody tr th {\n",
       "        vertical-align: top;\n",
       "    }\n",
       "\n",
       "    .dataframe thead th {\n",
       "        text-align: right;\n",
       "    }\n",
       "</style>\n",
       "<table border=\"1\" class=\"dataframe\">\n",
       "  <thead>\n",
       "    <tr style=\"text-align: right;\">\n",
       "      <th></th>\n",
       "      <th>Subject</th>\n",
       "      <th>Age</th>\n",
       "      <th>Sex</th>\n",
       "      <th>Group</th>\n",
       "      <th>Visit</th>\n",
       "    </tr>\n",
       "  </thead>\n",
       "  <tbody>\n",
       "    <tr>\n",
       "      <th>3927</th>\n",
       "      <td>sub-01218AUG16</td>\n",
       "      <td>56</td>\n",
       "      <td>X</td>\n",
       "      <td>Phantom</td>\n",
       "      <td>0</td>\n",
       "    </tr>\n",
       "    <tr>\n",
       "      <th>3926</th>\n",
       "      <td>sub-01221JUL16</td>\n",
       "      <td>56</td>\n",
       "      <td>X</td>\n",
       "      <td>Phantom</td>\n",
       "      <td>0</td>\n",
       "    </tr>\n",
       "    <tr>\n",
       "      <th>3923</th>\n",
       "      <td>sub-08827APR11</td>\n",
       "      <td>39</td>\n",
       "      <td>M</td>\n",
       "      <td>Phantom</td>\n",
       "      <td>1</td>\n",
       "    </tr>\n",
       "    <tr>\n",
       "      <th>3908</th>\n",
       "      <td>sub-100001</td>\n",
       "      <td>67</td>\n",
       "      <td>M</td>\n",
       "      <td>PD</td>\n",
       "      <td>1</td>\n",
       "    </tr>\n",
       "    <tr>\n",
       "      <th>3902</th>\n",
       "      <td>sub-100005</td>\n",
       "      <td>53</td>\n",
       "      <td>M</td>\n",
       "      <td>PD</td>\n",
       "      <td>1</td>\n",
       "    </tr>\n",
       "  </tbody>\n",
       "</table>\n",
       "</div>"
      ],
      "text/plain": [
       "             Subject  Age Sex    Group  Visit\n",
       "3927  sub-01218AUG16   56   X  Phantom      0\n",
       "3926  sub-01221JUL16   56   X  Phantom      0\n",
       "3923  sub-08827APR11   39   M  Phantom      1\n",
       "3908      sub-100001   67   M       PD      1\n",
       "3902      sub-100005   53   M       PD      1"
      ]
     },
     "execution_count": 3,
     "metadata": {},
     "output_type": "execute_result"
    }
   ],
   "source": [
    "meta_df  = pd.read_csv(meta_data_file)\n",
    "meta_df=meta_df.loc[:,['Subject','Age', 'Sex', 'Group','Visit']].drop_duplicates()\n",
    "meta_df=meta_df.sort_values(by=['Subject','Visit'], ascending=True).drop_duplicates(subset='Subject', keep='first')\n",
    "meta_df.loc[:,'Subject']=meta_df.loc[:,'Subject'].apply(lambda x: 'sub-'+str(x))\n",
    "print('Number of subjects in all data: ', len(meta_df.Subject.unique()))\n",
    "meta_df.head(5)"
   ]
  },
  {
   "cell_type": "code",
   "execution_count": 4,
   "metadata": {},
   "outputs": [
    {
     "name": "stdout",
     "output_type": "stream",
     "text": [
      "Total number of mered subjects:  1240\n",
      "Total number of merged groups:  7 , and they are: \n",
      "['Phantom' 'PD' 'Prodromal' 'Control' 'SWEDD' 'GenReg Unaff' 'AV133']\n"
     ]
    },
    {
     "name": "stderr",
     "output_type": "stream",
     "text": [
      "/tmp/ipykernel_32514/2139515272.py:4: SettingWithCopyWarning: \n",
      "A value is trying to be set on a copy of a slice from a DataFrame\n",
      "\n",
      "See the caveats in the documentation: https://pandas.pydata.org/pandas-docs/stable/user_guide/indexing.html#returning-a-view-versus-a-copy\n",
      "  participant_df.rename(columns = {'Subject':'participant_id', 'Age':'age', 'Sex':'sex', 'Group':'group'}, inplace = True)\n"
     ]
    },
    {
     "data": {
      "text/html": [
       "<div>\n",
       "<style scoped>\n",
       "    .dataframe tbody tr th:only-of-type {\n",
       "        vertical-align: middle;\n",
       "    }\n",
       "\n",
       "    .dataframe tbody tr th {\n",
       "        vertical-align: top;\n",
       "    }\n",
       "\n",
       "    .dataframe thead th {\n",
       "        text-align: right;\n",
       "    }\n",
       "</style>\n",
       "<table border=\"1\" class=\"dataframe\">\n",
       "  <thead>\n",
       "    <tr style=\"text-align: right;\">\n",
       "      <th></th>\n",
       "      <th>participant_id</th>\n",
       "      <th>age</th>\n",
       "      <th>sex</th>\n",
       "      <th>group</th>\n",
       "    </tr>\n",
       "  </thead>\n",
       "  <tbody>\n",
       "    <tr>\n",
       "      <th>3927</th>\n",
       "      <td>sub-01218AUG16</td>\n",
       "      <td>56</td>\n",
       "      <td>X</td>\n",
       "      <td>Phantom</td>\n",
       "    </tr>\n",
       "    <tr>\n",
       "      <th>3926</th>\n",
       "      <td>sub-01221JUL16</td>\n",
       "      <td>56</td>\n",
       "      <td>X</td>\n",
       "      <td>Phantom</td>\n",
       "    </tr>\n",
       "    <tr>\n",
       "      <th>3923</th>\n",
       "      <td>sub-08827APR11</td>\n",
       "      <td>39</td>\n",
       "      <td>M</td>\n",
       "      <td>Phantom</td>\n",
       "    </tr>\n",
       "    <tr>\n",
       "      <th>3908</th>\n",
       "      <td>sub-100001</td>\n",
       "      <td>67</td>\n",
       "      <td>M</td>\n",
       "      <td>PD</td>\n",
       "    </tr>\n",
       "    <tr>\n",
       "      <th>3902</th>\n",
       "      <td>sub-100005</td>\n",
       "      <td>53</td>\n",
       "      <td>M</td>\n",
       "      <td>PD</td>\n",
       "    </tr>\n",
       "  </tbody>\n",
       "</table>\n",
       "</div>"
      ],
      "text/plain": [
       "      participant_id  age sex    group\n",
       "3927  sub-01218AUG16   56   X  Phantom\n",
       "3926  sub-01221JUL16   56   X  Phantom\n",
       "3923  sub-08827APR11   39   M  Phantom\n",
       "3908      sub-100001   67   M       PD\n",
       "3902      sub-100005   53   M       PD"
      ]
     },
     "execution_count": 4,
     "metadata": {},
     "output_type": "execute_result"
    }
   ],
   "source": [
    "participant_list=list(pd.concat([sdMRI_df, t1_df]).participant_id.unique())\n",
    "participant_df = meta_df[meta_df['Subject'].isin(participant_list)]\n",
    "#participant_df.loc[:,['participant_id','age','sex','group']]=participant_df.loc[:,['Subject','Age','Sex','Group']]\n",
    "participant_df.rename(columns = {'Subject':'participant_id', 'Age':'age', 'Sex':'sex', 'Group':'group'}, inplace = True)\n",
    "participant_df=participant_df.drop(columns=['Visit'])\n",
    "print('Total number of mered subjects: ', len(participant_df.participant_id.unique()))\n",
    "print('Total number of merged groups: ', len(participant_df.group.unique()), ', and they are: ')\n",
    "print(participant_df.group.unique())\n",
    "participant_df.head(5)"
   ]
  },
  {
   "cell_type": "code",
   "execution_count": 17,
   "metadata": {},
   "outputs": [],
   "source": [
    "# Save file\n",
    "participant_df.to_csv(participant_file, index=False)"
   ]
  },
  {
   "cell_type": "markdown",
   "metadata": {},
   "source": []
  }
 ],
 "metadata": {
  "kernelspec": {
   "display_name": "Python 3.9.12 ('base')",
   "language": "python",
   "name": "python3"
  },
  "language_info": {
   "codemirror_mode": {
    "name": "ipython",
    "version": 3
   },
   "file_extension": ".py",
   "mimetype": "text/x-python",
   "name": "python",
   "nbconvert_exporter": "python",
   "pygments_lexer": "ipython3",
   "version": "3.9.12"
  },
  "orig_nbformat": 4,
  "vscode": {
   "interpreter": {
    "hash": "d4d1e4263499bec80672ea0156c357c1ee493ec2b1c70f0acce89fc37c4a6abe"
   }
  }
 },
 "nbformat": 4,
 "nbformat_minor": 2
}
